{
 "cells": [
  {
   "cell_type": "code",
   "execution_count": 20,
   "id": "26de6ba5",
   "metadata": {},
   "outputs": [
    {
     "name": "stdout",
     "output_type": "stream",
     "text": [
      "The autoreload extension is already loaded. To reload it, use:\n",
      "  %reload_ext autoreload\n"
     ]
    }
   ],
   "source": [
    "# Libraries\n",
    "import warnings\n",
    "import numpy as np\n",
    "import pandas as pd\n",
    "import seaborn as sns\n",
    "import helperfunctions as hf\n",
    "import matplotlib.pyplot as plt\n",
    "from scipy.stats import pearsonr\n",
    "from sklearn.pipeline import Pipeline\n",
    "from sklearn.preprocessing import StandardScaler, MinMaxScaler\n",
    "from sklearn.metrics import mean_squared_error as mse\n",
    "from sklearn.metrics import r2_score as r2 \n",
    "from sklearn.linear_model import LinearRegression, Ridge\n",
    "from sklearn.feature_selection import SelectKBest, f_regression, VarianceThreshold\n",
    "from IPython.core.interactiveshell import InteractiveShell\n",
    "\n",
    "# Notebook Settings \n",
    "warnings.simplefilter(action='ignore', category=FutureWarning)\n",
    "warnings.filterwarnings(\"error\")\n",
    "pd.set_option('display.max_columns', 500)\n",
    "InteractiveShell.ast_node_interactivity = \"all\"\n",
    "%load_ext autoreload\n",
    "%autoreload 2\n",
    "\n",
    "# Variables\n",
    "crop_seasons = list(range(1993,2017))\n",
    "months_of_crop_season = list(range(4,12))\n",
    "homogeneous_groups = list(range(1,5))"
   ]
  },
  {
   "cell_type": "markdown",
   "id": "2d1ef0eb",
   "metadata": {},
   "source": [
    "## Content\n",
    "* [1. Read Data](#read_data)\n",
    "* [2. Bias-Adjustment](#bias_adjustment)\n",
    "* [3. Dataset Completion](#dataset_completion)\n",
    "* [4. Feature Preparation](#feature_preparation)\n",
    "* [5. Include Yield Data](#yield_data)\n",
    "* [6. K-Fold Cross Validation](#cross_validation)\n",
    "* [7. Visualization](#visualization)"
   ]
  },
  {
   "cell_type": "markdown",
   "id": "1b14399b",
   "metadata": {},
   "source": [
    "## Abstract"
   ]
  },
  {
   "cell_type": "markdown",
   "id": "be6431a7",
   "metadata": {},
   "source": [
    "The amount of wheat imports to Brazil depend on its national production. Wheat production failures and price increases can be anticipated before harvest with wheat yield forecast systems. The goal of this study was to analyze how seasonal climatology_copy models can be useful to forecast national trend-corrected wheat yield in Brazil. We used monthly aggregated temperature and precipitation data during the last three months of the wheat growing season from August to October to train a ridge regression model. The studied climatology_copy models were from the European Center for Medium-Range Weather Forecasts (ECMWF), the National Centers for Environmental Prediction (NCEP), and the UK-based Met Office (UKMO). We further tested a multi-model ensembles (MME) approach of the three climate models as well as a climatological approach, whose forecasts for each site, and month is based on historical climate. For every season from 1993-2016, we initialized forecasts at the beginning of each month during the crop season from April to October. From August on, we supplemented climate features from past months with observations. Wheat yield anomaly forecasts improved towards harvest. For some models and month of forecast initialization, the climatological approach performed better than single seasonal climate models. However, the multi-model ensemble as well as the ECMWF-based wheat yield forecasts consistently outperformed climatology and two months before harvest wheat yield could be forecasted with 9%, 9.1%, and 10.1% RMSE respectively. Our results demonstrated that seasonal climate models and their aggregation to multi-model ensembles provide valuable information to anticipate possible wheat production shortcomings in Brazil."
   ]
  },
  {
   "cell_type": "markdown",
   "id": "f00b2ffb",
   "metadata": {},
   "source": [
    "## 1. Read Data <a name=\"read_data\"></a>"
   ]
  },
  {
   "cell_type": "markdown",
   "id": "983e8257",
   "metadata": {},
   "source": [
    "Our approach requires three sources of climate data: seasonal climate models (hindcasts), observations, and climatology.\n",
    "- **hindcasts**: There are three seasonal climate models that we requested data from: ECMWF, UKMO, NCEP. We also computed an unweighted average of the outputs of the three climatology_copy models to have a multi-model ensemble output (MME). We requested retrospective seasonal climatology_copy forecasts, called hindcasts from 1993 to 2016 for four locations (zones) in Brazil. The locations were selected based on the findings from Nóia Júnior et al. ([2021](https://iopscience.iop.org/article/10.1088/1748-9326/ac26f3)). For each model, year, and location, we requested seven hindcasts, initialized at the beginning of each month during the wheat growing season from April to October and forecasting precipitation and temperature data until the end of the season.\n",
    "- **observations**: We also need climate observations from the same four locations ([Nóia Júnior et al., 2021](https://iopscience.iop.org/article/10.1088/1748-9326/ac26f3)) from 1993 to 2016 along the wheat growing season from April to October. This data is used for bias-adjustment of the hindcasts but also for the wheat yield forecast model. When a forecast is provided in month *m*, climate features from past month are supplemented with climate observations, while future months are based on forecasted climate features. Additionally, we need climate observations to calculate expected, *normal*, climate conditions (climatology) to benchmark our approach with. \n",
    "- **climatology**: For each location, month, climate variable, and year *y*, we compute the average from observations from the same location, month, climate variable, and all other years except year *y* from 1993 to 2016."
   ]
  },
  {
   "cell_type": "code",
   "execution_count": 21,
   "id": "0fd0f701",
   "metadata": {},
   "outputs": [
    {
     "data": {
      "text/html": [
       "<div>\n",
       "<style scoped>\n",
       "    .dataframe tbody tr th:only-of-type {\n",
       "        vertical-align: middle;\n",
       "    }\n",
       "\n",
       "    .dataframe tbody tr th {\n",
       "        vertical-align: top;\n",
       "    }\n",
       "\n",
       "    .dataframe thead th {\n",
       "        text-align: right;\n",
       "    }\n",
       "</style>\n",
       "<table border=\"1\" class=\"dataframe\">\n",
       "  <thead>\n",
       "    <tr style=\"text-align: right;\">\n",
       "      <th></th>\n",
       "      <th></th>\n",
       "      <th></th>\n",
       "      <th></th>\n",
       "      <th></th>\n",
       "      <th>time</th>\n",
       "      <th>tmean</th>\n",
       "      <th>tmax</th>\n",
       "      <th>tmin</th>\n",
       "      <th>rain</th>\n",
       "    </tr>\n",
       "    <tr>\n",
       "      <th>model</th>\n",
       "      <th>init_month</th>\n",
       "      <th>zone</th>\n",
       "      <th>year</th>\n",
       "      <th>month</th>\n",
       "      <th></th>\n",
       "      <th></th>\n",
       "      <th></th>\n",
       "      <th></th>\n",
       "      <th></th>\n",
       "    </tr>\n",
       "  </thead>\n",
       "  <tbody>\n",
       "    <tr>\n",
       "      <th>ECMWF</th>\n",
       "      <th>4</th>\n",
       "      <th>1</th>\n",
       "      <th>1993</th>\n",
       "      <th>8</th>\n",
       "      <td>1993-08-01</td>\n",
       "      <td>10.479694</td>\n",
       "      <td>16.949674</td>\n",
       "      <td>6.975128</td>\n",
       "      <td>2.893066</td>\n",
       "    </tr>\n",
       "  </tbody>\n",
       "</table>\n",
       "</div>"
      ],
      "text/plain": [
       "                                       time      tmean       tmax      tmin  \\\n",
       "model init_month zone year month                                              \n",
       "ECMWF 4          1    1993 8     1993-08-01  10.479694  16.949674  6.975128   \n",
       "\n",
       "                                      rain  \n",
       "model init_month zone year month            \n",
       "ECMWF 4          1    1993 8      2.893066  "
      ]
     },
     "execution_count": 21,
     "metadata": {},
     "output_type": "execute_result"
    },
    {
     "data": {
      "text/html": [
       "<div>\n",
       "<style scoped>\n",
       "    .dataframe tbody tr th:only-of-type {\n",
       "        vertical-align: middle;\n",
       "    }\n",
       "\n",
       "    .dataframe tbody tr th {\n",
       "        vertical-align: top;\n",
       "    }\n",
       "\n",
       "    .dataframe thead th {\n",
       "        text-align: right;\n",
       "    }\n",
       "</style>\n",
       "<table border=\"1\" class=\"dataframe\">\n",
       "  <thead>\n",
       "    <tr style=\"text-align: right;\">\n",
       "      <th></th>\n",
       "      <th></th>\n",
       "      <th></th>\n",
       "      <th></th>\n",
       "      <th></th>\n",
       "      <th>time</th>\n",
       "      <th>tmean</th>\n",
       "      <th>tmax</th>\n",
       "      <th>tmin</th>\n",
       "      <th>rain</th>\n",
       "    </tr>\n",
       "    <tr>\n",
       "      <th>model</th>\n",
       "      <th>init_month</th>\n",
       "      <th>zone</th>\n",
       "      <th>year</th>\n",
       "      <th>month</th>\n",
       "      <th></th>\n",
       "      <th></th>\n",
       "      <th></th>\n",
       "      <th></th>\n",
       "      <th></th>\n",
       "    </tr>\n",
       "  </thead>\n",
       "  <tbody>\n",
       "    <tr>\n",
       "      <th>WS</th>\n",
       "      <th>11</th>\n",
       "      <th>1</th>\n",
       "      <th>1993</th>\n",
       "      <th>8</th>\n",
       "      <td>1993-08-01</td>\n",
       "      <td>5.9</td>\n",
       "      <td>9.8</td>\n",
       "      <td>2.0</td>\n",
       "      <td>0.0</td>\n",
       "    </tr>\n",
       "  </tbody>\n",
       "</table>\n",
       "</div>"
      ],
      "text/plain": [
       "                                       time  tmean  tmax  tmin  rain\n",
       "model init_month zone year month                                    \n",
       "WS    11         1    1993 8     1993-08-01    5.9   9.8   2.0   0.0"
      ]
     },
     "execution_count": 21,
     "metadata": {},
     "output_type": "execute_result"
    },
    {
     "data": {
      "text/html": [
       "<div>\n",
       "<style scoped>\n",
       "    .dataframe tbody tr th:only-of-type {\n",
       "        vertical-align: middle;\n",
       "    }\n",
       "\n",
       "    .dataframe tbody tr th {\n",
       "        vertical-align: top;\n",
       "    }\n",
       "\n",
       "    .dataframe thead th {\n",
       "        text-align: right;\n",
       "    }\n",
       "</style>\n",
       "<table border=\"1\" class=\"dataframe\">\n",
       "  <thead>\n",
       "    <tr style=\"text-align: right;\">\n",
       "      <th></th>\n",
       "      <th>zone</th>\n",
       "      <th>year</th>\n",
       "      <th>month</th>\n",
       "      <th>tmean</th>\n",
       "      <th>tmax</th>\n",
       "      <th>tmin</th>\n",
       "      <th>rain</th>\n",
       "    </tr>\n",
       "  </thead>\n",
       "  <tbody>\n",
       "    <tr>\n",
       "      <th>0</th>\n",
       "      <td>1</td>\n",
       "      <td>1993</td>\n",
       "      <td>8</td>\n",
       "      <td>15.432539</td>\n",
       "      <td>20.681767</td>\n",
       "      <td>10.18331</td>\n",
       "      <td>156.791304</td>\n",
       "    </tr>\n",
       "  </tbody>\n",
       "</table>\n",
       "</div>"
      ],
      "text/plain": [
       "   zone  year  month      tmean       tmax      tmin        rain\n",
       "0     1  1993      8  15.432539  20.681767  10.18331  156.791304"
      ]
     },
     "execution_count": 21,
     "metadata": {},
     "output_type": "execute_result"
    }
   ],
   "source": [
    "hindcasts = hf.read_raw_model_data() # 1993-2016\n",
    "observations = hf.read_observed_weather() # 1993-2016\n",
    "climatology = hf.create_climatology_data(observations) # Leave-One-Out 1993-2016\n",
    "\n",
    "observations = observations.loc[(\"WS\", 11, [1, 2, 3, 4], list(range(1993, 2017)))] # 1993-2016\n",
    "\n",
    "hindcasts.head(1)\n",
    "observations.head(1)\n",
    "climatology.head(1)"
   ]
  },
  {
   "cell_type": "markdown",
   "id": "e464a220",
   "metadata": {},
   "source": [
    "## 2. Bias-Adjustment <a name=\"bias_adjustment\"></a>\n",
    "\n",
    "Biases are systematic errors between forecasts and observations that come from inaccuracies in the model design and the sensitivity of climate models to initial conditions (see, e.g. [ECMWF-Wiki](https://confluence.ecmwf.int/display/CKB/Seasonal+forecasts+and+the+Copernicus+Climate+Change+Service)). We use [scaled (normal) distribution mapping](https://hess.copernicus.org/articles/21/2649/2017/) to adjust biases in forecasted daily mean, maximum, and minimum air temperature. We do not apply any bias adjustment to rain forecasts as it did not lead to improvements in mean absolut error. We adjust temperature values by *model*, *init_month*, *zone*, and *month* for each year *y* using observations and hindcasts from all other years (Leave-One-Out) to avoid overfitting."
   ]
  },
  {
   "cell_type": "code",
   "execution_count": 22,
   "id": "dd7a8301",
   "metadata": {},
   "outputs": [],
   "source": [
    "hindcasts_temp_adjusted = hf.adjust_mean_temperature_bias(observations, hindcasts)"
   ]
  },
  {
   "cell_type": "markdown",
   "id": "f9aaab02",
   "metadata": {},
   "source": [
    "## 3. Dataset Completion <a name=\"dataset_completion\"></a>"
   ]
  },
  {
   "cell_type": "markdown",
   "id": "b11dbf57",
   "metadata": {},
   "source": [
    "We need monthly climate features for August, September, and October. Hindcasts that are initialized between April and July provide forecasts over the entire relevant period from August to October. Hindcasts that are initialized later, e.g. in September, need to be supplemented with climate observations for days in the relevant period that are in the past, e.g. August."
   ]
  },
  {
   "cell_type": "code",
   "execution_count": 23,
   "id": "48b6f8d9",
   "metadata": {},
   "outputs": [],
   "source": [
    "hindcast_complete = hf.fill_missing_dates_with_observations(observations, hindcasts_temp_adjusted) "
   ]
  },
  {
   "cell_type": "markdown",
   "id": "3fdb89fb",
   "metadata": {},
   "source": [
    "Validation that for each *model*, *init_month*, *zone*, and *year* we have the same number of observations: 31 days for Aug + 30 days for Sept + 31 days for Oct."
   ]
  },
  {
   "cell_type": "code",
   "execution_count": 24,
   "id": "bb3e4a05",
   "metadata": {},
   "outputs": [
    {
     "data": {
      "text/plain": [
       "array([92], dtype=int64)"
      ]
     },
     "execution_count": 24,
     "metadata": {},
     "output_type": "execute_result"
    }
   ],
   "source": [
    "hindcast_complete.reset_index().groupby([\"model\", \"init_month\", \"zone\", \"year\"]).size().unique()"
   ]
  },
  {
   "cell_type": "markdown",
   "id": "342e2d98",
   "metadata": {},
   "source": [
    "We concatenate the hindcasted daily values with the fully observed daily values."
   ]
  },
  {
   "cell_type": "code",
   "execution_count": 25,
   "id": "96622aad",
   "metadata": {},
   "outputs": [],
   "source": [
    "climate_records_complete = pd.concat([hindcast_complete, observations]).sort_index()"
   ]
  },
  {
   "cell_type": "markdown",
   "id": "e412b4b8",
   "metadata": {},
   "source": [
    "## 4. Feature Preparation <a name=\"feature_preparation\"></a>"
   ]
  },
  {
   "cell_type": "markdown",
   "id": "b624d8e3",
   "metadata": {},
   "source": [
    "### 4.1 Feature Computation "
   ]
  },
  {
   "cell_type": "markdown",
   "id": "681f6fc2",
   "metadata": {},
   "source": [
    "From the daily values we calculate monthly climate indices."
   ]
  },
  {
   "cell_type": "code",
   "execution_count": 26,
   "id": "505f0242",
   "metadata": {
    "scrolled": false
   },
   "outputs": [
    {
     "data": {
      "text/html": [
       "<div>\n",
       "<style scoped>\n",
       "    .dataframe tbody tr th:only-of-type {\n",
       "        vertical-align: middle;\n",
       "    }\n",
       "\n",
       "    .dataframe tbody tr th {\n",
       "        vertical-align: top;\n",
       "    }\n",
       "\n",
       "    .dataframe thead th {\n",
       "        text-align: right;\n",
       "    }\n",
       "</style>\n",
       "<table border=\"1\" class=\"dataframe\">\n",
       "  <thead>\n",
       "    <tr style=\"text-align: right;\">\n",
       "      <th></th>\n",
       "      <th>model</th>\n",
       "      <th>init_month</th>\n",
       "      <th>zone</th>\n",
       "      <th>year</th>\n",
       "      <th>Tmean_Aug</th>\n",
       "      <th>Tmean_Oct</th>\n",
       "      <th>Tmean_Sep</th>\n",
       "      <th>Tmax_Aug</th>\n",
       "      <th>Tmax_Oct</th>\n",
       "      <th>Tmax_Sep</th>\n",
       "      <th>Tmin_Aug</th>\n",
       "      <th>Tmin_Oct</th>\n",
       "      <th>Tmin_Sep</th>\n",
       "      <th>Rain_Aug</th>\n",
       "      <th>Rain_Oct</th>\n",
       "      <th>Rain_Sep</th>\n",
       "    </tr>\n",
       "  </thead>\n",
       "  <tbody>\n",
       "    <tr>\n",
       "      <th>0</th>\n",
       "      <td>ECMWF</td>\n",
       "      <td>4</td>\n",
       "      <td>1</td>\n",
       "      <td>1993</td>\n",
       "      <td>15.056569</td>\n",
       "      <td>19.002330</td>\n",
       "      <td>16.206275</td>\n",
       "      <td>20.066604</td>\n",
       "      <td>24.250512</td>\n",
       "      <td>21.442299</td>\n",
       "      <td>9.777410</td>\n",
       "      <td>13.857031</td>\n",
       "      <td>11.072509</td>\n",
       "      <td>165.319824</td>\n",
       "      <td>223.339844</td>\n",
       "      <td>177.917481</td>\n",
       "    </tr>\n",
       "    <tr>\n",
       "      <th>1</th>\n",
       "      <td>ECMWF</td>\n",
       "      <td>4</td>\n",
       "      <td>1</td>\n",
       "      <td>1994</td>\n",
       "      <td>15.019860</td>\n",
       "      <td>18.899465</td>\n",
       "      <td>15.657911</td>\n",
       "      <td>20.211710</td>\n",
       "      <td>24.296008</td>\n",
       "      <td>20.712760</td>\n",
       "      <td>9.849027</td>\n",
       "      <td>13.576093</td>\n",
       "      <td>10.618096</td>\n",
       "      <td>168.437500</td>\n",
       "      <td>221.113281</td>\n",
       "      <td>203.830566</td>\n",
       "    </tr>\n",
       "  </tbody>\n",
       "</table>\n",
       "</div>"
      ],
      "text/plain": [
       "   model  init_month  zone  year  Tmean_Aug  Tmean_Oct  Tmean_Sep   Tmax_Aug  \\\n",
       "0  ECMWF           4     1  1993  15.056569  19.002330  16.206275  20.066604   \n",
       "1  ECMWF           4     1  1994  15.019860  18.899465  15.657911  20.211710   \n",
       "\n",
       "    Tmax_Oct   Tmax_Sep  Tmin_Aug   Tmin_Oct   Tmin_Sep    Rain_Aug  \\\n",
       "0  24.250512  21.442299  9.777410  13.857031  11.072509  165.319824   \n",
       "1  24.296008  20.712760  9.849027  13.576093  10.618096  168.437500   \n",
       "\n",
       "     Rain_Oct    Rain_Sep  \n",
       "0  223.339844  177.917481  \n",
       "1  221.113281  203.830566  "
      ]
     },
     "execution_count": 26,
     "metadata": {},
     "output_type": "execute_result"
    }
   ],
   "source": [
    "features_hindcasts_observations = hf.aggregate_data(climate_records_complete)\n",
    "features_hindcasts_observations.head(2)"
   ]
  },
  {
   "cell_type": "markdown",
   "id": "1d1151ea",
   "metadata": {},
   "source": [
    "We include climatology features."
   ]
  },
  {
   "cell_type": "code",
   "execution_count": 27,
   "id": "b8bd246d",
   "metadata": {},
   "outputs": [],
   "source": [
    "features_climatology = hf.create_climatology_features(features_hindcasts_observations, climatology)\n",
    "features_complete = (pd\n",
    "                     .concat([features_hindcasts_observations, features_climatology])\n",
    "                     .sort_values([\"model\", \"init_month\", \"zone\", \"year\"])\n",
    "                     .drop_duplicates()\n",
    "                     .reset_index(drop=True))"
   ]
  },
  {
   "cell_type": "markdown",
   "id": "7d25978e",
   "metadata": {},
   "source": [
    "### 4.2 Remove Correlated Features"
   ]
  },
  {
   "cell_type": "markdown",
   "id": "75d9bfea",
   "metadata": {},
   "source": [
    "We will fit our model on observed monthly climate features from August to October. Features need to be uncorrelated, which is why we will drop columns that have a correlation coefficient higher than 0.9."
   ]
  },
  {
   "cell_type": "code",
   "execution_count": 28,
   "id": "34021e76",
   "metadata": {},
   "outputs": [
    {
     "name": "stdout",
     "output_type": "stream",
     "text": [
      "['Tmax_Aug', 'Tmax_Oct', 'Tmax_Sep', 'Tmin_Aug', 'Tmin_Oct', 'Tmin_Sep']\n"
     ]
    }
   ],
   "source": [
    "relevant_columns = ['Tmean_Aug', 'Tmean_Oct', 'Tmean_Sep', 'Tmax_Aug', 'Tmax_Oct', 'Tmax_Sep', 'Tmin_Aug', 'Tmin_Oct', 'Tmin_Sep', 'Rain_Aug', 'Rain_Oct', 'Rain_Sep']\n",
    "values = features_complete.loc[(features_complete[\"model\"] == \"WS\"), relevant_columns]\n",
    "cor_matrix = values.corr().abs().round(2)\n",
    "upper_tri = cor_matrix.where(np.triu(np.ones(cor_matrix.shape),k=1).astype(bool))\n",
    "to_drop = [column for column in upper_tri.columns if any(upper_tri[column] > 0.9)]\n",
    "print(to_drop)\n",
    "\n",
    "features_complete = features_complete.drop(to_drop, axis=1)"
   ]
  },
  {
   "cell_type": "code",
   "execution_count": 29,
   "id": "4218bd9f",
   "metadata": {},
   "outputs": [
    {
     "data": {
      "text/html": [
       "<div>\n",
       "<style scoped>\n",
       "    .dataframe tbody tr th:only-of-type {\n",
       "        vertical-align: middle;\n",
       "    }\n",
       "\n",
       "    .dataframe tbody tr th {\n",
       "        vertical-align: top;\n",
       "    }\n",
       "\n",
       "    .dataframe thead th {\n",
       "        text-align: right;\n",
       "    }\n",
       "</style>\n",
       "<table border=\"1\" class=\"dataframe\">\n",
       "  <thead>\n",
       "    <tr style=\"text-align: right;\">\n",
       "      <th></th>\n",
       "      <th>model</th>\n",
       "      <th>init_month</th>\n",
       "      <th>zone</th>\n",
       "      <th>year</th>\n",
       "      <th>Tmean_Aug</th>\n",
       "      <th>Tmean_Oct</th>\n",
       "      <th>Tmean_Sep</th>\n",
       "      <th>Rain_Aug</th>\n",
       "      <th>Rain_Oct</th>\n",
       "      <th>Rain_Sep</th>\n",
       "    </tr>\n",
       "  </thead>\n",
       "  <tbody>\n",
       "    <tr>\n",
       "      <th>246</th>\n",
       "      <td>CLIMATE</td>\n",
       "      <td>6</td>\n",
       "      <td>3</td>\n",
       "      <td>1999</td>\n",
       "      <td>18.731349</td>\n",
       "      <td>22.219108</td>\n",
       "      <td>20.096034</td>\n",
       "      <td>70.139130</td>\n",
       "      <td>192.143478</td>\n",
       "      <td>139.960870</td>\n",
       "    </tr>\n",
       "    <tr>\n",
       "      <th>622</th>\n",
       "      <td>CLIMATE</td>\n",
       "      <td>10</td>\n",
       "      <td>2</td>\n",
       "      <td>2015</td>\n",
       "      <td>21.651613</td>\n",
       "      <td>23.526526</td>\n",
       "      <td>23.320000</td>\n",
       "      <td>35.000000</td>\n",
       "      <td>149.839130</td>\n",
       "      <td>269.000000</td>\n",
       "    </tr>\n",
       "    <tr>\n",
       "      <th>388</th>\n",
       "      <td>CLIMATE</td>\n",
       "      <td>8</td>\n",
       "      <td>1</td>\n",
       "      <td>1997</td>\n",
       "      <td>15.398527</td>\n",
       "      <td>18.892286</td>\n",
       "      <td>16.043696</td>\n",
       "      <td>146.256522</td>\n",
       "      <td>229.526087</td>\n",
       "      <td>179.695652</td>\n",
       "    </tr>\n",
       "    <tr>\n",
       "      <th>2388</th>\n",
       "      <td>NCEP</td>\n",
       "      <td>4</td>\n",
       "      <td>4</td>\n",
       "      <td>2005</td>\n",
       "      <td>16.193774</td>\n",
       "      <td>18.786277</td>\n",
       "      <td>16.482610</td>\n",
       "      <td>82.411727</td>\n",
       "      <td>185.616196</td>\n",
       "      <td>173.491669</td>\n",
       "    </tr>\n",
       "    <tr>\n",
       "      <th>1664</th>\n",
       "      <td>MME</td>\n",
       "      <td>5</td>\n",
       "      <td>2</td>\n",
       "      <td>2001</td>\n",
       "      <td>21.286832</td>\n",
       "      <td>24.042869</td>\n",
       "      <td>22.535409</td>\n",
       "      <td>61.985553</td>\n",
       "      <td>139.637591</td>\n",
       "      <td>67.404449</td>\n",
       "    </tr>\n",
       "  </tbody>\n",
       "</table>\n",
       "</div>"
      ],
      "text/plain": [
       "        model  init_month  zone  year  Tmean_Aug  Tmean_Oct  Tmean_Sep  \\\n",
       "246   CLIMATE           6     3  1999  18.731349  22.219108  20.096034   \n",
       "622   CLIMATE          10     2  2015  21.651613  23.526526  23.320000   \n",
       "388   CLIMATE           8     1  1997  15.398527  18.892286  16.043696   \n",
       "2388     NCEP           4     4  2005  16.193774  18.786277  16.482610   \n",
       "1664      MME           5     2  2001  21.286832  24.042869  22.535409   \n",
       "\n",
       "        Rain_Aug    Rain_Oct    Rain_Sep  \n",
       "246    70.139130  192.143478  139.960870  \n",
       "622    35.000000  149.839130  269.000000  \n",
       "388   146.256522  229.526087  179.695652  \n",
       "2388   82.411727  185.616196  173.491669  \n",
       "1664   61.985553  139.637591   67.404449  "
      ]
     },
     "execution_count": 29,
     "metadata": {},
     "output_type": "execute_result"
    }
   ],
   "source": [
    "features_complete.sample(5)"
   ]
  },
  {
   "cell_type": "markdown",
   "id": "5dc50996",
   "metadata": {},
   "source": [
    "It is not surprising that Tmax and Tmin features highly correlate with Tmean and are therefore dropped."
   ]
  },
  {
   "cell_type": "markdown",
   "id": "735a7952",
   "metadata": {},
   "source": [
    "### 4.3 Unstack Features by Zone"
   ]
  },
  {
   "cell_type": "markdown",
   "id": "d4a1bc8f",
   "metadata": {},
   "source": [
    "Previously, in the approach of [Nóia Júnior et al., 2021](https://iopscience.iop.org/article/10.1088/1748-9326/ac26f3), separate models were trained for each location (agro-climatic homogeneous groups) and their estimates where extrapolated to national level using harvested area estimates for each group. We now choose a different approach, where we directly estimate national wheat yield and the model can decide which location and climate feature it can assign more importance to. We simply need to unstack the *zone* column. The feature names will now hold an additional suffix *_n*, where *n* ranges from 1 to 4, indicating the location where that climate feature belongs to."
   ]
  },
  {
   "cell_type": "code",
   "execution_count": 30,
   "id": "f7edd16a",
   "metadata": {},
   "outputs": [
    {
     "data": {
      "text/html": [
       "<div>\n",
       "<style scoped>\n",
       "    .dataframe tbody tr th:only-of-type {\n",
       "        vertical-align: middle;\n",
       "    }\n",
       "\n",
       "    .dataframe tbody tr th {\n",
       "        vertical-align: top;\n",
       "    }\n",
       "\n",
       "    .dataframe thead th {\n",
       "        text-align: right;\n",
       "    }\n",
       "</style>\n",
       "<table border=\"1\" class=\"dataframe\">\n",
       "  <thead>\n",
       "    <tr style=\"text-align: right;\">\n",
       "      <th></th>\n",
       "      <th>model</th>\n",
       "      <th>init_month</th>\n",
       "      <th>year</th>\n",
       "      <th>Tmean_Aug_1</th>\n",
       "      <th>Tmean_Aug_2</th>\n",
       "      <th>Tmean_Aug_3</th>\n",
       "      <th>Tmean_Aug_4</th>\n",
       "      <th>Tmean_Oct_1</th>\n",
       "      <th>Tmean_Oct_2</th>\n",
       "      <th>Tmean_Oct_3</th>\n",
       "      <th>Tmean_Oct_4</th>\n",
       "      <th>Tmean_Sep_1</th>\n",
       "      <th>Tmean_Sep_2</th>\n",
       "      <th>Tmean_Sep_3</th>\n",
       "      <th>Tmean_Sep_4</th>\n",
       "      <th>Rain_Aug_1</th>\n",
       "      <th>Rain_Aug_2</th>\n",
       "      <th>Rain_Aug_3</th>\n",
       "      <th>Rain_Aug_4</th>\n",
       "      <th>Rain_Oct_1</th>\n",
       "      <th>Rain_Oct_2</th>\n",
       "      <th>Rain_Oct_3</th>\n",
       "      <th>Rain_Oct_4</th>\n",
       "      <th>Rain_Sep_1</th>\n",
       "      <th>Rain_Sep_2</th>\n",
       "      <th>Rain_Sep_3</th>\n",
       "      <th>Rain_Sep_4</th>\n",
       "    </tr>\n",
       "  </thead>\n",
       "  <tbody>\n",
       "    <tr>\n",
       "      <th>626</th>\n",
       "      <td>NCEP</td>\n",
       "      <td>6</td>\n",
       "      <td>1995</td>\n",
       "      <td>15.726071</td>\n",
       "      <td>20.879517</td>\n",
       "      <td>19.167200</td>\n",
       "      <td>16.398191</td>\n",
       "      <td>19.808450</td>\n",
       "      <td>25.131803</td>\n",
       "      <td>23.852645</td>\n",
       "      <td>19.961695</td>\n",
       "      <td>16.188266</td>\n",
       "      <td>23.184658</td>\n",
       "      <td>21.486170</td>\n",
       "      <td>17.759002</td>\n",
       "      <td>135.644886</td>\n",
       "      <td>6.566272</td>\n",
       "      <td>18.455669</td>\n",
       "      <td>41.685032</td>\n",
       "      <td>152.160576</td>\n",
       "      <td>89.694946</td>\n",
       "      <td>110.445302</td>\n",
       "      <td>169.575465</td>\n",
       "      <td>156.694046</td>\n",
       "      <td>42.438708</td>\n",
       "      <td>68.168402</td>\n",
       "      <td>106.676418</td>\n",
       "    </tr>\n",
       "    <tr>\n",
       "      <th>277</th>\n",
       "      <td>ECMWF</td>\n",
       "      <td>7</td>\n",
       "      <td>2006</td>\n",
       "      <td>15.572673</td>\n",
       "      <td>20.556300</td>\n",
       "      <td>18.699475</td>\n",
       "      <td>16.382360</td>\n",
       "      <td>19.104069</td>\n",
       "      <td>23.892360</td>\n",
       "      <td>22.400115</td>\n",
       "      <td>19.577760</td>\n",
       "      <td>16.131462</td>\n",
       "      <td>22.146897</td>\n",
       "      <td>20.524015</td>\n",
       "      <td>17.569228</td>\n",
       "      <td>118.646240</td>\n",
       "      <td>63.151855</td>\n",
       "      <td>85.612793</td>\n",
       "      <td>88.555908</td>\n",
       "      <td>213.854980</td>\n",
       "      <td>139.323730</td>\n",
       "      <td>179.941406</td>\n",
       "      <td>148.132324</td>\n",
       "      <td>211.950683</td>\n",
       "      <td>88.222656</td>\n",
       "      <td>132.519531</td>\n",
       "      <td>120.700684</td>\n",
       "    </tr>\n",
       "    <tr>\n",
       "      <th>373</th>\n",
       "      <td>ECMWF</td>\n",
       "      <td>11</td>\n",
       "      <td>2006</td>\n",
       "      <td>14.714516</td>\n",
       "      <td>21.069355</td>\n",
       "      <td>18.622581</td>\n",
       "      <td>16.351252</td>\n",
       "      <td>20.612903</td>\n",
       "      <td>24.337097</td>\n",
       "      <td>23.343548</td>\n",
       "      <td>19.936264</td>\n",
       "      <td>15.543333</td>\n",
       "      <td>20.153333</td>\n",
       "      <td>18.540220</td>\n",
       "      <td>16.481799</td>\n",
       "      <td>132.200000</td>\n",
       "      <td>17.000000</td>\n",
       "      <td>40.000000</td>\n",
       "      <td>59.500000</td>\n",
       "      <td>94.900000</td>\n",
       "      <td>73.400000</td>\n",
       "      <td>100.200000</td>\n",
       "      <td>75.900000</td>\n",
       "      <td>112.800000</td>\n",
       "      <td>144.200000</td>\n",
       "      <td>174.600000</td>\n",
       "      <td>237.700000</td>\n",
       "    </tr>\n",
       "    <tr>\n",
       "      <th>590</th>\n",
       "      <td>NCEP</td>\n",
       "      <td>4</td>\n",
       "      <td>2007</td>\n",
       "      <td>15.733270</td>\n",
       "      <td>20.687528</td>\n",
       "      <td>18.917571</td>\n",
       "      <td>16.662063</td>\n",
       "      <td>17.994894</td>\n",
       "      <td>23.041879</td>\n",
       "      <td>21.780999</td>\n",
       "      <td>18.661579</td>\n",
       "      <td>16.249782</td>\n",
       "      <td>22.334239</td>\n",
       "      <td>20.635803</td>\n",
       "      <td>17.490170</td>\n",
       "      <td>198.929993</td>\n",
       "      <td>42.814117</td>\n",
       "      <td>58.570732</td>\n",
       "      <td>94.342682</td>\n",
       "      <td>211.548370</td>\n",
       "      <td>195.205794</td>\n",
       "      <td>184.038482</td>\n",
       "      <td>189.555892</td>\n",
       "      <td>177.494583</td>\n",
       "      <td>68.892540</td>\n",
       "      <td>97.184082</td>\n",
       "      <td>150.186943</td>\n",
       "    </tr>\n",
       "    <tr>\n",
       "      <th>824</th>\n",
       "      <td>UKMO</td>\n",
       "      <td>6</td>\n",
       "      <td>2001</td>\n",
       "      <td>15.829758</td>\n",
       "      <td>20.675005</td>\n",
       "      <td>18.917492</td>\n",
       "      <td>16.256402</td>\n",
       "      <td>18.946047</td>\n",
       "      <td>24.232928</td>\n",
       "      <td>22.980034</td>\n",
       "      <td>19.584988</td>\n",
       "      <td>16.924347</td>\n",
       "      <td>22.757693</td>\n",
       "      <td>20.982836</td>\n",
       "      <td>17.873865</td>\n",
       "      <td>132.226667</td>\n",
       "      <td>57.165840</td>\n",
       "      <td>94.984554</td>\n",
       "      <td>89.468168</td>\n",
       "      <td>212.140133</td>\n",
       "      <td>207.586954</td>\n",
       "      <td>224.927676</td>\n",
       "      <td>200.313180</td>\n",
       "      <td>178.368012</td>\n",
       "      <td>80.579236</td>\n",
       "      <td>97.554609</td>\n",
       "      <td>96.232956</td>\n",
       "    </tr>\n",
       "  </tbody>\n",
       "</table>\n",
       "</div>"
      ],
      "text/plain": [
       "     model  init_month  year  Tmean_Aug_1  Tmean_Aug_2  Tmean_Aug_3  \\\n",
       "626   NCEP           6  1995    15.726071    20.879517    19.167200   \n",
       "277  ECMWF           7  2006    15.572673    20.556300    18.699475   \n",
       "373  ECMWF          11  2006    14.714516    21.069355    18.622581   \n",
       "590   NCEP           4  2007    15.733270    20.687528    18.917571   \n",
       "824   UKMO           6  2001    15.829758    20.675005    18.917492   \n",
       "\n",
       "     Tmean_Aug_4  Tmean_Oct_1  Tmean_Oct_2  Tmean_Oct_3  Tmean_Oct_4  \\\n",
       "626    16.398191    19.808450    25.131803    23.852645    19.961695   \n",
       "277    16.382360    19.104069    23.892360    22.400115    19.577760   \n",
       "373    16.351252    20.612903    24.337097    23.343548    19.936264   \n",
       "590    16.662063    17.994894    23.041879    21.780999    18.661579   \n",
       "824    16.256402    18.946047    24.232928    22.980034    19.584988   \n",
       "\n",
       "     Tmean_Sep_1  Tmean_Sep_2  Tmean_Sep_3  Tmean_Sep_4  Rain_Aug_1  \\\n",
       "626    16.188266    23.184658    21.486170    17.759002  135.644886   \n",
       "277    16.131462    22.146897    20.524015    17.569228  118.646240   \n",
       "373    15.543333    20.153333    18.540220    16.481799  132.200000   \n",
       "590    16.249782    22.334239    20.635803    17.490170  198.929993   \n",
       "824    16.924347    22.757693    20.982836    17.873865  132.226667   \n",
       "\n",
       "     Rain_Aug_2  Rain_Aug_3  Rain_Aug_4  Rain_Oct_1  Rain_Oct_2  Rain_Oct_3  \\\n",
       "626    6.566272   18.455669   41.685032  152.160576   89.694946  110.445302   \n",
       "277   63.151855   85.612793   88.555908  213.854980  139.323730  179.941406   \n",
       "373   17.000000   40.000000   59.500000   94.900000   73.400000  100.200000   \n",
       "590   42.814117   58.570732   94.342682  211.548370  195.205794  184.038482   \n",
       "824   57.165840   94.984554   89.468168  212.140133  207.586954  224.927676   \n",
       "\n",
       "     Rain_Oct_4  Rain_Sep_1  Rain_Sep_2  Rain_Sep_3  Rain_Sep_4  \n",
       "626  169.575465  156.694046   42.438708   68.168402  106.676418  \n",
       "277  148.132324  211.950683   88.222656  132.519531  120.700684  \n",
       "373   75.900000  112.800000  144.200000  174.600000  237.700000  \n",
       "590  189.555892  177.494583   68.892540   97.184082  150.186943  \n",
       "824  200.313180  178.368012   80.579236   97.554609   96.232956  "
      ]
     },
     "execution_count": 30,
     "metadata": {},
     "output_type": "execute_result"
    }
   ],
   "source": [
    "features_complete_unstacked = features_complete.set_index([\"zone\", \"model\", \"init_month\", \"year\"]).unstack(0)\n",
    "features_complete_unstacked.columns = [str(s[0]) + \"_\" + str(s[1]) for s in features_complete_unstacked.columns]\n",
    "features_complete_unstacked = features_complete_unstacked.reset_index()\n",
    "features_complete_unstacked.sample(5)"
   ]
  },
  {
   "cell_type": "markdown",
   "id": "8b78155a",
   "metadata": {},
   "source": [
    "## 5. Include Yield Data <a name=\"yield_data\"></a>"
   ]
  },
  {
   "cell_type": "markdown",
   "id": "085903ae",
   "metadata": {},
   "source": [
    "We will now read the national detrended wheat yield data to be merged with our feature dataset. The wheat yield data was obtained from the [Brazilian Institute of Geography and Statistics](https://sidra.ibge.gov.br/tabela/1612). For more information on the data, see the other notebook *prepare_wheat_data*."
   ]
  },
  {
   "cell_type": "code",
   "execution_count": 31,
   "id": "2a904768",
   "metadata": {},
   "outputs": [],
   "source": [
    "yield_national = hf.read_national_wheat_yield()"
   ]
  },
  {
   "cell_type": "markdown",
   "id": "c9eea9e5",
   "metadata": {},
   "source": [
    "Our final dataset:"
   ]
  },
  {
   "cell_type": "code",
   "execution_count": 32,
   "id": "cf6c0937",
   "metadata": {
    "scrolled": true
   },
   "outputs": [],
   "source": [
    "kfold_cv_dataset = (features_complete_unstacked\n",
    "                    .merge(yield_national, how=\"left\", on=\"year\")\n",
    "                    .dropna()\n",
    "                    .reset_index(drop=True))"
   ]
  },
  {
   "cell_type": "code",
   "execution_count": 33,
   "id": "022da2e3",
   "metadata": {},
   "outputs": [
    {
     "data": {
      "text/html": [
       "<div>\n",
       "<style scoped>\n",
       "    .dataframe tbody tr th:only-of-type {\n",
       "        vertical-align: middle;\n",
       "    }\n",
       "\n",
       "    .dataframe tbody tr th {\n",
       "        vertical-align: top;\n",
       "    }\n",
       "\n",
       "    .dataframe thead th {\n",
       "        text-align: right;\n",
       "    }\n",
       "</style>\n",
       "<table border=\"1\" class=\"dataframe\">\n",
       "  <thead>\n",
       "    <tr style=\"text-align: right;\">\n",
       "      <th></th>\n",
       "      <th>model</th>\n",
       "      <th>init_month</th>\n",
       "      <th>year</th>\n",
       "      <th>Tmean_Aug_1</th>\n",
       "      <th>Tmean_Aug_2</th>\n",
       "      <th>Tmean_Aug_3</th>\n",
       "      <th>Tmean_Aug_4</th>\n",
       "      <th>Tmean_Oct_1</th>\n",
       "      <th>Tmean_Oct_2</th>\n",
       "      <th>Tmean_Oct_3</th>\n",
       "      <th>Tmean_Oct_4</th>\n",
       "      <th>Tmean_Sep_1</th>\n",
       "      <th>Tmean_Sep_2</th>\n",
       "      <th>Tmean_Sep_3</th>\n",
       "      <th>Tmean_Sep_4</th>\n",
       "      <th>Rain_Aug_1</th>\n",
       "      <th>Rain_Aug_2</th>\n",
       "      <th>Rain_Aug_3</th>\n",
       "      <th>Rain_Aug_4</th>\n",
       "      <th>Rain_Oct_1</th>\n",
       "      <th>Rain_Oct_2</th>\n",
       "      <th>Rain_Oct_3</th>\n",
       "      <th>Rain_Oct_4</th>\n",
       "      <th>Rain_Sep_1</th>\n",
       "      <th>Rain_Sep_2</th>\n",
       "      <th>Rain_Sep_3</th>\n",
       "      <th>Rain_Sep_4</th>\n",
       "      <th>yield</th>\n",
       "    </tr>\n",
       "  </thead>\n",
       "  <tbody>\n",
       "    <tr>\n",
       "      <th>857</th>\n",
       "      <td>UKMO</td>\n",
       "      <td>7</td>\n",
       "      <td>2010</td>\n",
       "      <td>16.086722</td>\n",
       "      <td>21.131815</td>\n",
       "      <td>19.209026</td>\n",
       "      <td>16.601246</td>\n",
       "      <td>18.274700</td>\n",
       "      <td>23.654031</td>\n",
       "      <td>22.188427</td>\n",
       "      <td>19.031493</td>\n",
       "      <td>16.374959</td>\n",
       "      <td>22.046843</td>\n",
       "      <td>20.441322</td>\n",
       "      <td>16.831090</td>\n",
       "      <td>153.53001</td>\n",
       "      <td>48.34352</td>\n",
       "      <td>77.389231</td>\n",
       "      <td>94.913312</td>\n",
       "      <td>290.012425</td>\n",
       "      <td>229.106877</td>\n",
       "      <td>283.766566</td>\n",
       "      <td>248.399873</td>\n",
       "      <td>155.504842</td>\n",
       "      <td>101.611319</td>\n",
       "      <td>114.648074</td>\n",
       "      <td>121.810962</td>\n",
       "      <td>3131.919375</td>\n",
       "    </tr>\n",
       "    <tr>\n",
       "      <th>320</th>\n",
       "      <td>ECMWF</td>\n",
       "      <td>9</td>\n",
       "      <td>2001</td>\n",
       "      <td>17.535484</td>\n",
       "      <td>21.109147</td>\n",
       "      <td>19.804676</td>\n",
       "      <td>17.474194</td>\n",
       "      <td>19.489775</td>\n",
       "      <td>23.734808</td>\n",
       "      <td>22.407829</td>\n",
       "      <td>19.514412</td>\n",
       "      <td>17.776968</td>\n",
       "      <td>22.361195</td>\n",
       "      <td>20.726942</td>\n",
       "      <td>18.540043</td>\n",
       "      <td>146.10000</td>\n",
       "      <td>77.90000</td>\n",
       "      <td>68.500000</td>\n",
       "      <td>77.400000</td>\n",
       "      <td>164.069214</td>\n",
       "      <td>134.299316</td>\n",
       "      <td>150.056763</td>\n",
       "      <td>137.342529</td>\n",
       "      <td>243.142846</td>\n",
       "      <td>68.210449</td>\n",
       "      <td>87.470093</td>\n",
       "      <td>99.284363</td>\n",
       "      <td>2737.790335</td>\n",
       "    </tr>\n",
       "    <tr>\n",
       "      <th>950</th>\n",
       "      <td>UKMO</td>\n",
       "      <td>11</td>\n",
       "      <td>2007</td>\n",
       "      <td>13.993548</td>\n",
       "      <td>20.650000</td>\n",
       "      <td>18.604839</td>\n",
       "      <td>15.270288</td>\n",
       "      <td>19.380645</td>\n",
       "      <td>25.045161</td>\n",
       "      <td>23.250000</td>\n",
       "      <td>19.393782</td>\n",
       "      <td>18.476667</td>\n",
       "      <td>24.233333</td>\n",
       "      <td>22.063333</td>\n",
       "      <td>18.966800</td>\n",
       "      <td>128.70000</td>\n",
       "      <td>12.80000</td>\n",
       "      <td>14.800000</td>\n",
       "      <td>22.700000</td>\n",
       "      <td>293.900000</td>\n",
       "      <td>92.700000</td>\n",
       "      <td>66.800000</td>\n",
       "      <td>59.700000</td>\n",
       "      <td>268.600000</td>\n",
       "      <td>2.000000</td>\n",
       "      <td>23.000000</td>\n",
       "      <td>46.000000</td>\n",
       "      <td>2669.754753</td>\n",
       "    </tr>\n",
       "  </tbody>\n",
       "</table>\n",
       "</div>"
      ],
      "text/plain": [
       "     model  init_month  year  Tmean_Aug_1  Tmean_Aug_2  Tmean_Aug_3  \\\n",
       "857   UKMO           7  2010    16.086722    21.131815    19.209026   \n",
       "320  ECMWF           9  2001    17.535484    21.109147    19.804676   \n",
       "950   UKMO          11  2007    13.993548    20.650000    18.604839   \n",
       "\n",
       "     Tmean_Aug_4  Tmean_Oct_1  Tmean_Oct_2  Tmean_Oct_3  Tmean_Oct_4  \\\n",
       "857    16.601246    18.274700    23.654031    22.188427    19.031493   \n",
       "320    17.474194    19.489775    23.734808    22.407829    19.514412   \n",
       "950    15.270288    19.380645    25.045161    23.250000    19.393782   \n",
       "\n",
       "     Tmean_Sep_1  Tmean_Sep_2  Tmean_Sep_3  Tmean_Sep_4  Rain_Aug_1  \\\n",
       "857    16.374959    22.046843    20.441322    16.831090   153.53001   \n",
       "320    17.776968    22.361195    20.726942    18.540043   146.10000   \n",
       "950    18.476667    24.233333    22.063333    18.966800   128.70000   \n",
       "\n",
       "     Rain_Aug_2  Rain_Aug_3  Rain_Aug_4  Rain_Oct_1  Rain_Oct_2  Rain_Oct_3  \\\n",
       "857    48.34352   77.389231   94.913312  290.012425  229.106877  283.766566   \n",
       "320    77.90000   68.500000   77.400000  164.069214  134.299316  150.056763   \n",
       "950    12.80000   14.800000   22.700000  293.900000   92.700000   66.800000   \n",
       "\n",
       "     Rain_Oct_4  Rain_Sep_1  Rain_Sep_2  Rain_Sep_3  Rain_Sep_4        yield  \n",
       "857  248.399873  155.504842  101.611319  114.648074  121.810962  3131.919375  \n",
       "320  137.342529  243.142846   68.210449   87.470093   99.284363  2737.790335  \n",
       "950   59.700000  268.600000    2.000000   23.000000   46.000000  2669.754753  "
      ]
     },
     "execution_count": 33,
     "metadata": {},
     "output_type": "execute_result"
    }
   ],
   "source": [
    "kfold_cv_dataset.sample(3)"
   ]
  },
  {
   "cell_type": "markdown",
   "id": "400637d2",
   "metadata": {},
   "source": [
    "### Summary of our dataset"
   ]
  },
  {
   "cell_type": "markdown",
   "id": "899a3a81",
   "metadata": {},
   "source": [
    "We are now finished with the preprocessing. Let's quickly summarize the data that we will train our model on. \n",
    "- There are 24 years, from 1993 to 2016\n",
    "- For each year, we have 6 different model sources: ECMWF, NCEP, UKMO, MME, CLIMATE, WS (observations)\n",
    "- WS has one data point per year, the other models have eight data points, one for each month of initialization from April to November\n",
    "- This gives us 24 * (5 * 8 + 1) = 984 data points"
   ]
  },
  {
   "cell_type": "code",
   "execution_count": 34,
   "id": "4a87fa98",
   "metadata": {},
   "outputs": [
    {
     "data": {
      "text/plain": [
       "(984, 28)"
      ]
     },
     "execution_count": 34,
     "metadata": {},
     "output_type": "execute_result"
    }
   ],
   "source": [
    "kfold_cv_dataset.shape"
   ]
  },
  {
   "cell_type": "code",
   "execution_count": 37,
   "id": "dc6e8c5d",
   "metadata": {},
   "outputs": [],
   "source": [
    "kfold_cv_dataset.to_csv(\"kfold_cv_dataset.csv\", index=False)"
   ]
  },
  {
   "cell_type": "code",
   "execution_count": 38,
   "id": "8bab81be",
   "metadata": {},
   "outputs": [],
   "source": [
    "kfold_cv_dataset = pd.read_csv(\"kfold_cv_dataset.csv\")"
   ]
  },
  {
   "cell_type": "markdown",
   "id": "7a0e3f80",
   "metadata": {},
   "source": [
    "## 6. K-Fold Cross Validation <a name=\"cross_validation\"><a/>"
   ]
  },
  {
   "cell_type": "code",
   "execution_count": 39,
   "id": "0193dcfb",
   "metadata": {
    "scrolled": false
   },
   "outputs": [],
   "source": [
    "models = [\"ECMWF\", \"NCEP\", \"UKMO\", \"MME\", \"CLIMATE\", \"WS\"]\n",
    "results = pd.DataFrame(0, index=models, columns=months_of_crop_season)\n",
    "for im in months_of_crop_season:\n",
    "    for model in models:\n",
    "        res = hf.kfold_cross_validation(kfold_cv_dataset, model=model, init=im, no_of_features=8)\n",
    "        # rmse\n",
    "        metric = 100 * mse(res[\"yield\"], res[\"predicted\"], squared=False)/(res[\"yield\"].mean())\n",
    "        # coefficient of determination\n",
    "        #metric = r2(res[\"yield\"], res[\"predicted\"])\n",
    "        results.loc[model, im] = np.round(metric, 2)"
   ]
  },
  {
   "cell_type": "code",
   "execution_count": 40,
   "id": "29782429",
   "metadata": {},
   "outputs": [
    {
     "data": {
      "text/html": [
       "<div>\n",
       "<style scoped>\n",
       "    .dataframe tbody tr th:only-of-type {\n",
       "        vertical-align: middle;\n",
       "    }\n",
       "\n",
       "    .dataframe tbody tr th {\n",
       "        vertical-align: top;\n",
       "    }\n",
       "\n",
       "    .dataframe thead th {\n",
       "        text-align: right;\n",
       "    }\n",
       "</style>\n",
       "<table border=\"1\" class=\"dataframe\">\n",
       "  <thead>\n",
       "    <tr style=\"text-align: right;\">\n",
       "      <th></th>\n",
       "      <th>4</th>\n",
       "      <th>5</th>\n",
       "      <th>6</th>\n",
       "      <th>7</th>\n",
       "      <th>8</th>\n",
       "      <th>9</th>\n",
       "      <th>10</th>\n",
       "      <th>11</th>\n",
       "    </tr>\n",
       "  </thead>\n",
       "  <tbody>\n",
       "    <tr>\n",
       "      <th>ECMWF</th>\n",
       "      <td>11.56</td>\n",
       "      <td>11.90</td>\n",
       "      <td>11.23</td>\n",
       "      <td>11.44</td>\n",
       "      <td>10.58</td>\n",
       "      <td>9.49</td>\n",
       "      <td>7.88</td>\n",
       "      <td>6.01</td>\n",
       "    </tr>\n",
       "    <tr>\n",
       "      <th>NCEP</th>\n",
       "      <td>14.34</td>\n",
       "      <td>14.88</td>\n",
       "      <td>14.70</td>\n",
       "      <td>12.74</td>\n",
       "      <td>11.84</td>\n",
       "      <td>10.45</td>\n",
       "      <td>9.26</td>\n",
       "      <td>6.01</td>\n",
       "    </tr>\n",
       "    <tr>\n",
       "      <th>UKMO</th>\n",
       "      <td>12.28</td>\n",
       "      <td>12.71</td>\n",
       "      <td>10.79</td>\n",
       "      <td>12.13</td>\n",
       "      <td>11.07</td>\n",
       "      <td>10.61</td>\n",
       "      <td>7.64</td>\n",
       "      <td>6.01</td>\n",
       "    </tr>\n",
       "    <tr>\n",
       "      <th>MME</th>\n",
       "      <td>12.12</td>\n",
       "      <td>12.47</td>\n",
       "      <td>11.76</td>\n",
       "      <td>11.62</td>\n",
       "      <td>10.47</td>\n",
       "      <td>9.86</td>\n",
       "      <td>7.90</td>\n",
       "      <td>6.01</td>\n",
       "    </tr>\n",
       "    <tr>\n",
       "      <th>CLIMATE</th>\n",
       "      <td>11.75</td>\n",
       "      <td>11.75</td>\n",
       "      <td>11.75</td>\n",
       "      <td>11.75</td>\n",
       "      <td>11.75</td>\n",
       "      <td>10.27</td>\n",
       "      <td>9.13</td>\n",
       "      <td>6.01</td>\n",
       "    </tr>\n",
       "    <tr>\n",
       "      <th>WS</th>\n",
       "      <td>6.01</td>\n",
       "      <td>6.01</td>\n",
       "      <td>6.01</td>\n",
       "      <td>6.01</td>\n",
       "      <td>6.01</td>\n",
       "      <td>6.01</td>\n",
       "      <td>6.01</td>\n",
       "      <td>6.01</td>\n",
       "    </tr>\n",
       "  </tbody>\n",
       "</table>\n",
       "</div>"
      ],
      "text/plain": [
       "            4      5      6      7      8      9     10    11\n",
       "ECMWF    11.56  11.90  11.23  11.44  10.58   9.49  7.88  6.01\n",
       "NCEP     14.34  14.88  14.70  12.74  11.84  10.45  9.26  6.01\n",
       "UKMO     12.28  12.71  10.79  12.13  11.07  10.61  7.64  6.01\n",
       "MME      12.12  12.47  11.76  11.62  10.47   9.86  7.90  6.01\n",
       "CLIMATE  11.75  11.75  11.75  11.75  11.75  10.27  9.13  6.01\n",
       "WS        6.01   6.01   6.01   6.01   6.01   6.01  6.01  6.01"
      ]
     },
     "execution_count": 40,
     "metadata": {},
     "output_type": "execute_result"
    }
   ],
   "source": [
    "results # coefficient of determination with 9 feature"
   ]
  },
  {
   "cell_type": "code",
   "execution_count": 19,
   "id": "6b2f26fd",
   "metadata": {},
   "outputs": [
    {
     "data": {
      "text/html": [
       "<div>\n",
       "<style scoped>\n",
       "    .dataframe tbody tr th:only-of-type {\n",
       "        vertical-align: middle;\n",
       "    }\n",
       "\n",
       "    .dataframe tbody tr th {\n",
       "        vertical-align: top;\n",
       "    }\n",
       "\n",
       "    .dataframe thead th {\n",
       "        text-align: right;\n",
       "    }\n",
       "</style>\n",
       "<table border=\"1\" class=\"dataframe\">\n",
       "  <thead>\n",
       "    <tr style=\"text-align: right;\">\n",
       "      <th></th>\n",
       "      <th>4</th>\n",
       "      <th>5</th>\n",
       "      <th>6</th>\n",
       "      <th>7</th>\n",
       "      <th>8</th>\n",
       "      <th>9</th>\n",
       "      <th>10</th>\n",
       "      <th>11</th>\n",
       "    </tr>\n",
       "  </thead>\n",
       "  <tbody>\n",
       "    <tr>\n",
       "      <th>ECMWF</th>\n",
       "      <td>11.56</td>\n",
       "      <td>11.90</td>\n",
       "      <td>11.23</td>\n",
       "      <td>11.44</td>\n",
       "      <td>10.58</td>\n",
       "      <td>9.49</td>\n",
       "      <td>7.88</td>\n",
       "      <td>6.01</td>\n",
       "    </tr>\n",
       "    <tr>\n",
       "      <th>NCEP</th>\n",
       "      <td>14.34</td>\n",
       "      <td>14.88</td>\n",
       "      <td>14.70</td>\n",
       "      <td>12.74</td>\n",
       "      <td>11.84</td>\n",
       "      <td>10.45</td>\n",
       "      <td>9.26</td>\n",
       "      <td>6.01</td>\n",
       "    </tr>\n",
       "    <tr>\n",
       "      <th>UKMO</th>\n",
       "      <td>12.28</td>\n",
       "      <td>12.71</td>\n",
       "      <td>10.79</td>\n",
       "      <td>12.13</td>\n",
       "      <td>11.07</td>\n",
       "      <td>10.61</td>\n",
       "      <td>7.64</td>\n",
       "      <td>6.01</td>\n",
       "    </tr>\n",
       "    <tr>\n",
       "      <th>MME</th>\n",
       "      <td>11.66</td>\n",
       "      <td>12.02</td>\n",
       "      <td>11.24</td>\n",
       "      <td>11.41</td>\n",
       "      <td>10.45</td>\n",
       "      <td>9.63</td>\n",
       "      <td>7.77</td>\n",
       "      <td>6.01</td>\n",
       "    </tr>\n",
       "    <tr>\n",
       "      <th>CLIMATE</th>\n",
       "      <td>11.75</td>\n",
       "      <td>11.75</td>\n",
       "      <td>11.75</td>\n",
       "      <td>11.75</td>\n",
       "      <td>11.75</td>\n",
       "      <td>10.27</td>\n",
       "      <td>9.13</td>\n",
       "      <td>6.01</td>\n",
       "    </tr>\n",
       "    <tr>\n",
       "      <th>WS</th>\n",
       "      <td>6.01</td>\n",
       "      <td>6.01</td>\n",
       "      <td>6.01</td>\n",
       "      <td>6.01</td>\n",
       "      <td>6.01</td>\n",
       "      <td>6.01</td>\n",
       "      <td>6.01</td>\n",
       "      <td>6.01</td>\n",
       "    </tr>\n",
       "  </tbody>\n",
       "</table>\n",
       "</div>"
      ],
      "text/plain": [
       "            4      5      6      7      8      9     10    11\n",
       "ECMWF    11.56  11.90  11.23  11.44  10.58   9.49  7.88  6.01\n",
       "NCEP     14.34  14.88  14.70  12.74  11.84  10.45  9.26  6.01\n",
       "UKMO     12.28  12.71  10.79  12.13  11.07  10.61  7.64  6.01\n",
       "MME      11.66  12.02  11.24  11.41  10.45   9.63  7.77  6.01\n",
       "CLIMATE  11.75  11.75  11.75  11.75  11.75  10.27  9.13  6.01\n",
       "WS        6.01   6.01   6.01   6.01   6.01   6.01  6.01  6.01"
      ]
     },
     "execution_count": 19,
     "metadata": {},
     "output_type": "execute_result"
    }
   ],
   "source": [
    "results # coefficient of determination with 9 feature"
   ]
  },
  {
   "cell_type": "code",
   "execution_count": 10,
   "id": "e1fe1fd9",
   "metadata": {},
   "outputs": [
    {
     "data": {
      "text/html": [
       "<div>\n",
       "<style scoped>\n",
       "    .dataframe tbody tr th:only-of-type {\n",
       "        vertical-align: middle;\n",
       "    }\n",
       "\n",
       "    .dataframe tbody tr th {\n",
       "        vertical-align: top;\n",
       "    }\n",
       "\n",
       "    .dataframe thead th {\n",
       "        text-align: right;\n",
       "    }\n",
       "</style>\n",
       "<table border=\"1\" class=\"dataframe\">\n",
       "  <thead>\n",
       "    <tr style=\"text-align: right;\">\n",
       "      <th></th>\n",
       "      <th>4</th>\n",
       "      <th>5</th>\n",
       "      <th>6</th>\n",
       "      <th>7</th>\n",
       "      <th>8</th>\n",
       "      <th>9</th>\n",
       "      <th>10</th>\n",
       "      <th>11</th>\n",
       "    </tr>\n",
       "  </thead>\n",
       "  <tbody>\n",
       "    <tr>\n",
       "      <th>ECMWF</th>\n",
       "      <td>-0.04</td>\n",
       "      <td>-0.12</td>\n",
       "      <td>0.00</td>\n",
       "      <td>-0.03</td>\n",
       "      <td>0.10</td>\n",
       "      <td>0.27</td>\n",
       "      <td>0.46</td>\n",
       "      <td>0.69</td>\n",
       "    </tr>\n",
       "    <tr>\n",
       "      <th>NCEP</th>\n",
       "      <td>-0.57</td>\n",
       "      <td>-0.76</td>\n",
       "      <td>-0.73</td>\n",
       "      <td>-0.31</td>\n",
       "      <td>-0.12</td>\n",
       "      <td>0.13</td>\n",
       "      <td>0.27</td>\n",
       "      <td>0.69</td>\n",
       "    </tr>\n",
       "    <tr>\n",
       "      <th>UKMO</th>\n",
       "      <td>-0.12</td>\n",
       "      <td>-0.26</td>\n",
       "      <td>0.07</td>\n",
       "      <td>-0.16</td>\n",
       "      <td>0.01</td>\n",
       "      <td>0.11</td>\n",
       "      <td>0.49</td>\n",
       "      <td>0.69</td>\n",
       "    </tr>\n",
       "    <tr>\n",
       "      <th>MME</th>\n",
       "      <td>-0.04</td>\n",
       "      <td>-0.14</td>\n",
       "      <td>-0.00</td>\n",
       "      <td>-0.03</td>\n",
       "      <td>0.12</td>\n",
       "      <td>0.26</td>\n",
       "      <td>0.47</td>\n",
       "      <td>0.69</td>\n",
       "    </tr>\n",
       "    <tr>\n",
       "      <th>CLIMATE</th>\n",
       "      <td>-0.09</td>\n",
       "      <td>-0.09</td>\n",
       "      <td>-0.09</td>\n",
       "      <td>-0.09</td>\n",
       "      <td>-0.09</td>\n",
       "      <td>0.15</td>\n",
       "      <td>0.31</td>\n",
       "      <td>0.69</td>\n",
       "    </tr>\n",
       "    <tr>\n",
       "      <th>WS</th>\n",
       "      <td>0.69</td>\n",
       "      <td>0.69</td>\n",
       "      <td>0.69</td>\n",
       "      <td>0.69</td>\n",
       "      <td>0.69</td>\n",
       "      <td>0.69</td>\n",
       "      <td>0.69</td>\n",
       "      <td>0.69</td>\n",
       "    </tr>\n",
       "  </tbody>\n",
       "</table>\n",
       "</div>"
      ],
      "text/plain": [
       "           4     5     6     7     8     9     10    11\n",
       "ECMWF   -0.04 -0.12  0.00 -0.03  0.10  0.27  0.46  0.69\n",
       "NCEP    -0.57 -0.76 -0.73 -0.31 -0.12  0.13  0.27  0.69\n",
       "UKMO    -0.12 -0.26  0.07 -0.16  0.01  0.11  0.49  0.69\n",
       "MME     -0.04 -0.14 -0.00 -0.03  0.12  0.26  0.47  0.69\n",
       "CLIMATE -0.09 -0.09 -0.09 -0.09 -0.09  0.15  0.31  0.69\n",
       "WS       0.69  0.69  0.69  0.69  0.69  0.69  0.69  0.69"
      ]
     },
     "execution_count": 10,
     "metadata": {},
     "output_type": "execute_result"
    }
   ],
   "source": [
    "results # coefficient of determination with 9 featurea"
   ]
  },
  {
   "cell_type": "markdown",
   "id": "884268e1",
   "metadata": {},
   "source": [
    "## 8. Visualization <a name=\"visualization\"></a>"
   ]
  },
  {
   "cell_type": "markdown",
   "id": "8fea40f8",
   "metadata": {},
   "source": [
    "### 8.1 Figure 1"
   ]
  },
  {
   "cell_type": "markdown",
   "id": "670d0a76",
   "metadata": {},
   "source": [
    "### 8.2 Figure 2"
   ]
  },
  {
   "cell_type": "code",
   "execution_count": 68,
   "id": "bd61ae08",
   "metadata": {},
   "outputs": [
    {
     "data": {
      "text/plain": [
       "<seaborn.axisgrid.FacetGrid at 0x1b28d3a7490>"
      ]
     },
     "execution_count": 68,
     "metadata": {},
     "output_type": "execute_result"
    },
    {
     "data": {
      "image/png": "[encoded data removed]",
      "text/plain": [
       "<Figure size 360x360 with 1 Axes>"
      ]
     },
     "metadata": {
      "needs_background": "light"
     },
     "output_type": "display_data"
    }
   ],
   "source": [
    "models = [\"NCEP\", \"UKMO\", \"ECMWF\"]\n",
    "init_months = list(range(9,10))\n",
    "for im in init_months:\n",
    "    results = pd.DataFrame(columns=[\"observed\", \"predicted\", \"model\"])\n",
    "    for model in models:\n",
    "        res = hf.kfold_cross_validation(kfold_cv_dataset, model=model, init=im, no_of_features=8)\n",
    "        res = res.loc[:, [\"yield\", \"predicted\"]].assign(model=model).rename(columns={\"yield\":\"observed\"})\n",
    "        results = pd.concat([results, res], ignore_index=True)\n",
    "        \n",
    "sns.lmplot(x=\"observed\", y=\"predicted\", data=results, fit_reg=False, hue=\"model\", legend=False)\n",
    "#ax.scatter(res[\"yield\"].values, res[\"predicted\"].values);\n",
    "#ax.plot([res[\"yield\"].values.min(), res[\"yield\"].values.max()], [res[\"yield\"].values.min(), res[\"yield\"].values.max()], 'k--', lw=2);\n",
    "#ax.set_xlabel('Measured');\n",
    "#ax.set_ylabel('Predicted');\n",
    "#name = str(im)\n",
    "#plt.savefig(name + \".svg\")\n",
    "#plt.show();"
   ]
  },
  {
   "cell_type": "code",
   "execution_count": 37,
   "id": "5b6480fa",
   "metadata": {},
   "outputs": [
    {
     "data": {
      "image/png": "[encoded data removed]",
      "text/plain": [
       "<Figure size 360x216 with 1 Axes>"
      ]
     },
     "metadata": {
      "needs_background": "light"
     },
     "output_type": "display_data"
    },
    {
     "data": {
      "image/png": "[encoded data removed]",
      "text/plain": [
       "<Figure size 360x216 with 1 Axes>"
      ]
     },
     "metadata": {
      "needs_background": "light"
     },
     "output_type": "display_data"
    },
    {
     "data": {
      "image/png": "[encoded data removed]",
      "text/plain": [
       "<Figure size 360x216 with 1 Axes>"
      ]
     },
     "metadata": {
      "needs_background": "light"
     },
     "output_type": "display_data"
    },
    {
     "data": {
      "image/png": "[encoded data removed]",
      "text/plain": [
       "<Figure size 360x216 with 1 Axes>"
      ]
     },
     "metadata": {
      "needs_background": "light"
     },
     "output_type": "display_data"
    }
   ],
   "source": [
    "models = [\"ECMWF\", \"NCEP\", \"UKMO\", \"MME\", \"CLIMATE\"]\n",
    "init_months = list(range(8,12))\n",
    "for im in init_months:\n",
    "    results = pd.DataFrame(0, index=models + [\"OBS\"], columns=list(range(1993,2017)))\n",
    "    for model in models:\n",
    "        res = hf.kfold_cross_validation(kfold_cv_dataset, model=model, init=im, no_of_features=8)\n",
    "        #print(res[\"yield\"].mean())\n",
    "        results.loc[\"OBS\", :] = res[\"yield\"].values\n",
    "        results.loc[model, :] = res[\"predicted\"].values\n",
    "    ax = results.transpose().plot(figsize=(5,3), marker='o')\n",
    "    ax.grid('on', which='both', axis='y', linestyle='--', linewidth=.7)\n",
    "    ax.grid('on', which='both', axis='x', linestyle='--', linewidth=.7)\n",
    "    name = str(im)\n",
    "    #plt.savefig(name + \".svg\")\n",
    "    plt.show()"
   ]
  },
  {
   "cell_type": "markdown",
   "id": "ad6284b7",
   "metadata": {},
   "source": [
    "### 8.3 Figure 3"
   ]
  },
  {
   "cell_type": "code",
   "execution_count": 240,
   "id": "453677b2",
   "metadata": {},
   "outputs": [],
   "source": [
    "features_bias = features_complete.sort_values(by=[\"model\", \"init_month\", \"zone\", \"year\"]).reset_index(drop=True)\n",
    "features_ws = features_bias.loc[features_bias[\"model\"] == \"WS\"].reset_index(drop=True).copy().set_index([\"model\", \"init_month\", \"zone\", \"year\"])\n",
    "features_models = features_bias.loc[features_bias[\"model\"] != \"WS\"].reset_index(drop=True).copy().set_index([\"model\", \"init_month\", \"zone\", \"year\"])\n",
    "features_models.loc[:, features_models.columns] = features_models.values - pd.concat([features_ws] * 40, ignore_index=False).values"
   ]
  },
  {
   "cell_type": "code",
   "execution_count": 241,
   "id": "6f2c58cf",
   "metadata": {},
   "outputs": [],
   "source": [
    "mae_models = features_models.reset_index().drop(columns=[\"zone\", \"year\"], axis=1).groupby([\"model\", \"init_month\"]).mean().abs()"
   ]
  },
  {
   "cell_type": "code",
   "execution_count": 242,
   "id": "9d89e9ee",
   "metadata": {},
   "outputs": [],
   "source": [
    "mme_mae = mae_models.round(2).loc[([\"MME\"]), [\"Rain_Aug\", \"Rain_Sep\", \"Rain_Oct\"]]\n",
    "ukmo_mae = mae_models.round(2).loc[([\"UKMO\"]), [ \"Rain_Aug\", \"Rain_Sep\", \"Rain_Oct\"]]\n",
    "ncep_mae = mae_models.round(2).loc[([\"NCEP\"]), [ \"Rain_Aug\", \"Rain_Sep\", \"Rain_Oct\"]]\n",
    "ecmwf_mae = mae_models.round(2).loc[([\"ECMWF\"]), [ \"Rain_Aug\", \"Rain_Sep\", \"Rain_Oct\"]]\n",
    "climate_mae = mae_models.round(2).loc[([\"CLIMATE\"]), [ \"Rain_Aug\", \"Rain_Sep\", \"Rain_Oct\"]]\n",
    "\n",
    "difference_ukmo = (ukmo_mae.reset_index().set_index(\"init_month\").drop(columns=[\"model\"]) - mme_mae.reset_index().set_index(\"init_month\").drop(columns=[\"model\"])).round(2).replace({0:np.nan})\n",
    "difference_ncep = (ncep_mae.reset_index().set_index(\"init_month\").drop(columns=[\"model\"]) - mme_mae.reset_index().set_index(\"init_month\").drop(columns=[\"model\"])).round(2).replace({0:np.nan})\n",
    "difference_ecmwf = (ecmwf_mae.reset_index().set_index(\"init_month\").drop(columns=[\"model\"]) - mme_mae.reset_index().set_index(\"init_month\").drop(columns=[\"model\"])).round(2).replace({0:np.nan})\n",
    "difference_climate = (climate_mae.reset_index().set_index(\"init_month\").drop(columns=[\"model\"]) - mme_mae.reset_index().set_index(\"init_month\").drop(columns=[\"model\"])).round(2).replace({0:np.nan})"
   ]
  },
  {
   "cell_type": "code",
   "execution_count": 243,
   "id": "1d675d88",
   "metadata": {},
   "outputs": [
    {
     "data": {
      "text/plain": [
       "<AxesSubplot:ylabel='init_month'>"
      ]
     },
     "execution_count": 243,
     "metadata": {},
     "output_type": "execute_result"
    },
    {
     "data": {
      "image/png": "[encoded data removed]",
      "text/plain": [
       "<Figure size 432x288 with 2 Axes>"
      ]
     },
     "metadata": {
      "needs_background": "light"
     },
     "output_type": "display_data"
    }
   ],
   "source": [
    "sns.heatmap(cmap=\"coolwarm_r\", vmax=40, vmin=-40, data=difference_ukmo, annot=True, linewidths=1, linecolor=\"white\")\n",
    "plt.savefig(\"ukmo_mme_rain.svg\")"
   ]
  },
  {
   "cell_type": "code",
   "execution_count": 244,
   "id": "498a0e6e",
   "metadata": {},
   "outputs": [
    {
     "data": {
      "text/plain": [
       "<AxesSubplot:ylabel='init_month'>"
      ]
     },
     "execution_count": 244,
     "metadata": {},
     "output_type": "execute_result"
    },
    {
     "data": {
      "image/png": "[encoded data removed]",
      "text/plain": [
       "<Figure size 432x288 with 2 Axes>"
      ]
     },
     "metadata": {
      "needs_background": "light"
     },
     "output_type": "display_data"
    }
   ],
   "source": [
    "sns.heatmap(cmap=\"coolwarm_r\", vmax=40, vmin=-40, data=difference_ncep, annot=True, linewidths=1, linecolor=\"white\")\n",
    "plt.savefig(\"ncep_mme_rain.svg\")"
   ]
  },
  {
   "cell_type": "code",
   "execution_count": 245,
   "id": "27b881b3",
   "metadata": {},
   "outputs": [
    {
     "data": {
      "text/plain": [
       "<AxesSubplot:ylabel='init_month'>"
      ]
     },
     "execution_count": 245,
     "metadata": {},
     "output_type": "execute_result"
    },
    {
     "data": {
      "image/png": "[encoded data removed]",
      "text/plain": [
       "<Figure size 432x288 with 2 Axes>"
      ]
     },
     "metadata": {
      "needs_background": "light"
     },
     "output_type": "display_data"
    }
   ],
   "source": [
    "sns.heatmap(cmap=\"coolwarm_r\", vmax=40, vmin=-40, data=difference_ecmwf, annot=True, linewidths=1, linecolor=\"white\")\n",
    "plt.savefig(\"ecmwf_mme_rain.svg\")"
   ]
  },
  {
   "cell_type": "code",
   "execution_count": 246,
   "id": "54df7674",
   "metadata": {},
   "outputs": [
    {
     "data": {
      "text/plain": [
       "<AxesSubplot:ylabel='init_month'>"
      ]
     },
     "execution_count": 246,
     "metadata": {},
     "output_type": "execute_result"
    },
    {
     "data": {
      "image/png": "[encoded data removed]",
      "text/plain": [
       "<Figure size 432x288 with 2 Axes>"
      ]
     },
     "metadata": {
      "needs_background": "light"
     },
     "output_type": "display_data"
    }
   ],
   "source": [
    "sns.heatmap(cmap=\"coolwarm_r\", vmax=40, vmin=-40, data=difference_climate, annot=True, linewidths=1, linecolor=\"white\")\n",
    "plt.savefig(\"climate_mme_rain.svg\")"
   ]
  },
  {
   "cell_type": "markdown",
   "id": "b0ccdba5",
   "metadata": {},
   "source": [
    "## 8.4 Figure 4"
   ]
  },
  {
   "cell_type": "code",
   "execution_count": 133,
   "id": "2e0c4791",
   "metadata": {},
   "outputs": [],
   "source": [
    "# K-Fold Cross Validation\n",
    "def feature_importance(data):\n",
    "   \n",
    "    # Features\n",
    "    relevant_columns = [c for c in data.columns if c not in [\"model\", \"init_month\", \"year\", \"yield\"]]\n",
    "    coefs_dict = dict(zip(relevant_columns, list(np.zeros(len(relevant_columns)))))\n",
    "    \n",
    "    for season in crop_seasons:\n",
    "        X_train = data.loc[(data[\"model\"] == \"WS\") \n",
    "                                 & (data[\"year\"] != season), relevant_columns].reset_index(drop=True)\n",
    "        y_train = data.loc[(data[\"model\"] == \"WS\") \n",
    "                                 & (data[\"year\"] != season), \"yield\"].reset_index(drop=True)\n",
    "            \n",
    "        pipeline = Pipeline([('scaler', StandardScaler()), \n",
    "                             ('var', VarianceThreshold()), \n",
    "                             ('selector', SelectKBest(f_regression, k=9)),\n",
    "                             ('estimator', Ridge())])\n",
    "        \n",
    "        reg = pipeline.fit(X_train, y_train) \n",
    "        current_coef_dict = dict(zip(reg[\"selector\"].get_feature_names_out(relevant_columns), reg[\"estimator\"].coef_))\n",
    "        coefs_dict = {k: coefs_dict.get(k, 0) + current_coef_dict.get(k, 0) for k in set(coefs_dict)}\n",
    "        \n",
    "    return coefs_dict"
   ]
  },
  {
   "cell_type": "code",
   "execution_count": 134,
   "id": "57e11c8c",
   "metadata": {},
   "outputs": [],
   "source": [
    "coefs = (np.\n",
    "         round(pd\n",
    "               .DataFrame(index=[0], \n",
    "                          data=feature_importance(kfold_cv_dataset))\n",
    "               .transpose()\n",
    "               .rename(columns={0:\"coef\"})\n",
    "               .sort_values(by=\"coef\") / 24, 2))"
   ]
  },
  {
   "cell_type": "code",
   "execution_count": 109,
   "id": "286f9fcd",
   "metadata": {},
   "outputs": [],
   "source": [
    "coefs = coefs.reset_index()"
   ]
  },
  {
   "cell_type": "code",
   "execution_count": 111,
   "id": "bba36fff",
   "metadata": {},
   "outputs": [],
   "source": [
    "coefs[\"location\"] = coefs[\"index\"].str[-1:]"
   ]
  },
  {
   "cell_type": "code",
   "execution_count": 115,
   "id": "c9605a6e",
   "metadata": {},
   "outputs": [],
   "source": [
    "coefs[\"month\"] = coefs[\"index\"].str[-5:-2]"
   ]
  },
  {
   "cell_type": "code",
   "execution_count": 118,
   "id": "4fe00408",
   "metadata": {},
   "outputs": [],
   "source": [
    "coefs[\"var\"] = coefs[\"index\"].str[:-6]"
   ]
  },
  {
   "cell_type": "code",
   "execution_count": 122,
   "id": "4c73b892",
   "metadata": {},
   "outputs": [],
   "source": [
    "coefs = coefs.drop(columns=[\"index\"])"
   ]
  },
  {
   "cell_type": "code",
   "execution_count": 129,
   "id": "623a793e",
   "metadata": {},
   "outputs": [],
   "source": [
    "coefs[\"climate_var\"] = coefs[\"month\"] + \"_\" + coefs[\"var\"]"
   ]
  },
  {
   "cell_type": "code",
   "execution_count": 130,
   "id": "6c528f92",
   "metadata": {},
   "outputs": [
    {
     "data": {
      "text/html": [
       "<div>\n",
       "<style scoped>\n",
       "    .dataframe tbody tr th:only-of-type {\n",
       "        vertical-align: middle;\n",
       "    }\n",
       "\n",
       "    .dataframe tbody tr th {\n",
       "        vertical-align: top;\n",
       "    }\n",
       "\n",
       "    .dataframe thead th {\n",
       "        text-align: right;\n",
       "    }\n",
       "</style>\n",
       "<table border=\"1\" class=\"dataframe\">\n",
       "  <thead>\n",
       "    <tr style=\"text-align: right;\">\n",
       "      <th>location</th>\n",
       "      <th>1</th>\n",
       "      <th>2</th>\n",
       "      <th>3</th>\n",
       "      <th>4</th>\n",
       "    </tr>\n",
       "    <tr>\n",
       "      <th>climate_var</th>\n",
       "      <th></th>\n",
       "      <th></th>\n",
       "      <th></th>\n",
       "      <th></th>\n",
       "    </tr>\n",
       "  </thead>\n",
       "  <tbody>\n",
       "    <tr>\n",
       "      <th>Aug_Rain</th>\n",
       "      <td>0.00</td>\n",
       "      <td>0.00</td>\n",
       "      <td>0.00</td>\n",
       "      <td>0.00</td>\n",
       "    </tr>\n",
       "    <tr>\n",
       "      <th>Aug_Tmean</th>\n",
       "      <td>15.75</td>\n",
       "      <td>-51.59</td>\n",
       "      <td>-6.65</td>\n",
       "      <td>-95.55</td>\n",
       "    </tr>\n",
       "    <tr>\n",
       "      <th>Oct_Rain</th>\n",
       "      <td>0.00</td>\n",
       "      <td>0.00</td>\n",
       "      <td>0.00</td>\n",
       "      <td>0.00</td>\n",
       "    </tr>\n",
       "    <tr>\n",
       "      <th>Oct_Tmean</th>\n",
       "      <td>-57.12</td>\n",
       "      <td>12.29</td>\n",
       "      <td>-150.49</td>\n",
       "      <td>22.62</td>\n",
       "    </tr>\n",
       "    <tr>\n",
       "      <th>Sep_Rain</th>\n",
       "      <td>-1.97</td>\n",
       "      <td>3.03</td>\n",
       "      <td>-60.03</td>\n",
       "      <td>-74.30</td>\n",
       "    </tr>\n",
       "    <tr>\n",
       "      <th>Sep_Tmean</th>\n",
       "      <td>0.00</td>\n",
       "      <td>0.00</td>\n",
       "      <td>0.00</td>\n",
       "      <td>0.00</td>\n",
       "    </tr>\n",
       "  </tbody>\n",
       "</table>\n",
       "</div>"
      ],
      "text/plain": [
       "location         1      2       3      4\n",
       "climate_var                             \n",
       "Aug_Rain      0.00   0.00    0.00   0.00\n",
       "Aug_Tmean    15.75 -51.59   -6.65 -95.55\n",
       "Oct_Rain      0.00   0.00    0.00   0.00\n",
       "Oct_Tmean   -57.12  12.29 -150.49  22.62\n",
       "Sep_Rain     -1.97   3.03  -60.03 -74.30\n",
       "Sep_Tmean     0.00   0.00    0.00   0.00"
      ]
     },
     "execution_count": 130,
     "metadata": {},
     "output_type": "execute_result"
    }
   ],
   "source": [
    "coefs.pivot(index=\"climate_var\", columns=\"location\", values=\"coef\")"
   ]
  }
 ],
 "metadata": {
  "kernelspec": {
   "display_name": "Python 3.9.12 ('base')",
   "language": "python",
   "name": "python3"
  },
  "language_info": {
   "codemirror_mode": {
    "name": "ipython",
    "version": 3
   },
   "file_extension": ".py",
   "mimetype": "text/x-python",
   "name": "python",
   "nbconvert_exporter": "python",
   "pygments_lexer": "ipython3",
   "version": "3.9.12"
  },
  "vscode": {
   "interpreter": {
    "hash": "7bdd4fa5e4a01778d662c250f68cd0ae4cd5c6713655d3ff4cfd53a48ea87565"
   }
  }
 },
 "nbformat": 4,
 "nbformat_minor": 5
}
