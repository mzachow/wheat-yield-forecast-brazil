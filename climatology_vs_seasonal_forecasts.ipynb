{
 "cells": [
  {
   "cell_type": "code",
   "execution_count": 1,
   "id": "26de6ba5",
   "metadata": {},
   "outputs": [],
   "source": [
    "# Libraries\n",
    "import warnings\n",
    "import numpy as np\n",
    "import pandas as pd\n",
    "import seaborn as sns\n",
    "import helperfunctions as hf\n",
    "import matplotlib.pyplot as plt\n",
    "from scipy.stats import pearsonr\n",
    "from sklearn.pipeline import Pipeline\n",
    "from sklearn.preprocessing import StandardScaler, MinMaxScaler\n",
    "from sklearn.metrics import mean_squared_error as mse\n",
    "from sklearn.linear_model import LinearRegression, Ridge\n",
    "from sklearn.feature_selection import SelectKBest, f_regression, VarianceThreshold\n",
    "from IPython.core.interactiveshell import InteractiveShell\n",
    "\n",
    "# Notebook Settings \n",
    "warnings.simplefilter(action='ignore', category=FutureWarning)\n",
    "warnings.filterwarnings(\"error\")\n",
    "pd.set_option('display.max_columns', 500)\n",
    "InteractiveShell.ast_node_interactivity = \"all\"\n",
    "%load_ext autoreload\n",
    "%autoreload 2\n",
    "\n",
    "# Variables\n",
    "crop_seasons = list(range(1993,2017))\n",
    "months_of_crop_season = list(range(7,11))\n",
    "homogeneous_groups = list(range(1,5))"
   ]
  },
  {
   "cell_type": "markdown",
   "id": "2d1ef0eb",
   "metadata": {},
   "source": [
    "## Content\n",
    "* [1. Read Data](#read_data)\n",
    "* [2. Bias-Adjustment](#bias_adjustment)\n",
    "* [3. Dataset Completion](#dataset_completion)\n",
    "* [4. Feature Preparation](#feature_preparation)\n",
    "* [5. Include Yield Data](#yield_data)\n",
    "* [6. K-Fold Cross Validation](#cross_validation)\n",
    "* [7. Visualization](#visualization)"
   ]
  },
  {
   "cell_type": "markdown",
   "id": "1b14399b",
   "metadata": {},
   "source": [
    "## Abstract"
   ]
  },
  {
   "cell_type": "markdown",
   "id": "be6431a7",
   "metadata": {},
   "source": [
    "The amount of wheat imports to Brazil depend on its national production. Wheat production failures and price increases can be anticipated before harvest with wheat yield forecast systems. The goal of this study was to analyze how seasonal climate models can be useful to forecast national trend-corrected wheat yield in Brazil. We used monthly aggregated temperature and precipitation data during the last three months of the wheat growing season from August to October to train a ridge regression model. The studied climate models were from the European Center for Medium-Range Weather Forecasts (ECMWF), the National Centers for Environmental Prediction (NCEP), and the UK-based Met Office (UKMO). We further tested a multi-model ensembles (MME) approach of the three climate models as well as a climatological approach, whose forecasts for each site, and month is based on historical climate. For every season from 1993-2016, we initialized forecasts at the beginning of each month during the crop season from April to October. From August on, we supplemented climate features from past months with observations. Wheat yield anomaly forecasts improved towards harvest. For some models and month of forecast initialization, the climatological approach performed better than single seasonal climate models. However, the multi-model ensemble as well as the ECMWF-based wheat yield forecasts consistently outperformed climatology and two months before harvest wheat yield could be forecasted with 9%, 9.1%, and 10.1% RMSE respectively. Our results demonstrated that seasonal climate models and their aggregation to multi-model ensembles provide valuable information to anticipate possible wheat production shortcomings in Brazil."
   ]
  },
  {
   "cell_type": "markdown",
   "id": "f00b2ffb",
   "metadata": {},
   "source": [
    "## 1. Read Data <a name=\"read_data\"></a>"
   ]
  },
  {
   "cell_type": "markdown",
   "id": "983e8257",
   "metadata": {},
   "source": [
    "Our approach requires three sources of climate data: seasonal climate models (hindcasts), observations, and climatology.\n",
    "- **hindcasts**: There are three seasonal climate models that we requested data from: ECMWF, UKMO, NCEP. We also computed an unweighted average of the outputs of the three climate models to have a multi-model ensemble output (MME). We requested retrospective seasonal climate forecasts, called hindcasts from 1993 to 2016 for four locations (zones) in Brazil. The locations were selected based on the findings from Nóia Júnior et al. ([2021](https://iopscience.iop.org/article/10.1088/1748-9326/ac26f3)). For each model, year, and location, we requested seven hindcasts, initialized at the beginning of each month during the wheat growing season from April to October and forecasting precipitation and temperature data until the end of the season.\n",
    "- **observations**: We also need climate observations from the same four locations ([Nóia Júnior et al., 2021](https://iopscience.iop.org/article/10.1088/1748-9326/ac26f3)) from 1993 to 2016 along the wheat growing season from April to October. This data is used for bias-adjustment of the hindcasts but also for the wheat yield forecast model. When a forecast is provided in month *m*, climate features from past month are supplemented with climate observations, while future months are based on forecasted climate features. We additionally, need climate observations from 1961 to 1992 that we use to calculate historical, *normal*, climate conditions (climatology) to benchmark our approach with.\n",
    "- **climatology**: For each location and climate variable, we compute the average from past observations from 1961 to 1992."
   ]
  },
  {
   "cell_type": "code",
   "execution_count": 2,
   "id": "0fd0f701",
   "metadata": {},
   "outputs": [
    {
     "data": {
      "text/html": [
       "<div>\n",
       "<style scoped>\n",
       "    .dataframe tbody tr th:only-of-type {\n",
       "        vertical-align: middle;\n",
       "    }\n",
       "\n",
       "    .dataframe tbody tr th {\n",
       "        vertical-align: top;\n",
       "    }\n",
       "\n",
       "    .dataframe thead th {\n",
       "        text-align: right;\n",
       "    }\n",
       "</style>\n",
       "<table border=\"1\" class=\"dataframe\">\n",
       "  <thead>\n",
       "    <tr style=\"text-align: right;\">\n",
       "      <th></th>\n",
       "      <th></th>\n",
       "      <th></th>\n",
       "      <th></th>\n",
       "      <th></th>\n",
       "      <th>time</th>\n",
       "      <th>tmean</th>\n",
       "      <th>tmax</th>\n",
       "      <th>tmin</th>\n",
       "      <th>rain</th>\n",
       "    </tr>\n",
       "    <tr>\n",
       "      <th>model</th>\n",
       "      <th>init_month</th>\n",
       "      <th>zone</th>\n",
       "      <th>year</th>\n",
       "      <th>month</th>\n",
       "      <th></th>\n",
       "      <th></th>\n",
       "      <th></th>\n",
       "      <th></th>\n",
       "      <th></th>\n",
       "    </tr>\n",
       "  </thead>\n",
       "  <tbody>\n",
       "    <tr>\n",
       "      <th>ECMWF</th>\n",
       "      <th>4</th>\n",
       "      <th>1</th>\n",
       "      <th>1993</th>\n",
       "      <th>8</th>\n",
       "      <td>1993-08-01</td>\n",
       "      <td>10.479694</td>\n",
       "      <td>16.949674</td>\n",
       "      <td>6.975128</td>\n",
       "      <td>2.893066</td>\n",
       "    </tr>\n",
       "  </tbody>\n",
       "</table>\n",
       "</div>"
      ],
      "text/plain": [
       "                                       time      tmean       tmax      tmin  \\\n",
       "model init_month zone year month                                              \n",
       "ECMWF 4          1    1993 8     1993-08-01  10.479694  16.949674  6.975128   \n",
       "\n",
       "                                      rain  \n",
       "model init_month zone year month            \n",
       "ECMWF 4          1    1993 8      2.893066  "
      ]
     },
     "execution_count": 2,
     "metadata": {},
     "output_type": "execute_result"
    },
    {
     "data": {
      "text/html": [
       "<div>\n",
       "<style scoped>\n",
       "    .dataframe tbody tr th:only-of-type {\n",
       "        vertical-align: middle;\n",
       "    }\n",
       "\n",
       "    .dataframe tbody tr th {\n",
       "        vertical-align: top;\n",
       "    }\n",
       "\n",
       "    .dataframe thead th {\n",
       "        text-align: right;\n",
       "    }\n",
       "</style>\n",
       "<table border=\"1\" class=\"dataframe\">\n",
       "  <thead>\n",
       "    <tr style=\"text-align: right;\">\n",
       "      <th></th>\n",
       "      <th></th>\n",
       "      <th></th>\n",
       "      <th></th>\n",
       "      <th></th>\n",
       "      <th>time</th>\n",
       "      <th>tmean</th>\n",
       "      <th>tmax</th>\n",
       "      <th>tmin</th>\n",
       "      <th>rain</th>\n",
       "    </tr>\n",
       "    <tr>\n",
       "      <th>model</th>\n",
       "      <th>init_month</th>\n",
       "      <th>zone</th>\n",
       "      <th>year</th>\n",
       "      <th>month</th>\n",
       "      <th></th>\n",
       "      <th></th>\n",
       "      <th></th>\n",
       "      <th></th>\n",
       "      <th></th>\n",
       "    </tr>\n",
       "  </thead>\n",
       "  <tbody>\n",
       "    <tr>\n",
       "      <th>WS</th>\n",
       "      <th>11</th>\n",
       "      <th>1</th>\n",
       "      <th>1993</th>\n",
       "      <th>8</th>\n",
       "      <td>1993-08-01</td>\n",
       "      <td>5.9</td>\n",
       "      <td>9.8</td>\n",
       "      <td>2.0</td>\n",
       "      <td>0.0</td>\n",
       "    </tr>\n",
       "  </tbody>\n",
       "</table>\n",
       "</div>"
      ],
      "text/plain": [
       "                                       time  tmean  tmax  tmin  rain\n",
       "model init_month zone year month                                    \n",
       "WS    11         1    1993 8     1993-08-01    5.9   9.8   2.0   0.0"
      ]
     },
     "execution_count": 2,
     "metadata": {},
     "output_type": "execute_result"
    },
    {
     "data": {
      "text/html": [
       "<div>\n",
       "<style scoped>\n",
       "    .dataframe tbody tr th:only-of-type {\n",
       "        vertical-align: middle;\n",
       "    }\n",
       "\n",
       "    .dataframe tbody tr th {\n",
       "        vertical-align: top;\n",
       "    }\n",
       "\n",
       "    .dataframe thead th {\n",
       "        text-align: right;\n",
       "    }\n",
       "</style>\n",
       "<table border=\"1\" class=\"dataframe\">\n",
       "  <thead>\n",
       "    <tr style=\"text-align: right;\">\n",
       "      <th></th>\n",
       "      <th>zone</th>\n",
       "      <th>month</th>\n",
       "      <th>tmean</th>\n",
       "      <th>tmax</th>\n",
       "      <th>tmin</th>\n",
       "      <th>rain</th>\n",
       "    </tr>\n",
       "  </thead>\n",
       "  <tbody>\n",
       "    <tr>\n",
       "      <th>0</th>\n",
       "      <td>1</td>\n",
       "      <td>8</td>\n",
       "      <td>14.822984</td>\n",
       "      <td>19.842944</td>\n",
       "      <td>9.803024</td>\n",
       "      <td>169.146875</td>\n",
       "    </tr>\n",
       "  </tbody>\n",
       "</table>\n",
       "</div>"
      ],
      "text/plain": [
       "   zone  month      tmean       tmax      tmin        rain\n",
       "0     1      8  14.822984  19.842944  9.803024  169.146875"
      ]
     },
     "execution_count": 2,
     "metadata": {},
     "output_type": "execute_result"
    }
   ],
   "source": [
    "hindcasts = hf.read_raw_model_data() # 1993-2016\n",
    "observations = hf.read_observed_weather() # 1961-2016\n",
    "climatology = hf.create_climatology_data(observations) # 1961-1992\n",
    "\n",
    "observations = observations.loc[(\"WS\", 11, [1, 2, 3, 4], list(range(1993, 2017)))] # 1993-2016\n",
    "\n",
    "hindcasts.head(1)\n",
    "observations.head(1)\n",
    "climatology.head(1)"
   ]
  },
  {
   "cell_type": "markdown",
   "id": "e464a220",
   "metadata": {},
   "source": [
    "## 2. Bias-Adjustment <a name=\"bias_adjustment\"></a>\n",
    "\n",
    "Biases are systematic errors between forecasts and observations that come from inaccuracies in the model design and the sensitivity of climate models to initial conditions (see, e.g. [ECMWF-Wiki](https://confluence.ecmwf.int/display/CKB/Seasonal+forecasts+and+the+Copernicus+Climate+Change+Service)). We use [scaled (normal) distribution mapping](https://hess.copernicus.org/articles/21/2649/2017/) to adjust biases in forecasted daily mean, maximum, and minimum air temperature. We do not apply any bias adjustment to rain forecasts as it did not lead to improvements in mean absolut error. We adjust temperature values by *model*, *init_month*, *zone*, and *month* for each year *y* using observations and hindcasts from all other years (Leave-One-Out) to avoid overfitting."
   ]
  },
  {
   "cell_type": "code",
   "execution_count": 3,
   "id": "dd7a8301",
   "metadata": {},
   "outputs": [],
   "source": [
    "hindcasts_temp_adjusted = hf.adjust_mean_temperature_bias(observations, hindcasts)"
   ]
  },
  {
   "cell_type": "markdown",
   "id": "f9aaab02",
   "metadata": {},
   "source": [
    "## 3. Dataset Completion <a name=\"dataset_completion\"></a>"
   ]
  },
  {
   "cell_type": "markdown",
   "id": "b11dbf57",
   "metadata": {},
   "source": [
    "We need monthly climate features for August, September, and October. Hindcasts that are initialized between April and July provide forecasts over the entire relevant period from August to October. Hindcasts that are initialized later, e.g. in September, need to be supplemented with climate observations for days in the relevant period that are in the past, e.g. August."
   ]
  },
  {
   "cell_type": "code",
   "execution_count": 4,
   "id": "48b6f8d9",
   "metadata": {},
   "outputs": [],
   "source": [
    "hindcast_complete = hf.fill_missing_dates_with_observations(observations, hindcasts_temp_adjusted) "
   ]
  },
  {
   "cell_type": "markdown",
   "id": "3fdb89fb",
   "metadata": {},
   "source": [
    "Validation that for each *model*, *init_month*, *zone*, and *year* we have the same number of observations: 31 days for Aug + 30 days for Sept + 31 days for Oct."
   ]
  },
  {
   "cell_type": "code",
   "execution_count": 5,
   "id": "bb3e4a05",
   "metadata": {},
   "outputs": [
    {
     "data": {
      "text/plain": [
       "array([92], dtype=int64)"
      ]
     },
     "execution_count": 5,
     "metadata": {},
     "output_type": "execute_result"
    }
   ],
   "source": [
    "hindcast_complete.reset_index().groupby([\"model\", \"init_month\", \"zone\", \"year\"]).size().unique()"
   ]
  },
  {
   "cell_type": "markdown",
   "id": "342e2d98",
   "metadata": {},
   "source": [
    "We concatenate the hindcasted daily values with the fully observed daily values."
   ]
  },
  {
   "cell_type": "code",
   "execution_count": 6,
   "id": "96622aad",
   "metadata": {},
   "outputs": [],
   "source": [
    "climate_records_complete = pd.concat([hindcast_complete, observations]).sort_index()"
   ]
  },
  {
   "cell_type": "markdown",
   "id": "e412b4b8",
   "metadata": {},
   "source": [
    "## 4. Feature Preparation <a name=\"feature_preparation\"></a>"
   ]
  },
  {
   "cell_type": "markdown",
   "id": "b624d8e3",
   "metadata": {},
   "source": [
    "### 4.1 Feature Computation "
   ]
  },
  {
   "cell_type": "markdown",
   "id": "681f6fc2",
   "metadata": {},
   "source": [
    "From the daily values we calculate monthly climate indices."
   ]
  },
  {
   "cell_type": "code",
   "execution_count": 7,
   "id": "505f0242",
   "metadata": {
    "scrolled": false
   },
   "outputs": [
    {
     "data": {
      "text/html": [
       "<div>\n",
       "<style scoped>\n",
       "    .dataframe tbody tr th:only-of-type {\n",
       "        vertical-align: middle;\n",
       "    }\n",
       "\n",
       "    .dataframe tbody tr th {\n",
       "        vertical-align: top;\n",
       "    }\n",
       "\n",
       "    .dataframe thead th {\n",
       "        text-align: right;\n",
       "    }\n",
       "</style>\n",
       "<table border=\"1\" class=\"dataframe\">\n",
       "  <thead>\n",
       "    <tr style=\"text-align: right;\">\n",
       "      <th></th>\n",
       "      <th>model</th>\n",
       "      <th>init_month</th>\n",
       "      <th>zone</th>\n",
       "      <th>year</th>\n",
       "      <th>Tmean_Aug</th>\n",
       "      <th>Tmean_Oct</th>\n",
       "      <th>Tmean_Sep</th>\n",
       "      <th>Tmax_Aug</th>\n",
       "      <th>Tmax_Oct</th>\n",
       "      <th>Tmax_Sep</th>\n",
       "      <th>Tmin_Aug</th>\n",
       "      <th>Tmin_Oct</th>\n",
       "      <th>Tmin_Sep</th>\n",
       "      <th>Rain_Aug</th>\n",
       "      <th>Rain_Oct</th>\n",
       "      <th>Rain_Sep</th>\n",
       "    </tr>\n",
       "  </thead>\n",
       "  <tbody>\n",
       "    <tr>\n",
       "      <th>0</th>\n",
       "      <td>ECMWF</td>\n",
       "      <td>4</td>\n",
       "      <td>1</td>\n",
       "      <td>1993</td>\n",
       "      <td>15.056569</td>\n",
       "      <td>19.002330</td>\n",
       "      <td>16.206275</td>\n",
       "      <td>20.066604</td>\n",
       "      <td>24.250512</td>\n",
       "      <td>21.442299</td>\n",
       "      <td>9.777410</td>\n",
       "      <td>13.857031</td>\n",
       "      <td>11.072509</td>\n",
       "      <td>165.319824</td>\n",
       "      <td>223.339844</td>\n",
       "      <td>177.917481</td>\n",
       "    </tr>\n",
       "    <tr>\n",
       "      <th>1</th>\n",
       "      <td>ECMWF</td>\n",
       "      <td>4</td>\n",
       "      <td>1</td>\n",
       "      <td>1994</td>\n",
       "      <td>15.019860</td>\n",
       "      <td>18.899465</td>\n",
       "      <td>15.657911</td>\n",
       "      <td>20.211710</td>\n",
       "      <td>24.296008</td>\n",
       "      <td>20.712760</td>\n",
       "      <td>9.849027</td>\n",
       "      <td>13.576093</td>\n",
       "      <td>10.618096</td>\n",
       "      <td>168.437500</td>\n",
       "      <td>221.113281</td>\n",
       "      <td>203.830566</td>\n",
       "    </tr>\n",
       "  </tbody>\n",
       "</table>\n",
       "</div>"
      ],
      "text/plain": [
       "   model  init_month  zone  year  Tmean_Aug  Tmean_Oct  Tmean_Sep   Tmax_Aug  \\\n",
       "0  ECMWF           4     1  1993  15.056569  19.002330  16.206275  20.066604   \n",
       "1  ECMWF           4     1  1994  15.019860  18.899465  15.657911  20.211710   \n",
       "\n",
       "    Tmax_Oct   Tmax_Sep  Tmin_Aug   Tmin_Oct   Tmin_Sep    Rain_Aug  \\\n",
       "0  24.250512  21.442299  9.777410  13.857031  11.072509  165.319824   \n",
       "1  24.296008  20.712760  9.849027  13.576093  10.618096  168.437500   \n",
       "\n",
       "     Rain_Oct    Rain_Sep  \n",
       "0  223.339844  177.917481  \n",
       "1  221.113281  203.830566  "
      ]
     },
     "execution_count": 7,
     "metadata": {},
     "output_type": "execute_result"
    }
   ],
   "source": [
    "features_hindcasts_observations = hf.aggregate_data(climate_records_complete)\n",
    "features_hindcasts_observations.head(2)"
   ]
  },
  {
   "cell_type": "markdown",
   "id": "1d1151ea",
   "metadata": {},
   "source": [
    "We include climatology features."
   ]
  },
  {
   "cell_type": "code",
   "execution_count": 8,
   "id": "5e463a30",
   "metadata": {},
   "outputs": [],
   "source": [
    "features_climatology = hf.create_climatology_features(features_hindcasts_observations, climatology)\n",
    "features_complete = (pd\n",
    "                     .concat([features_hindcasts_observations, features_climatology])\n",
    "                     .sort_values([\"model\", \"init_month\", \"zone\", \"year\"])\n",
    "                     .drop_duplicates()\n",
    "                     .reset_index(drop=True))"
   ]
  },
  {
   "cell_type": "markdown",
   "id": "7d25978e",
   "metadata": {},
   "source": [
    "### 4.2 Remove Correlated Features"
   ]
  },
  {
   "cell_type": "markdown",
   "id": "75d9bfea",
   "metadata": {},
   "source": [
    "We will fit our model on observed monthly climate features from August to October. Features need to be uncorrelated, which is why we will drop columns that have a correlation coefficient higher than 0.9."
   ]
  },
  {
   "cell_type": "code",
   "execution_count": 9,
   "id": "34021e76",
   "metadata": {},
   "outputs": [
    {
     "name": "stdout",
     "output_type": "stream",
     "text": [
      "['Tmax_Aug', 'Tmax_Oct', 'Tmax_Sep', 'Tmin_Aug', 'Tmin_Oct', 'Tmin_Sep']\n"
     ]
    }
   ],
   "source": [
    "relevant_columns = ['Tmean_Aug', 'Tmean_Oct', 'Tmean_Sep', 'Tmax_Aug', 'Tmax_Oct', 'Tmax_Sep', 'Tmin_Aug', 'Tmin_Oct', 'Tmin_Sep', 'Rain_Aug', 'Rain_Oct', 'Rain_Sep']\n",
    "values = features_complete.loc[(features_complete[\"model\"] == \"WS\"), relevant_columns]\n",
    "cor_matrix = values.corr().abs().round(2)\n",
    "upper_tri = cor_matrix.where(np.triu(np.ones(cor_matrix.shape),k=1).astype(bool))\n",
    "to_drop = [column for column in upper_tri.columns if any(upper_tri[column] > 0.9)]\n",
    "print(to_drop)\n",
    "\n",
    "features_complete = features_complete.drop(to_drop, axis=1)"
   ]
  },
  {
   "cell_type": "code",
   "execution_count": 10,
   "id": "4218bd9f",
   "metadata": {},
   "outputs": [
    {
     "data": {
      "text/html": [
       "<div>\n",
       "<style scoped>\n",
       "    .dataframe tbody tr th:only-of-type {\n",
       "        vertical-align: middle;\n",
       "    }\n",
       "\n",
       "    .dataframe tbody tr th {\n",
       "        vertical-align: top;\n",
       "    }\n",
       "\n",
       "    .dataframe thead th {\n",
       "        text-align: right;\n",
       "    }\n",
       "</style>\n",
       "<table border=\"1\" class=\"dataframe\">\n",
       "  <thead>\n",
       "    <tr style=\"text-align: right;\">\n",
       "      <th></th>\n",
       "      <th>model</th>\n",
       "      <th>init_month</th>\n",
       "      <th>zone</th>\n",
       "      <th>year</th>\n",
       "      <th>Tmean_Aug</th>\n",
       "      <th>Tmean_Oct</th>\n",
       "      <th>Tmean_Sep</th>\n",
       "      <th>Rain_Aug</th>\n",
       "      <th>Rain_Oct</th>\n",
       "      <th>Rain_Sep</th>\n",
       "    </tr>\n",
       "  </thead>\n",
       "  <tbody>\n",
       "    <tr>\n",
       "      <th>1298</th>\n",
       "      <td>ECMWF</td>\n",
       "      <td>9</td>\n",
       "      <td>3</td>\n",
       "      <td>1995</td>\n",
       "      <td>20.432258</td>\n",
       "      <td>22.595434</td>\n",
       "      <td>21.310315</td>\n",
       "      <td>9.700000</td>\n",
       "      <td>175.810547</td>\n",
       "      <td>88.633118</td>\n",
       "    </tr>\n",
       "    <tr>\n",
       "      <th>3680</th>\n",
       "      <td>UKMO</td>\n",
       "      <td>10</td>\n",
       "      <td>2</td>\n",
       "      <td>2001</td>\n",
       "      <td>21.109147</td>\n",
       "      <td>22.607174</td>\n",
       "      <td>20.862233</td>\n",
       "      <td>77.900000</td>\n",
       "      <td>188.751344</td>\n",
       "      <td>33.800000</td>\n",
       "    </tr>\n",
       "    <tr>\n",
       "      <th>66</th>\n",
       "      <td>CLIMATE</td>\n",
       "      <td>4</td>\n",
       "      <td>3</td>\n",
       "      <td>2011</td>\n",
       "      <td>18.167128</td>\n",
       "      <td>21.559119</td>\n",
       "      <td>19.714991</td>\n",
       "      <td>76.084375</td>\n",
       "      <td>168.068750</td>\n",
       "      <td>130.409375</td>\n",
       "    </tr>\n",
       "    <tr>\n",
       "      <th>2046</th>\n",
       "      <td>MME</td>\n",
       "      <td>9</td>\n",
       "      <td>2</td>\n",
       "      <td>1999</td>\n",
       "      <td>19.995404</td>\n",
       "      <td>23.326128</td>\n",
       "      <td>22.066587</td>\n",
       "      <td>0.000000</td>\n",
       "      <td>145.091572</td>\n",
       "      <td>83.794928</td>\n",
       "    </tr>\n",
       "    <tr>\n",
       "      <th>3124</th>\n",
       "      <td>UKMO</td>\n",
       "      <td>4</td>\n",
       "      <td>3</td>\n",
       "      <td>1997</td>\n",
       "      <td>18.941419</td>\n",
       "      <td>21.674695</td>\n",
       "      <td>19.652408</td>\n",
       "      <td>93.497445</td>\n",
       "      <td>293.729387</td>\n",
       "      <td>228.531137</td>\n",
       "    </tr>\n",
       "  </tbody>\n",
       "</table>\n",
       "</div>"
      ],
      "text/plain": [
       "        model  init_month  zone  year  Tmean_Aug  Tmean_Oct  Tmean_Sep  \\\n",
       "1298    ECMWF           9     3  1995  20.432258  22.595434  21.310315   \n",
       "3680     UKMO          10     2  2001  21.109147  22.607174  20.862233   \n",
       "66    CLIMATE           4     3  2011  18.167128  21.559119  19.714991   \n",
       "2046      MME           9     2  1999  19.995404  23.326128  22.066587   \n",
       "3124     UKMO           4     3  1997  18.941419  21.674695  19.652408   \n",
       "\n",
       "       Rain_Aug    Rain_Oct    Rain_Sep  \n",
       "1298   9.700000  175.810547   88.633118  \n",
       "3680  77.900000  188.751344   33.800000  \n",
       "66    76.084375  168.068750  130.409375  \n",
       "2046   0.000000  145.091572   83.794928  \n",
       "3124  93.497445  293.729387  228.531137  "
      ]
     },
     "execution_count": 10,
     "metadata": {},
     "output_type": "execute_result"
    }
   ],
   "source": [
    "features_complete.sample(5)"
   ]
  },
  {
   "cell_type": "markdown",
   "id": "5dc50996",
   "metadata": {},
   "source": [
    "It is not surprising that Tmax and Tmin features highly correlate with Tmean and are therefore dropped."
   ]
  },
  {
   "cell_type": "markdown",
   "id": "735a7952",
   "metadata": {},
   "source": [
    "### 4.3 Unstack Features by Zone"
   ]
  },
  {
   "cell_type": "markdown",
   "id": "d4a1bc8f",
   "metadata": {},
   "source": [
    "Previously, in the approach of [Nóia Júnior et al., 2021](https://iopscience.iop.org/article/10.1088/1748-9326/ac26f3), separate models were trained for each location (agro-climatic homogeneous groups) and their estimates where extrapolated to national level using harvested area estimates for each group. We now choose a different approach, where we directly estimate national wheat yield and the model can decide which location and climate feature it can assign more importance to. We simply need to unstack the *zone* column. The feature names will now hold an additional suffix *_n*, where *n* ranges from 1 to 4, indicating the location where that climate feature belongs to."
   ]
  },
  {
   "cell_type": "code",
   "execution_count": 23,
   "id": "f7edd16a",
   "metadata": {},
   "outputs": [
    {
     "data": {
      "text/html": [
       "<div>\n",
       "<style scoped>\n",
       "    .dataframe tbody tr th:only-of-type {\n",
       "        vertical-align: middle;\n",
       "    }\n",
       "\n",
       "    .dataframe tbody tr th {\n",
       "        vertical-align: top;\n",
       "    }\n",
       "\n",
       "    .dataframe thead th {\n",
       "        text-align: right;\n",
       "    }\n",
       "</style>\n",
       "<table border=\"1\" class=\"dataframe\">\n",
       "  <thead>\n",
       "    <tr style=\"text-align: right;\">\n",
       "      <th></th>\n",
       "      <th>model</th>\n",
       "      <th>init_month</th>\n",
       "      <th>year</th>\n",
       "      <th>Tmean_Aug_1</th>\n",
       "      <th>Tmean_Aug_2</th>\n",
       "      <th>Tmean_Aug_3</th>\n",
       "      <th>Tmean_Aug_4</th>\n",
       "      <th>Tmean_Oct_1</th>\n",
       "      <th>Tmean_Oct_2</th>\n",
       "      <th>Tmean_Oct_3</th>\n",
       "      <th>Tmean_Oct_4</th>\n",
       "      <th>Tmean_Sep_1</th>\n",
       "      <th>Tmean_Sep_2</th>\n",
       "      <th>Tmean_Sep_3</th>\n",
       "      <th>Tmean_Sep_4</th>\n",
       "      <th>Rain_Aug_1</th>\n",
       "      <th>Rain_Aug_2</th>\n",
       "      <th>Rain_Aug_3</th>\n",
       "      <th>Rain_Aug_4</th>\n",
       "      <th>Rain_Oct_1</th>\n",
       "      <th>Rain_Oct_2</th>\n",
       "      <th>Rain_Oct_3</th>\n",
       "      <th>Rain_Oct_4</th>\n",
       "      <th>Rain_Sep_1</th>\n",
       "      <th>Rain_Sep_2</th>\n",
       "      <th>Rain_Sep_3</th>\n",
       "      <th>Rain_Sep_4</th>\n",
       "    </tr>\n",
       "  </thead>\n",
       "  <tbody>\n",
       "    <tr>\n",
       "      <th>422</th>\n",
       "      <td>MME</td>\n",
       "      <td>5</td>\n",
       "      <td>2007</td>\n",
       "      <td>15.977822</td>\n",
       "      <td>21.420619</td>\n",
       "      <td>19.806135</td>\n",
       "      <td>16.931783</td>\n",
       "      <td>18.829763</td>\n",
       "      <td>23.931201</td>\n",
       "      <td>22.456860</td>\n",
       "      <td>19.262992</td>\n",
       "      <td>16.081884</td>\n",
       "      <td>22.488843</td>\n",
       "      <td>20.918863</td>\n",
       "      <td>17.486780</td>\n",
       "      <td>116.481432</td>\n",
       "      <td>36.318002</td>\n",
       "      <td>55.427908</td>\n",
       "      <td>57.199139</td>\n",
       "      <td>220.361464</td>\n",
       "      <td>139.634576</td>\n",
       "      <td>171.977010</td>\n",
       "      <td>170.392545</td>\n",
       "      <td>170.701981</td>\n",
       "      <td>74.135820</td>\n",
       "      <td>104.666275</td>\n",
       "      <td>106.918186</td>\n",
       "    </tr>\n",
       "    <tr>\n",
       "      <th>569</th>\n",
       "      <td>MME</td>\n",
       "      <td>11</td>\n",
       "      <td>2010</td>\n",
       "      <td>14.272581</td>\n",
       "      <td>19.751613</td>\n",
       "      <td>18.682258</td>\n",
       "      <td>15.424525</td>\n",
       "      <td>17.220968</td>\n",
       "      <td>21.869355</td>\n",
       "      <td>20.301613</td>\n",
       "      <td>17.978319</td>\n",
       "      <td>16.493333</td>\n",
       "      <td>22.193333</td>\n",
       "      <td>20.886667</td>\n",
       "      <td>17.444360</td>\n",
       "      <td>316.000000</td>\n",
       "      <td>30.600000</td>\n",
       "      <td>8.100000</td>\n",
       "      <td>35.300000</td>\n",
       "      <td>143.700000</td>\n",
       "      <td>161.000000</td>\n",
       "      <td>176.600000</td>\n",
       "      <td>172.400000</td>\n",
       "      <td>240.000000</td>\n",
       "      <td>116.600000</td>\n",
       "      <td>87.100000</td>\n",
       "      <td>59.500000</td>\n",
       "    </tr>\n",
       "    <tr>\n",
       "      <th>641</th>\n",
       "      <td>NCEP</td>\n",
       "      <td>6</td>\n",
       "      <td>2010</td>\n",
       "      <td>16.598215</td>\n",
       "      <td>21.724672</td>\n",
       "      <td>19.925472</td>\n",
       "      <td>17.270310</td>\n",
       "      <td>19.193978</td>\n",
       "      <td>24.344282</td>\n",
       "      <td>23.022596</td>\n",
       "      <td>19.529755</td>\n",
       "      <td>17.094916</td>\n",
       "      <td>23.092053</td>\n",
       "      <td>21.519581</td>\n",
       "      <td>18.160344</td>\n",
       "      <td>109.504062</td>\n",
       "      <td>19.495114</td>\n",
       "      <td>38.938158</td>\n",
       "      <td>68.419359</td>\n",
       "      <td>212.873116</td>\n",
       "      <td>105.877596</td>\n",
       "      <td>140.070389</td>\n",
       "      <td>199.172424</td>\n",
       "      <td>131.858055</td>\n",
       "      <td>99.321385</td>\n",
       "      <td>113.009727</td>\n",
       "      <td>109.795648</td>\n",
       "    </tr>\n",
       "    <tr>\n",
       "      <th>840</th>\n",
       "      <td>UKMO</td>\n",
       "      <td>7</td>\n",
       "      <td>1993</td>\n",
       "      <td>15.699502</td>\n",
       "      <td>20.756556</td>\n",
       "      <td>19.087147</td>\n",
       "      <td>16.642515</td>\n",
       "      <td>17.788888</td>\n",
       "      <td>23.118928</td>\n",
       "      <td>21.492618</td>\n",
       "      <td>18.485462</td>\n",
       "      <td>15.304123</td>\n",
       "      <td>21.355550</td>\n",
       "      <td>19.581959</td>\n",
       "      <td>16.723095</td>\n",
       "      <td>238.768985</td>\n",
       "      <td>125.605342</td>\n",
       "      <td>189.357738</td>\n",
       "      <td>174.470681</td>\n",
       "      <td>334.537588</td>\n",
       "      <td>174.189713</td>\n",
       "      <td>216.015789</td>\n",
       "      <td>185.000727</td>\n",
       "      <td>245.556685</td>\n",
       "      <td>138.513152</td>\n",
       "      <td>186.083202</td>\n",
       "      <td>201.929694</td>\n",
       "    </tr>\n",
       "    <tr>\n",
       "      <th>16</th>\n",
       "      <td>CLIMATE</td>\n",
       "      <td>4</td>\n",
       "      <td>2009</td>\n",
       "      <td>14.822984</td>\n",
       "      <td>19.118773</td>\n",
       "      <td>18.167128</td>\n",
       "      <td>15.893296</td>\n",
       "      <td>18.450806</td>\n",
       "      <td>22.123450</td>\n",
       "      <td>21.559119</td>\n",
       "      <td>18.863659</td>\n",
       "      <td>16.151771</td>\n",
       "      <td>20.549204</td>\n",
       "      <td>19.714991</td>\n",
       "      <td>17.109115</td>\n",
       "      <td>169.146875</td>\n",
       "      <td>60.000000</td>\n",
       "      <td>76.084375</td>\n",
       "      <td>77.984375</td>\n",
       "      <td>166.118750</td>\n",
       "      <td>162.996875</td>\n",
       "      <td>168.068750</td>\n",
       "      <td>139.240625</td>\n",
       "      <td>201.215625</td>\n",
       "      <td>109.409375</td>\n",
       "      <td>130.409375</td>\n",
       "      <td>120.700000</td>\n",
       "    </tr>\n",
       "  </tbody>\n",
       "</table>\n",
       "</div>"
      ],
      "text/plain": [
       "       model  init_month  year  Tmean_Aug_1  Tmean_Aug_2  Tmean_Aug_3  \\\n",
       "422      MME           5  2007    15.977822    21.420619    19.806135   \n",
       "569      MME          11  2010    14.272581    19.751613    18.682258   \n",
       "641     NCEP           6  2010    16.598215    21.724672    19.925472   \n",
       "840     UKMO           7  1993    15.699502    20.756556    19.087147   \n",
       "16   CLIMATE           4  2009    14.822984    19.118773    18.167128   \n",
       "\n",
       "     Tmean_Aug_4  Tmean_Oct_1  Tmean_Oct_2  Tmean_Oct_3  Tmean_Oct_4  \\\n",
       "422    16.931783    18.829763    23.931201    22.456860    19.262992   \n",
       "569    15.424525    17.220968    21.869355    20.301613    17.978319   \n",
       "641    17.270310    19.193978    24.344282    23.022596    19.529755   \n",
       "840    16.642515    17.788888    23.118928    21.492618    18.485462   \n",
       "16     15.893296    18.450806    22.123450    21.559119    18.863659   \n",
       "\n",
       "     Tmean_Sep_1  Tmean_Sep_2  Tmean_Sep_3  Tmean_Sep_4  Rain_Aug_1  \\\n",
       "422    16.081884    22.488843    20.918863    17.486780  116.481432   \n",
       "569    16.493333    22.193333    20.886667    17.444360  316.000000   \n",
       "641    17.094916    23.092053    21.519581    18.160344  109.504062   \n",
       "840    15.304123    21.355550    19.581959    16.723095  238.768985   \n",
       "16     16.151771    20.549204    19.714991    17.109115  169.146875   \n",
       "\n",
       "     Rain_Aug_2  Rain_Aug_3  Rain_Aug_4  Rain_Oct_1  Rain_Oct_2  Rain_Oct_3  \\\n",
       "422   36.318002   55.427908   57.199139  220.361464  139.634576  171.977010   \n",
       "569   30.600000    8.100000   35.300000  143.700000  161.000000  176.600000   \n",
       "641   19.495114   38.938158   68.419359  212.873116  105.877596  140.070389   \n",
       "840  125.605342  189.357738  174.470681  334.537588  174.189713  216.015789   \n",
       "16    60.000000   76.084375   77.984375  166.118750  162.996875  168.068750   \n",
       "\n",
       "     Rain_Oct_4  Rain_Sep_1  Rain_Sep_2  Rain_Sep_3  Rain_Sep_4  \n",
       "422  170.392545  170.701981   74.135820  104.666275  106.918186  \n",
       "569  172.400000  240.000000  116.600000   87.100000   59.500000  \n",
       "641  199.172424  131.858055   99.321385  113.009727  109.795648  \n",
       "840  185.000727  245.556685  138.513152  186.083202  201.929694  \n",
       "16   139.240625  201.215625  109.409375  130.409375  120.700000  "
      ]
     },
     "execution_count": 23,
     "metadata": {},
     "output_type": "execute_result"
    }
   ],
   "source": [
    "features_complete_unstacked = features_complete.set_index([\"zone\", \"model\", \"init_month\", \"year\"]).unstack(0)\n",
    "features_complete_unstacked.columns = [str(s[0]) + \"_\" + str(s[1]) for s in features_complete_unstacked.columns]\n",
    "features_complete_unstacked = features_complete_unstacked.reset_index()\n",
    "features_complete_unstacked.sample(5)"
   ]
  },
  {
   "cell_type": "markdown",
   "id": "8b78155a",
   "metadata": {},
   "source": [
    "## 6. Include Yield Data <a name=\"yield_data\"></a>"
   ]
  },
  {
   "cell_type": "markdown",
   "id": "085903ae",
   "metadata": {},
   "source": [
    "We will now read the national detrended wheat yield data to be merged with our feature dataset. The wheat yield data was obtained from the [Brazilian Institute of Geography and Statistics](https://sidra.ibge.gov.br/tabela/1612). For more information on the data, see the other notebook *prepare_wheat_data*."
   ]
  },
  {
   "cell_type": "code",
   "execution_count": 24,
   "id": "2a904768",
   "metadata": {},
   "outputs": [],
   "source": [
    "yield_national = hf.read_national_wheat_yield()"
   ]
  },
  {
   "cell_type": "markdown",
   "id": "c9eea9e5",
   "metadata": {},
   "source": [
    "Our final dataset:"
   ]
  },
  {
   "cell_type": "code",
   "execution_count": 25,
   "id": "cf6c0937",
   "metadata": {
    "scrolled": true
   },
   "outputs": [],
   "source": [
    "kfold_cv_dataset = (features_complete_unstacked\n",
    "                    .merge(yield_national, how=\"left\", on=\"year\")\n",
    "                    .dropna()\n",
    "                    .reset_index(drop=True))"
   ]
  },
  {
   "cell_type": "code",
   "execution_count": 27,
   "id": "022da2e3",
   "metadata": {},
   "outputs": [
    {
     "data": {
      "text/html": [
       "<div>\n",
       "<style scoped>\n",
       "    .dataframe tbody tr th:only-of-type {\n",
       "        vertical-align: middle;\n",
       "    }\n",
       "\n",
       "    .dataframe tbody tr th {\n",
       "        vertical-align: top;\n",
       "    }\n",
       "\n",
       "    .dataframe thead th {\n",
       "        text-align: right;\n",
       "    }\n",
       "</style>\n",
       "<table border=\"1\" class=\"dataframe\">\n",
       "  <thead>\n",
       "    <tr style=\"text-align: right;\">\n",
       "      <th></th>\n",
       "      <th>model</th>\n",
       "      <th>init_month</th>\n",
       "      <th>year</th>\n",
       "      <th>Tmean_Aug_1</th>\n",
       "      <th>Tmean_Aug_2</th>\n",
       "      <th>Tmean_Aug_3</th>\n",
       "      <th>Tmean_Aug_4</th>\n",
       "      <th>Tmean_Oct_1</th>\n",
       "      <th>Tmean_Oct_2</th>\n",
       "      <th>Tmean_Oct_3</th>\n",
       "      <th>Tmean_Oct_4</th>\n",
       "      <th>Tmean_Sep_1</th>\n",
       "      <th>Tmean_Sep_2</th>\n",
       "      <th>Tmean_Sep_3</th>\n",
       "      <th>Tmean_Sep_4</th>\n",
       "      <th>Rain_Aug_1</th>\n",
       "      <th>Rain_Aug_2</th>\n",
       "      <th>Rain_Aug_3</th>\n",
       "      <th>Rain_Aug_4</th>\n",
       "      <th>Rain_Oct_1</th>\n",
       "      <th>Rain_Oct_2</th>\n",
       "      <th>Rain_Oct_3</th>\n",
       "      <th>Rain_Oct_4</th>\n",
       "      <th>Rain_Sep_1</th>\n",
       "      <th>Rain_Sep_2</th>\n",
       "      <th>Rain_Sep_3</th>\n",
       "      <th>Rain_Sep_4</th>\n",
       "      <th>yield</th>\n",
       "    </tr>\n",
       "  </thead>\n",
       "  <tbody>\n",
       "    <tr>\n",
       "      <th>637</th>\n",
       "      <td>NCEP</td>\n",
       "      <td>6</td>\n",
       "      <td>2006</td>\n",
       "      <td>17.030251</td>\n",
       "      <td>20.972353</td>\n",
       "      <td>19.748653</td>\n",
       "      <td>16.789676</td>\n",
       "      <td>18.842349</td>\n",
       "      <td>24.511146</td>\n",
       "      <td>22.961588</td>\n",
       "      <td>19.815383</td>\n",
       "      <td>14.930646</td>\n",
       "      <td>21.221228</td>\n",
       "      <td>19.476223</td>\n",
       "      <td>16.257973</td>\n",
       "      <td>82.091507</td>\n",
       "      <td>72.004066</td>\n",
       "      <td>92.59133</td>\n",
       "      <td>100.384763</td>\n",
       "      <td>174.833221</td>\n",
       "      <td>72.307764</td>\n",
       "      <td>86.220847</td>\n",
       "      <td>101.913391</td>\n",
       "      <td>168.118301</td>\n",
       "      <td>84.696542</td>\n",
       "      <td>112.224346</td>\n",
       "      <td>172.842517</td>\n",
       "      <td>2066.527125</td>\n",
       "    </tr>\n",
       "    <tr>\n",
       "      <th>543</th>\n",
       "      <td>MME</td>\n",
       "      <td>10</td>\n",
       "      <td>2008</td>\n",
       "      <td>15.546774</td>\n",
       "      <td>20.464516</td>\n",
       "      <td>18.387329</td>\n",
       "      <td>16.822511</td>\n",
       "      <td>18.952576</td>\n",
       "      <td>23.868874</td>\n",
       "      <td>22.354812</td>\n",
       "      <td>19.453958</td>\n",
       "      <td>14.163333</td>\n",
       "      <td>20.470000</td>\n",
       "      <td>17.802543</td>\n",
       "      <td>15.773984</td>\n",
       "      <td>162.500000</td>\n",
       "      <td>187.000000</td>\n",
       "      <td>285.20000</td>\n",
       "      <td>183.100000</td>\n",
       "      <td>235.619021</td>\n",
       "      <td>176.909059</td>\n",
       "      <td>241.577830</td>\n",
       "      <td>219.717964</td>\n",
       "      <td>97.500000</td>\n",
       "      <td>86.700000</td>\n",
       "      <td>73.300000</td>\n",
       "      <td>53.000000</td>\n",
       "      <td>2952.880257</td>\n",
       "    </tr>\n",
       "    <tr>\n",
       "      <th>757</th>\n",
       "      <td>NCEP</td>\n",
       "      <td>11</td>\n",
       "      <td>2006</td>\n",
       "      <td>14.714516</td>\n",
       "      <td>21.069355</td>\n",
       "      <td>18.622581</td>\n",
       "      <td>16.351252</td>\n",
       "      <td>20.612903</td>\n",
       "      <td>24.337097</td>\n",
       "      <td>23.343548</td>\n",
       "      <td>19.936264</td>\n",
       "      <td>15.543333</td>\n",
       "      <td>20.153333</td>\n",
       "      <td>18.540220</td>\n",
       "      <td>16.481799</td>\n",
       "      <td>132.200000</td>\n",
       "      <td>17.000000</td>\n",
       "      <td>40.00000</td>\n",
       "      <td>59.500000</td>\n",
       "      <td>94.900000</td>\n",
       "      <td>73.400000</td>\n",
       "      <td>100.200000</td>\n",
       "      <td>75.900000</td>\n",
       "      <td>112.800000</td>\n",
       "      <td>144.200000</td>\n",
       "      <td>174.600000</td>\n",
       "      <td>237.700000</td>\n",
       "      <td>2066.527125</td>\n",
       "    </tr>\n",
       "  </tbody>\n",
       "</table>\n",
       "</div>"
      ],
      "text/plain": [
       "    model  init_month  year  Tmean_Aug_1  Tmean_Aug_2  Tmean_Aug_3  \\\n",
       "637  NCEP           6  2006    17.030251    20.972353    19.748653   \n",
       "543   MME          10  2008    15.546774    20.464516    18.387329   \n",
       "757  NCEP          11  2006    14.714516    21.069355    18.622581   \n",
       "\n",
       "     Tmean_Aug_4  Tmean_Oct_1  Tmean_Oct_2  Tmean_Oct_3  Tmean_Oct_4  \\\n",
       "637    16.789676    18.842349    24.511146    22.961588    19.815383   \n",
       "543    16.822511    18.952576    23.868874    22.354812    19.453958   \n",
       "757    16.351252    20.612903    24.337097    23.343548    19.936264   \n",
       "\n",
       "     Tmean_Sep_1  Tmean_Sep_2  Tmean_Sep_3  Tmean_Sep_4  Rain_Aug_1  \\\n",
       "637    14.930646    21.221228    19.476223    16.257973   82.091507   \n",
       "543    14.163333    20.470000    17.802543    15.773984  162.500000   \n",
       "757    15.543333    20.153333    18.540220    16.481799  132.200000   \n",
       "\n",
       "     Rain_Aug_2  Rain_Aug_3  Rain_Aug_4  Rain_Oct_1  Rain_Oct_2  Rain_Oct_3  \\\n",
       "637   72.004066    92.59133  100.384763  174.833221   72.307764   86.220847   \n",
       "543  187.000000   285.20000  183.100000  235.619021  176.909059  241.577830   \n",
       "757   17.000000    40.00000   59.500000   94.900000   73.400000  100.200000   \n",
       "\n",
       "     Rain_Oct_4  Rain_Sep_1  Rain_Sep_2  Rain_Sep_3  Rain_Sep_4        yield  \n",
       "637  101.913391  168.118301   84.696542  112.224346  172.842517  2066.527125  \n",
       "543  219.717964   97.500000   86.700000   73.300000   53.000000  2952.880257  \n",
       "757   75.900000  112.800000  144.200000  174.600000  237.700000  2066.527125  "
      ]
     },
     "execution_count": 27,
     "metadata": {},
     "output_type": "execute_result"
    }
   ],
   "source": [
    "kfold_cv_dataset.sample(3)"
   ]
  },
  {
   "cell_type": "markdown",
   "id": "400637d2",
   "metadata": {},
   "source": [
    "### Summary of our dataset"
   ]
  },
  {
   "cell_type": "markdown",
   "id": "899a3a81",
   "metadata": {},
   "source": [
    "We are now finished with the preprocessing. Let's quickly summarize the data that we will train our model on. \n",
    "- There are 24 years, from 1993 to 2016\n",
    "- For each year, we have 6 different model sources: ECMWF, NCEP, UKMO, MME, CLIMATE, WS (observations)\n",
    "- WS has one data point per year, the other models have eight data points, one for each month of initialization from April to November\n",
    "- This gives us 24 * (5 * 8 + 1) = 984 data points"
   ]
  },
  {
   "cell_type": "code",
   "execution_count": 29,
   "id": "4a87fa98",
   "metadata": {},
   "outputs": [
    {
     "data": {
      "text/plain": [
       "(984, 28)"
      ]
     },
     "execution_count": 29,
     "metadata": {},
     "output_type": "execute_result"
    }
   ],
   "source": [
    "kfold_cv_dataset.shape"
   ]
  },
  {
   "cell_type": "code",
   "execution_count": 40,
   "id": "dc6e8c5d",
   "metadata": {},
   "outputs": [],
   "source": [
    "kfold_cv_dataset.to_csv(\"kfold_cv_dataset.csv\", index=False)"
   ]
  },
  {
   "cell_type": "markdown",
   "id": "7a0e3f80",
   "metadata": {},
   "source": [
    "## 7. K-Fold Cross Validation <a name=\"cross_validation\"><a/>"
   ]
  },
  {
   "cell_type": "code",
   "execution_count": 76,
   "id": "0193dcfb",
   "metadata": {
    "scrolled": false
   },
   "outputs": [],
   "source": [
    "models = [\"ECMWF\", \"NCEP\", \"UKMO\", \"MME\", \"CLIMATE\", \"WS\"]\n",
    "init_months = list(range(4,12))\n",
    "results = pd.DataFrame(0, index=models, columns=init_months)\n",
    "for im in init_months:\n",
    "    for model in models:\n",
    "        res = hf.kfold_cross_validation(kfold_cv_dataset, model=model, init=im, no_of_features=8)\n",
    "        # rmse\n",
    "        metric = 100 * mse(res[\"yield\"], res[\"predicted\"], squared=False)/(res[\"yield\"].mean())\n",
    "        # pearson r\n",
    "        # metric = pearsonr(res[\"yield\"], res[\"predicted\"])[0]\n",
    "        results.loc[model, im] = np.round(metric, 2)"
   ]
  },
  {
   "cell_type": "code",
   "execution_count": 78,
   "id": "4eefa9fe",
   "metadata": {},
   "outputs": [
    {
     "data": {
      "text/html": [
       "<div>\n",
       "<style scoped>\n",
       "    .dataframe tbody tr th:only-of-type {\n",
       "        vertical-align: middle;\n",
       "    }\n",
       "\n",
       "    .dataframe tbody tr th {\n",
       "        vertical-align: top;\n",
       "    }\n",
       "\n",
       "    .dataframe thead th {\n",
       "        text-align: right;\n",
       "    }\n",
       "</style>\n",
       "<table border=\"1\" class=\"dataframe\">\n",
       "  <thead>\n",
       "    <tr style=\"text-align: right;\">\n",
       "      <th></th>\n",
       "      <th>4</th>\n",
       "      <th>5</th>\n",
       "      <th>6</th>\n",
       "      <th>7</th>\n",
       "      <th>8</th>\n",
       "      <th>9</th>\n",
       "      <th>10</th>\n",
       "      <th>11</th>\n",
       "    </tr>\n",
       "  </thead>\n",
       "  <tbody>\n",
       "    <tr>\n",
       "      <th>ECMWF</th>\n",
       "      <td>11.56</td>\n",
       "      <td>11.90</td>\n",
       "      <td>11.23</td>\n",
       "      <td>11.44</td>\n",
       "      <td>10.58</td>\n",
       "      <td>9.49</td>\n",
       "      <td>7.88</td>\n",
       "      <td>6.01</td>\n",
       "    </tr>\n",
       "    <tr>\n",
       "      <th>NCEP</th>\n",
       "      <td>14.34</td>\n",
       "      <td>14.88</td>\n",
       "      <td>14.70</td>\n",
       "      <td>12.74</td>\n",
       "      <td>11.84</td>\n",
       "      <td>10.45</td>\n",
       "      <td>9.26</td>\n",
       "      <td>6.01</td>\n",
       "    </tr>\n",
       "    <tr>\n",
       "      <th>UKMO</th>\n",
       "      <td>12.28</td>\n",
       "      <td>12.71</td>\n",
       "      <td>10.79</td>\n",
       "      <td>12.13</td>\n",
       "      <td>11.07</td>\n",
       "      <td>10.61</td>\n",
       "      <td>7.64</td>\n",
       "      <td>6.01</td>\n",
       "    </tr>\n",
       "    <tr>\n",
       "      <th>MME</th>\n",
       "      <td>11.66</td>\n",
       "      <td>12.02</td>\n",
       "      <td>11.24</td>\n",
       "      <td>11.41</td>\n",
       "      <td>10.45</td>\n",
       "      <td>9.63</td>\n",
       "      <td>7.77</td>\n",
       "      <td>6.01</td>\n",
       "    </tr>\n",
       "    <tr>\n",
       "      <th>CLIMATE</th>\n",
       "      <td>13.68</td>\n",
       "      <td>13.68</td>\n",
       "      <td>13.68</td>\n",
       "      <td>13.68</td>\n",
       "      <td>13.68</td>\n",
       "      <td>10.86</td>\n",
       "      <td>9.54</td>\n",
       "      <td>6.01</td>\n",
       "    </tr>\n",
       "    <tr>\n",
       "      <th>WS</th>\n",
       "      <td>6.01</td>\n",
       "      <td>6.01</td>\n",
       "      <td>6.01</td>\n",
       "      <td>6.01</td>\n",
       "      <td>6.01</td>\n",
       "      <td>6.01</td>\n",
       "      <td>6.01</td>\n",
       "      <td>6.01</td>\n",
       "    </tr>\n",
       "  </tbody>\n",
       "</table>\n",
       "</div>"
      ],
      "text/plain": [
       "            4      5      6      7      8      9     10    11\n",
       "ECMWF    11.56  11.90  11.23  11.44  10.58   9.49  7.88  6.01\n",
       "NCEP     14.34  14.88  14.70  12.74  11.84  10.45  9.26  6.01\n",
       "UKMO     12.28  12.71  10.79  12.13  11.07  10.61  7.64  6.01\n",
       "MME      11.66  12.02  11.24  11.41  10.45   9.63  7.77  6.01\n",
       "CLIMATE  13.68  13.68  13.68  13.68  13.68  10.86  9.54  6.01\n",
       "WS        6.01   6.01   6.01   6.01   6.01   6.01  6.01  6.01"
      ]
     },
     "execution_count": 78,
     "metadata": {},
     "output_type": "execute_result"
    }
   ],
   "source": [
    "results #8 feature"
   ]
  },
  {
   "cell_type": "markdown",
   "id": "884268e1",
   "metadata": {},
   "source": [
    "## 8. Visualization <a name=\"visualization\"></a>"
   ]
  },
  {
   "cell_type": "markdown",
   "id": "8fea40f8",
   "metadata": {},
   "source": [
    "### 8.1 Figure 1"
   ]
  },
  {
   "cell_type": "code",
   "execution_count": 39,
   "id": "bbb0b888",
   "metadata": {
    "scrolled": false
   },
   "outputs": [
    {
     "data": {
      "image/png": "[encoded data removed]",
      "text/plain": [
       "<Figure size 720x504 with 1 Axes>"
      ]
     },
     "metadata": {
      "needs_background": "light"
     },
     "output_type": "display_data"
    }
   ],
   "source": [
    "models = [\"ECMWF\", \"NCEP\", \"UKMO\", \"MME\", \"CLIMATE\", \"WS\"]\n",
    "init_months = list(range(4,12))\n",
    "results = pd.DataFrame(0, index=models, columns=init_months)\n",
    "for im in init_months:\n",
    "    for model in models:\n",
    "        res = hf.kfold_cross_validation(kfold_cv_dataset, model=model, init=im, no_of_features=8)\n",
    "        # rmse\n",
    "        metric = 100 * mse(res[\"yield\"], res[\"predicted\"], squared=False)/(res[\"yield\"].mean())\n",
    "        # pearson r\n",
    "        # metric = pearsonr(res[\"yield\"], res[\"predicted\"])[0]\n",
    "        results.loc[model, im] = np.round(metric, 2)\n",
    "        \n",
    "ax = results.transpose().plot(figsize=(10,7), marker='o')\n",
    "ax.grid('on', which='both', axis='y', linestyle='--', linewidth=.7)\n",
    "ax.grid('on', which='both', axis='x', linestyle='--', linewidth=.7)\n",
    "plt.savefig(\"images/rmse_development.svg\")\n",
    "#ax.grid('off', which='major', axis='x' )"
   ]
  },
  {
   "cell_type": "markdown",
   "id": "670d0a76",
   "metadata": {},
   "source": [
    "### 8.2 Figure 2"
   ]
  },
  {
   "cell_type": "code",
   "execution_count": 34,
   "id": "5b6480fa",
   "metadata": {},
   "outputs": [
    {
     "data": {
      "image/png": "[encoded data removed]",
      "text/plain": [
       "<Figure size 360x216 with 1 Axes>"
      ]
     },
     "metadata": {
      "needs_background": "light"
     },
     "output_type": "display_data"
    },
    {
     "data": {
      "image/png": "[encoded data removed]",
      "text/plain": [
       "<Figure size 360x216 with 1 Axes>"
      ]
     },
     "metadata": {
      "needs_background": "light"
     },
     "output_type": "display_data"
    },
    {
     "data": {
      "image/png": "[encoded data removed]",
      "text/plain": [
       "<Figure size 360x216 with 1 Axes>"
      ]
     },
     "metadata": {
      "needs_background": "light"
     },
     "output_type": "display_data"
    },
    {
     "data": {
      "image/png": "[encoded data removed]",
      "text/plain": [
       "<Figure size 360x216 with 1 Axes>"
      ]
     },
     "metadata": {
      "needs_background": "light"
     },
     "output_type": "display_data"
    }
   ],
   "source": [
    "models = [\"MME\", \"CLIMATE\"]\n",
    "init_months = list(range(8,12))\n",
    "for im in init_months:\n",
    "    results = pd.DataFrame(0, index=models + [\"OBS\"], columns=list(range(1993,2017)))\n",
    "    for model in models:\n",
    "        res = hf.kfold_cross_validation(kfold_cv_dataset, model=model, init=im, no_of_features=8)\n",
    "        #print(res[\"yield\"].mean())\n",
    "        results.loc[\"OBS\", :] = res[\"yield\"].values\n",
    "        results.loc[model, :] = res[\"predicted\"].values\n",
    "    ax = results.transpose().plot(figsize=(5,3), marker='o')\n",
    "    ax.grid('on', which='both', axis='y', linestyle='--', linewidth=.7)\n",
    "    ax.grid('on', which='both', axis='x', linestyle='--', linewidth=.7)\n",
    "    name = str(im)\n",
    "    #plt.savefig(name + \".svg\")\n",
    "    plt.show()"
   ]
  },
  {
   "cell_type": "markdown",
   "id": "ad6284b7",
   "metadata": {},
   "source": [
    "### 8.3 Figure 3"
   ]
  },
  {
   "cell_type": "code",
   "execution_count": 240,
   "id": "453677b2",
   "metadata": {},
   "outputs": [],
   "source": [
    "features_bias = features_complete.sort_values(by=[\"model\", \"init_month\", \"zone\", \"year\"]).reset_index(drop=True)\n",
    "features_ws = features_bias.loc[features_bias[\"model\"] == \"WS\"].reset_index(drop=True).copy().set_index([\"model\", \"init_month\", \"zone\", \"year\"])\n",
    "features_models = features_bias.loc[features_bias[\"model\"] != \"WS\"].reset_index(drop=True).copy().set_index([\"model\", \"init_month\", \"zone\", \"year\"])\n",
    "features_models.loc[:, features_models.columns] = features_models.values - pd.concat([features_ws] * 40, ignore_index=False).values"
   ]
  },
  {
   "cell_type": "code",
   "execution_count": 241,
   "id": "6f2c58cf",
   "metadata": {},
   "outputs": [],
   "source": [
    "mae_models = features_models.reset_index().drop(columns=[\"zone\", \"year\"], axis=1).groupby([\"model\", \"init_month\"]).mean().abs()"
   ]
  },
  {
   "cell_type": "code",
   "execution_count": 242,
   "id": "9d89e9ee",
   "metadata": {},
   "outputs": [],
   "source": [
    "mme_mae = mae_models.round(2).loc[([\"MME\"]), [\"Rain_Aug\", \"Rain_Sep\", \"Rain_Oct\"]]\n",
    "ukmo_mae = mae_models.round(2).loc[([\"UKMO\"]), [ \"Rain_Aug\", \"Rain_Sep\", \"Rain_Oct\"]]\n",
    "ncep_mae = mae_models.round(2).loc[([\"NCEP\"]), [ \"Rain_Aug\", \"Rain_Sep\", \"Rain_Oct\"]]\n",
    "ecmwf_mae = mae_models.round(2).loc[([\"ECMWF\"]), [ \"Rain_Aug\", \"Rain_Sep\", \"Rain_Oct\"]]\n",
    "climate_mae = mae_models.round(2).loc[([\"CLIMATE\"]), [ \"Rain_Aug\", \"Rain_Sep\", \"Rain_Oct\"]]\n",
    "\n",
    "difference_ukmo = (ukmo_mae.reset_index().set_index(\"init_month\").drop(columns=[\"model\"]) - mme_mae.reset_index().set_index(\"init_month\").drop(columns=[\"model\"])).round(2).replace({0:np.nan})\n",
    "difference_ncep = (ncep_mae.reset_index().set_index(\"init_month\").drop(columns=[\"model\"]) - mme_mae.reset_index().set_index(\"init_month\").drop(columns=[\"model\"])).round(2).replace({0:np.nan})\n",
    "difference_ecmwf = (ecmwf_mae.reset_index().set_index(\"init_month\").drop(columns=[\"model\"]) - mme_mae.reset_index().set_index(\"init_month\").drop(columns=[\"model\"])).round(2).replace({0:np.nan})\n",
    "difference_climate = (climate_mae.reset_index().set_index(\"init_month\").drop(columns=[\"model\"]) - mme_mae.reset_index().set_index(\"init_month\").drop(columns=[\"model\"])).round(2).replace({0:np.nan})"
   ]
  },
  {
   "cell_type": "code",
   "execution_count": 243,
   "id": "1d675d88",
   "metadata": {},
   "outputs": [
    {
     "data": {
      "text/plain": [
       "<AxesSubplot:ylabel='init_month'>"
      ]
     },
     "execution_count": 243,
     "metadata": {},
     "output_type": "execute_result"
    },
    {
     "data": {
      "image/png": "[encoded data removed]",
      "text/plain": [
       "<Figure size 432x288 with 2 Axes>"
      ]
     },
     "metadata": {
      "needs_background": "light"
     },
     "output_type": "display_data"
    }
   ],
   "source": [
    "sns.heatmap(cmap=\"coolwarm_r\", vmax=40, vmin=-40, data=difference_ukmo, annot=True, linewidths=1, linecolor=\"white\")\n",
    "plt.savefig(\"ukmo_mme_rain.svg\")"
   ]
  },
  {
   "cell_type": "code",
   "execution_count": 244,
   "id": "498a0e6e",
   "metadata": {},
   "outputs": [
    {
     "data": {
      "text/plain": [
       "<AxesSubplot:ylabel='init_month'>"
      ]
     },
     "execution_count": 244,
     "metadata": {},
     "output_type": "execute_result"
    },
    {
     "data": {
      "image/png": "[encoded data removed]",
      "text/plain": [
       "<Figure size 432x288 with 2 Axes>"
      ]
     },
     "metadata": {
      "needs_background": "light"
     },
     "output_type": "display_data"
    }
   ],
   "source": [
    "sns.heatmap(cmap=\"coolwarm_r\", vmax=40, vmin=-40, data=difference_ncep, annot=True, linewidths=1, linecolor=\"white\")\n",
    "plt.savefig(\"ncep_mme_rain.svg\")"
   ]
  },
  {
   "cell_type": "code",
   "execution_count": 245,
   "id": "27b881b3",
   "metadata": {},
   "outputs": [
    {
     "data": {
      "text/plain": [
       "<AxesSubplot:ylabel='init_month'>"
      ]
     },
     "execution_count": 245,
     "metadata": {},
     "output_type": "execute_result"
    },
    {
     "data": {
      "image/png": "[encoded data removed]",
      "text/plain": [
       "<Figure size 432x288 with 2 Axes>"
      ]
     },
     "metadata": {
      "needs_background": "light"
     },
     "output_type": "display_data"
    }
   ],
   "source": [
    "sns.heatmap(cmap=\"coolwarm_r\", vmax=40, vmin=-40, data=difference_ecmwf, annot=True, linewidths=1, linecolor=\"white\")\n",
    "plt.savefig(\"ecmwf_mme_rain.svg\")"
   ]
  },
  {
   "cell_type": "code",
   "execution_count": 246,
   "id": "54df7674",
   "metadata": {},
   "outputs": [
    {
     "data": {
      "text/plain": [
       "<AxesSubplot:ylabel='init_month'>"
      ]
     },
     "execution_count": 246,
     "metadata": {},
     "output_type": "execute_result"
    },
    {
     "data": {
      "image/png": "[encoded data removed]",
      "text/plain": [
       "<Figure size 432x288 with 2 Axes>"
      ]
     },
     "metadata": {
      "needs_background": "light"
     },
     "output_type": "display_data"
    }
   ],
   "source": [
    "sns.heatmap(cmap=\"coolwarm_r\", vmax=40, vmin=-40, data=difference_climate, annot=True, linewidths=1, linecolor=\"white\")\n",
    "plt.savefig(\"climate_mme_rain.svg\")"
   ]
  },
  {
   "cell_type": "markdown",
   "id": "b0ccdba5",
   "metadata": {},
   "source": [
    "## 8.4 Figure 4"
   ]
  },
  {
   "cell_type": "code",
   "execution_count": 133,
   "id": "2e0c4791",
   "metadata": {},
   "outputs": [],
   "source": [
    "# K-Fold Cross Validation\n",
    "def feature_importance(data):\n",
    "   \n",
    "    # Features\n",
    "    relevant_columns = [c for c in data.columns if c not in [\"model\", \"init_month\", \"year\", \"yield\"]]\n",
    "    coefs_dict = dict(zip(relevant_columns, list(np.zeros(len(relevant_columns)))))\n",
    "    \n",
    "    for season in crop_seasons:\n",
    "        X_train = data.loc[(data[\"model\"] == \"WS\") \n",
    "                                 & (data[\"year\"] != season), relevant_columns].reset_index(drop=True)\n",
    "        y_train = data.loc[(data[\"model\"] == \"WS\") \n",
    "                                 & (data[\"year\"] != season), \"yield\"].reset_index(drop=True)\n",
    "            \n",
    "        pipeline = Pipeline([('scaler', StandardScaler()), \n",
    "                             ('var', VarianceThreshold()), \n",
    "                             ('selector', SelectKBest(f_regression, k=9)),\n",
    "                             ('estimator', Ridge())])\n",
    "        \n",
    "        reg = pipeline.fit(X_train, y_train) \n",
    "        current_coef_dict = dict(zip(reg[\"selector\"].get_feature_names_out(relevant_columns), reg[\"estimator\"].coef_))\n",
    "        coefs_dict = {k: coefs_dict.get(k, 0) + current_coef_dict.get(k, 0) for k in set(coefs_dict)}\n",
    "        \n",
    "    return coefs_dict"
   ]
  },
  {
   "cell_type": "code",
   "execution_count": 134,
   "id": "57e11c8c",
   "metadata": {},
   "outputs": [],
   "source": [
    "coefs = (np.\n",
    "         round(pd\n",
    "               .DataFrame(index=[0], \n",
    "                          data=feature_importance(kfold_cv_dataset))\n",
    "               .transpose()\n",
    "               .rename(columns={0:\"coef\"})\n",
    "               .sort_values(by=\"coef\") / 24, 2))"
   ]
  },
  {
   "cell_type": "code",
   "execution_count": 109,
   "id": "286f9fcd",
   "metadata": {},
   "outputs": [],
   "source": [
    "coefs = coefs.reset_index()"
   ]
  },
  {
   "cell_type": "code",
   "execution_count": 111,
   "id": "bba36fff",
   "metadata": {},
   "outputs": [],
   "source": [
    "coefs[\"location\"] = coefs[\"index\"].str[-1:]"
   ]
  },
  {
   "cell_type": "code",
   "execution_count": 115,
   "id": "c9605a6e",
   "metadata": {},
   "outputs": [],
   "source": [
    "coefs[\"month\"] = coefs[\"index\"].str[-5:-2]"
   ]
  },
  {
   "cell_type": "code",
   "execution_count": 118,
   "id": "4fe00408",
   "metadata": {},
   "outputs": [],
   "source": [
    "coefs[\"var\"] = coefs[\"index\"].str[:-6]"
   ]
  },
  {
   "cell_type": "code",
   "execution_count": 122,
   "id": "4c73b892",
   "metadata": {},
   "outputs": [],
   "source": [
    "coefs = coefs.drop(columns=[\"index\"])"
   ]
  },
  {
   "cell_type": "code",
   "execution_count": 129,
   "id": "623a793e",
   "metadata": {},
   "outputs": [],
   "source": [
    "coefs[\"climate_var\"] = coefs[\"month\"] + \"_\" + coefs[\"var\"]"
   ]
  },
  {
   "cell_type": "code",
   "execution_count": 130,
   "id": "6c528f92",
   "metadata": {},
   "outputs": [
    {
     "data": {
      "text/html": [
       "<div>\n",
       "<style scoped>\n",
       "    .dataframe tbody tr th:only-of-type {\n",
       "        vertical-align: middle;\n",
       "    }\n",
       "\n",
       "    .dataframe tbody tr th {\n",
       "        vertical-align: top;\n",
       "    }\n",
       "\n",
       "    .dataframe thead th {\n",
       "        text-align: right;\n",
       "    }\n",
       "</style>\n",
       "<table border=\"1\" class=\"dataframe\">\n",
       "  <thead>\n",
       "    <tr style=\"text-align: right;\">\n",
       "      <th>location</th>\n",
       "      <th>1</th>\n",
       "      <th>2</th>\n",
       "      <th>3</th>\n",
       "      <th>4</th>\n",
       "    </tr>\n",
       "    <tr>\n",
       "      <th>climate_var</th>\n",
       "      <th></th>\n",
       "      <th></th>\n",
       "      <th></th>\n",
       "      <th></th>\n",
       "    </tr>\n",
       "  </thead>\n",
       "  <tbody>\n",
       "    <tr>\n",
       "      <th>Aug_Rain</th>\n",
       "      <td>0.00</td>\n",
       "      <td>0.00</td>\n",
       "      <td>0.00</td>\n",
       "      <td>0.00</td>\n",
       "    </tr>\n",
       "    <tr>\n",
       "      <th>Aug_Tmean</th>\n",
       "      <td>15.75</td>\n",
       "      <td>-51.59</td>\n",
       "      <td>-6.65</td>\n",
       "      <td>-95.55</td>\n",
       "    </tr>\n",
       "    <tr>\n",
       "      <th>Oct_Rain</th>\n",
       "      <td>0.00</td>\n",
       "      <td>0.00</td>\n",
       "      <td>0.00</td>\n",
       "      <td>0.00</td>\n",
       "    </tr>\n",
       "    <tr>\n",
       "      <th>Oct_Tmean</th>\n",
       "      <td>-57.12</td>\n",
       "      <td>12.29</td>\n",
       "      <td>-150.49</td>\n",
       "      <td>22.62</td>\n",
       "    </tr>\n",
       "    <tr>\n",
       "      <th>Sep_Rain</th>\n",
       "      <td>-1.97</td>\n",
       "      <td>3.03</td>\n",
       "      <td>-60.03</td>\n",
       "      <td>-74.30</td>\n",
       "    </tr>\n",
       "    <tr>\n",
       "      <th>Sep_Tmean</th>\n",
       "      <td>0.00</td>\n",
       "      <td>0.00</td>\n",
       "      <td>0.00</td>\n",
       "      <td>0.00</td>\n",
       "    </tr>\n",
       "  </tbody>\n",
       "</table>\n",
       "</div>"
      ],
      "text/plain": [
       "location         1      2       3      4\n",
       "climate_var                             \n",
       "Aug_Rain      0.00   0.00    0.00   0.00\n",
       "Aug_Tmean    15.75 -51.59   -6.65 -95.55\n",
       "Oct_Rain      0.00   0.00    0.00   0.00\n",
       "Oct_Tmean   -57.12  12.29 -150.49  22.62\n",
       "Sep_Rain     -1.97   3.03  -60.03 -74.30\n",
       "Sep_Tmean     0.00   0.00    0.00   0.00"
      ]
     },
     "execution_count": 130,
     "metadata": {},
     "output_type": "execute_result"
    }
   ],
   "source": [
    "coefs.pivot(index=\"climate_var\", columns=\"location\", values=\"coef\")"
   ]
  }
 ],
 "metadata": {
  "kernelspec": {
   "display_name": "Python 3 (ipykernel)",
   "language": "python",
   "name": "python3"
  },
  "language_info": {
   "codemirror_mode": {
    "name": "ipython",
    "version": 3
   },
   "file_extension": ".py",
   "mimetype": "text/x-python",
   "name": "python",
   "nbconvert_exporter": "python",
   "pygments_lexer": "ipython3",
   "version": "3.9.12"
  }
 },
 "nbformat": 4,
 "nbformat_minor": 5
}
