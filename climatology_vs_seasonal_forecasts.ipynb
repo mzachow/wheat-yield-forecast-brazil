{
 "cells": [
  {
   "cell_type": "code",
   "execution_count": 1,
   "id": "26de6ba5",
   "metadata": {},
   "outputs": [],
   "source": [
    "\"\"\"Libraries\"\"\"\n",
    "import glob\n",
    "import random\n",
    "import warnings\n",
    "import numpy as np\n",
    "import pandas as pd\n",
    "import seaborn as sns\n",
    "import matplotlib.pyplot as plt\n",
    "from itertools import groupby\n",
    "from copy import copy, deepcopy\n",
    "from sklearn.model_selection import cross_validate, LeaveOneGroupOut, cross_val_score\n",
    "from sklearn.preprocessing import StandardScaler, MinMaxScaler\n",
    "from sklearn.pipeline import Pipeline\n",
    "from sklearn.feature_selection import SelectKBest, f_regression, SequentialFeatureSelector, VarianceThreshold\n",
    "from sklearn.linear_model import LinearRegression, Ridge, ElasticNet, BayesianRidge, Lasso\n",
    "from bias_correction import BiasCorrection\n",
    "from IPython.core.interactiveshell import InteractiveShell\n",
    "from sklearn.metrics import mean_squared_error as mse\n",
    "\n",
    "\"\"\"Notebook Settings\"\"\"\n",
    "warnings.simplefilter(action='ignore', category=FutureWarning)\n",
    "warnings.filterwarnings(\"error\")\n",
    "pd.set_option('display.max_columns', 500)\n",
    "InteractiveShell.ast_node_interactivity = \"all\"\n",
    "%load_ext autoreload\n",
    "%autoreload 2\n",
    "\n",
    "\"\"\"Variables\"\"\"\n",
    "variables = [\"tmean\", \"tmax\", \"tmin\", \"rain\"]\n",
    "temp_variables = [\"tmean\", \"tmax\", \"tmin\"]\n",
    "crop_seasons = list(range(1993,2017))\n",
    "months_of_crop_season = list(range(4,11))\n",
    "homogeneous_groups = list(range(1,5))\n",
    "group_to_relative_production = {1:0.379, 2:0.219, 3:0.255, 4:0.147}"
   ]
  },
  {
   "cell_type": "markdown",
   "id": "2d1ef0eb",
   "metadata": {},
   "source": [
    "## Content\n",
    "* [1. Read Data](#read_data)\n",
    "* [2. Bias-Adjustment](#bias_adjustment)\n",
    "* [3. Dataset Completion](#dataset_completion)\n",
    "* [4. Feature Computation](#feature_computation)\n",
    "* [5. Include Yield Data](#yield_data)"
   ]
  },
  {
   "cell_type": "code",
   "execution_count": 546,
   "id": "375c2b70",
   "metadata": {},
   "outputs": [],
   "source": [
    "def read_raw_model_data():\n",
    "    \"\"\"Reads and returns raw hindcasts from ECMWF, UKMO, NCEP and MME as one dataframe.\"\"\"\n",
    "    \n",
    "    ukmo = pd.read_csv(\"Data/Raw Hindcasts as CSV/ukmo.csv\", dtype={\"date\":str, \"group\":int}, parse_dates=[\"date\"])\n",
    "    ncep = pd.read_csv(\"Data/Raw Hindcasts as CSV/ncep.csv\", dtype={\"date\":str, \"group\":int}, parse_dates=[\"date\"])\n",
    "    ecmwf = pd.read_csv(\"Data/Raw Hindcasts as CSV/ecmwf.csv\", dtype={\"date\":str, \"group\":int}, parse_dates=[\"date\"])\n",
    "    \n",
    "    df = pd.concat([ukmo, ncep, ecmwf])\n",
    "    df = df.sort_values(by=[\"model\", \"init_month\", \"ensemble\", \"group\", \"year\", \"month\", \"date\"])\n",
    "    df = df.loc[df[\"init_month\"] >= 4].reset_index(drop=True)\n",
    "    \n",
    "    ensemble_aggregation = (df\n",
    "                            .groupby([\"model\", \"init_month\", \"group\", \"year\", \"month\", \"date\"])\n",
    "                            .agg({\"tmean\":\"mean\", \"tmax\":\"mean\", \"tmin\":\"mean\", \"rain\":\"mean\"})\n",
    "                            .reset_index(drop=False))\n",
    "\n",
    "    multi_model_ensemble = (df\n",
    "                            .groupby([\"init_month\", \"group\", \"year\", \"month\", \"date\"])\n",
    "                            .agg({\"tmean\":\"mean\", \"tmax\":\"mean\", \"tmin\":\"mean\", \"rain\":\"mean\"})\n",
    "                            .reset_index(drop=False)\n",
    "                            .assign(model=\"MME\")\n",
    "                            .loc[:,ensemble_aggregation.columns])\n",
    "\n",
    "    hindcasts = (pd.concat([ensemble_aggregation, multi_model_ensemble])\n",
    "                 .rename(columns={\"date\":\"time\", \"group\":\"zone\"})\n",
    "                 .set_index([\"model\", \"init_month\", \"zone\", \"year\", \"month\"])\n",
    "                 .sort_index())\n",
    "    \n",
    "    return hindcasts"
   ]
  },
  {
   "cell_type": "code",
   "execution_count": 547,
   "id": "0fd0f701",
   "metadata": {},
   "outputs": [],
   "source": [
    "hindcasts = read_raw_model_data()"
   ]
  },
  {
   "cell_type": "code",
   "execution_count": 548,
   "id": "8b00fa6d",
   "metadata": {},
   "outputs": [],
   "source": [
    "def read_observed_weather():\n",
    "    \"\"\"Reads and returns daily weather observations as dataframe.\"\"\"\n",
    "    \n",
    "    weather_station_to_group_id = {\"PFUN\":1, \"LOND\":2, \"CAMP\":3, \"PGRO\":4}         \n",
    "    all_files = glob.glob(\"Data/Observed Weather/*.csv\")\n",
    "    li = []\n",
    "    for _, filename in enumerate(all_files):\n",
    "        observations = pd.read_csv(filename,\n",
    "                                   usecols=[\"date\", \"rain\", \"tmax\", \"tmin\", \"tmean\", \"treatment\"], \n",
    "                                   dtype={\"date\":str}, \n",
    "                                   parse_dates=[\"date\"])\n",
    "        li.append(observations)\n",
    "        \n",
    "    observations = (pd\n",
    "                    .concat(li, axis=0, ignore_index=False)\n",
    "                    .assign(\n",
    "                        model=\"WS\", \n",
    "                        init_month=11, \n",
    "                        year=lambda x: x[\"date\"].dt.year, \n",
    "                        month=lambda x: x[\"date\"].dt.month)\n",
    "                   )\n",
    "    observations = observations.loc[(observations[\"month\"].isin(months_of_crop_season))].reset_index(drop=True)\n",
    "    \n",
    "    observations[\"zone\"] = observations[\"treatment\"].apply(lambda x: weather_station_to_group_id[x])\n",
    "    observations = (observations\n",
    "                    .loc[:, [\"model\", \"init_month\", \"zone\", \"year\", \"month\", \"date\", \"tmean\", \"tmax\", \"tmin\", \"rain\"]]\n",
    "                    .rename(columns={\"date\":\"time\"})\n",
    "                    .set_index([\"model\", \"init_month\", \"zone\", \"year\", \"month\"])\n",
    "                    .sort_index()\n",
    "         )\n",
    "    observations.loc[:, \"tmean\"] = observations.loc[:, \"tmean\"].fillna(observations.loc[:, \"tmean\"].mean())\n",
    "    observations.loc[:, \"tmax\"] = observations.loc[:, \"tmax\"].fillna(observations.loc[:, \"tmax\"].mean())\n",
    "    observations.loc[:, \"tmin\"] = observations.loc[:, \"tmin\"].fillna(observations.loc[:, \"tmin\"].mean())\n",
    "\n",
    "    return observations"
   ]
  },
  {
   "cell_type": "code",
   "execution_count": 549,
   "id": "edcaf3dc",
   "metadata": {},
   "outputs": [],
   "source": [
    "observations = read_observed_weather()"
   ]
  },
  {
   "cell_type": "code",
   "execution_count": 550,
   "id": "26b3b6e6",
   "metadata": {},
   "outputs": [],
   "source": [
    "def create_climatology_data(observed):\n",
    "    climatology = (observed\n",
    "                 .loc[(\"WS\", 11, [1, 2, 3, 4], list(range(1961,1993)), months_of_crop_season)]\n",
    "                 .groupby([\"zone\", \"year\", \"month\"])\n",
    "                 .agg({\"tmean\":\"mean\", \"tmax\":\"mean\", \"tmin\":\"mean\", \"rain\":\"sum\"})\n",
    "                 .reset_index()\n",
    "                 .groupby([\"zone\", \"month\"])\n",
    "                 .agg({\"tmean\":\"mean\", \"tmax\":\"mean\", \"tmin\":\"mean\", \"rain\":\"mean\"})\n",
    "                 .reset_index()\n",
    "                 .copy())\n",
    "    return climatology"
   ]
  },
  {
   "cell_type": "code",
   "execution_count": 551,
   "id": "069fb57a",
   "metadata": {},
   "outputs": [],
   "source": [
    "climatology = create_climatology_data(observations)"
   ]
  },
  {
   "cell_type": "code",
   "execution_count": 552,
   "id": "3384060e",
   "metadata": {},
   "outputs": [],
   "source": [
    "observations = (observations\n",
    "               .loc[(\"WS\", 11, [1, 2, 3, 4], list(range(1993, 2017)))])"
   ]
  },
  {
   "cell_type": "markdown",
   "id": "e464a220",
   "metadata": {},
   "source": [
    "### 2. Bias-Adjustment <a name=\"bias_adjustment\"></a>\n",
    "Reference for [normal mapping](https://hess.copernicus.org/articles/21/2649/2017/) that is used for temp variables."
   ]
  },
  {
   "cell_type": "code",
   "execution_count": 553,
   "id": "a1fbe339",
   "metadata": {},
   "outputs": [],
   "source": [
    "def adjust_mean_temperature_bias(observed, predicted, correction_method=\"normal_mapping\"):\n",
    "    \"\"\"Return bias-adjusted hindcasts as Dataframe.\"\"\"\n",
    "    \n",
    "    # GroupBy objects allow faster access to relevant subsets of climate data.\n",
    "    grouped_climate_observations = observed.groupby([\"zone\", \"year\", \"month\"])\n",
    "    grouped_climate_hindcasts = predicted.groupby([\"model\", \"init_month\", \"zone\", \"year\", \"month\"])\n",
    "    grouped_climate_hindcasts_reference = copy(grouped_climate_hindcasts)\n",
    "    li = []\n",
    "    \n",
    "    for group_idx, group_content in grouped_climate_hindcasts:\n",
    "        # Save group characteristics in intuitive variables.\n",
    "        current_model = group_content.index.get_level_values(\"model\")[0]\n",
    "        current_init_month = group_content.index.get_level_values(\"init_month\")[0]\n",
    "        current_zone = group_content.index.get_level_values(\"zone\")[0]\n",
    "        current_season = group_content.index.get_level_values(\"year\")[0]\n",
    "        current_month = group_content.index.get_level_values(\"month\")[0]\n",
    " \n",
    "        # Create calibration set of observations and hindcasts.\n",
    "        hindcasts_used_as_reference = []\n",
    "        observations_used_as_reference = []\n",
    "        for season in crop_seasons: \n",
    "            if season != current_season:\n",
    "                observation_to_be_added = (current_zone, season, current_month) \n",
    "                observations_used_as_reference.append(grouped_climate_observations.get_group(observation_to_be_added))   \n",
    "                hindcast_to_be_added = (current_model, current_init_month, current_zone, season, current_month)\n",
    "                hindcasts_used_as_reference.append(grouped_climate_hindcasts_reference.get_group(hindcast_to_be_added))\n",
    "        hindcasts_used_as_reference = pd.concat(hindcasts_used_as_reference, axis=0, ignore_index=False)\n",
    "        observations_used_as_reference = pd.concat(observations_used_as_reference, axis=0, ignore_index=False) \n",
    "        \n",
    "        # Perform bias-adjustment for temperature variables.\n",
    "        bc_tmean = BiasCorrection(observations_used_as_reference[\"tmean\"], hindcasts_used_as_reference[\"tmean\"], group_content[\"tmean\"])\n",
    "        bc_tmax = BiasCorrection(observations_used_as_reference[\"tmax\"], hindcasts_used_as_reference[\"tmax\"], group_content[\"tmax\"])\n",
    "        bc_tmin = BiasCorrection(observations_used_as_reference[\"tmin\"], hindcasts_used_as_reference[\"tmin\"], group_content[\"tmin\"])\n",
    "        group_content[\"tmean\"] = bc_tmean.correct(method=correction_method)\n",
    "        group_content[\"tmax\"] = bc_tmax.correct(method=correction_method)\n",
    "        group_content[\"tmin\"] = bc_tmin.correct(method=correction_method)\n",
    "        \n",
    "        li.append(group_content)\n",
    "        \n",
    "    result = pd.concat(li, axis=0, ignore_index=False)\n",
    "    return result\n",
    "            "
   ]
  },
  {
   "cell_type": "code",
   "execution_count": 554,
   "id": "dd7a8301",
   "metadata": {},
   "outputs": [],
   "source": [
    "hindcasts_temp_adjusted = adjust_mean_temperature_bias(observations, hindcasts)"
   ]
  },
  {
   "cell_type": "code",
   "execution_count": 598,
   "id": "756beb00",
   "metadata": {},
   "outputs": [],
   "source": [
    "def fill_missing_dates_with_observations(observations, model):\n",
    "    \"\"\"Supplements past months before init_month with weather observations.\"\"\"\n",
    "    \n",
    "    model = model.copy()\n",
    "    grouped_model_output = model.groupby([\"model\", \"init_month\", \"zone\", \"year\"])\n",
    "    li=[]\n",
    "    for group_characteristics, group_content in grouped_model_output:\n",
    "        current_model = group_content.index.get_level_values(\"model\")[0]\n",
    "        current_init_month = group_content.index.get_level_values(\"init_month\")[0]\n",
    "        current_zone = group_content.index.get_level_values(\"zone\")[0]\n",
    "        current_season = group_content.index.get_level_values(\"year\")[0]\n",
    "        current_month = group_content.index.get_level_values(\"month\")[0]\n",
    "        \n",
    "        observations_for_zone_and_season = (observations\n",
    "                                            .loc[(\"WS\", 11, current_zone, current_season)])\n",
    "        observations_for_zone_and_season = (observations_for_zone_and_season\n",
    "                                            .assign(init_month=current_init_month, model=current_model)\n",
    "                                           .set_index([\"model\", \"init_month\"], append=True))\n",
    "        hindcasts_on_observations = observations_for_zone_and_season.merge(group_content, on=\"time\", how=\"left\", suffixes=(\"_ws\", \"_bcm\"))\n",
    "        hindcasts = hindcasts_on_observations.loc[:,[c for c in hindcasts_on_observations.columns if \"_ws\" not in c]]\n",
    "        hindcasts.columns = hindcasts.columns.str.rstrip(\"_bcm\")\n",
    "        hindcasts = hindcasts.set_index(\"time\")\n",
    "        observations_for_zone_and_season = observations_for_zone_and_season.set_index(\"time\")\n",
    "        combined = hindcasts.combine_first(observations_for_zone_and_season)\n",
    "        combined = (combined\n",
    "                    .reset_index(drop=False)\n",
    "                    .assign(model=current_model, init_month=current_init_month, \n",
    "                            zone=current_zone, year=current_season, month=lambda x: x[\"time\"].dt.month)\n",
    "                    .set_index([\"model\", \"init_month\", \"zone\", \"year\", \"month\"]))\n",
    "        if current_init_month == 10:\n",
    "            fully_observed = (observations_for_zone_and_season\n",
    "                              .reset_index(drop=False)\n",
    "                              .assign(model=current_model, init_month=11, zone=current_zone, year=current_season, month=lambda x:x[\"time\"].dt.month)\n",
    "                              .set_index([\"model\", \"init_month\", \"zone\", \"year\", \"month\"]))\n",
    "            li.append(fully_observed)\n",
    "        li.append(combined)\n",
    "\n",
    "    result = pd.concat(li, axis=0, ignore_index=False).sort_index()\n",
    "    #result = pd.concat([result, observations.loc[(\"WS\", 11, [1, 2, 3, 4], [2017, 2018, 2019])]]).sort_index()\n",
    "    result = result.query('(model != \"WS\") & (init_month < 11)')\n",
    "    \n",
    "    return result"
   ]
  },
  {
   "cell_type": "code",
   "execution_count": 599,
   "id": "48b6f8d9",
   "metadata": {},
   "outputs": [],
   "source": [
    "# For each model, zone, and year: init_month from 4 to 11, with 11 being fully observed\n",
    "hindcast_complete = fill_missing_dates_with_observations(observations, hindcasts_temp_adjusted) "
   ]
  },
  {
   "cell_type": "code",
   "execution_count": 600,
   "id": "96622aad",
   "metadata": {},
   "outputs": [],
   "source": [
    "climate_records_complete = pd.concat([hindcast_complete, observations]).sort_index()"
   ]
  },
  {
   "cell_type": "markdown",
   "id": "b624d8e3",
   "metadata": {},
   "source": [
    "### 4. Feature Computation <a name=\"feature_computation\"></a>"
   ]
  },
  {
   "cell_type": "code",
   "execution_count": 601,
   "id": "76df94cd",
   "metadata": {},
   "outputs": [],
   "source": [
    "def aggregate_data(model):\n",
    "    \"\"\"Compute monthly climate indices.\"\"\"\n",
    "    \n",
    "    month_conversion = {4:\"Apr\", 5:\"May\", 6:\"June\", 7:\"July\", 8:\"Aug\", 9:\"Sep\", 10:\"Oct\"} \n",
    "    climate_data_grouped = model.groupby([\"model\", \"init_month\", \"zone\", \"year\", \"month\"])\n",
    "    \n",
    "    li = []\n",
    "    for group_characteristics, group_content in climate_data_grouped:\n",
    "        group_content = (group_content\n",
    "                         .groupby([\"model\", \"init_month\", \"zone\", \"year\", \"month\"])\n",
    "                         .agg({\"tmean\":\"mean\", \"tmax\":\"mean\", \"tmin\":\"mean\", \"rain\":\"sum\"})\n",
    "                         .reset_index())\n",
    "        li.append(group_content)           \n",
    "\n",
    "    monthly_indices = pd.concat(li, axis=0, ignore_index=False)\n",
    "    monthly_indices.columns = [\"model\", \"init_month\", \"zone\", \"year\", \"month\", \"Tmean\", \"Tmax\", \"Tmin\", \"Rain\"]\n",
    "    monthly_indices[\"month\"] = monthly_indices[\"month\"].replace(month_conversion) \n",
    "    monthly_indices = (monthly_indices\n",
    "                       .reset_index(drop=True)\n",
    "                       .pivot(index=[\"model\", \"init_month\", \"zone\", \"year\"], columns=\"month\"))\n",
    "    monthly_indices.columns = [s[0] + \"_\" + s[1] for s in monthly_indices.columns]\n",
    "    monthly_indices = monthly_indices.reset_index().sort_values(by=[\"model\", \"init_month\", \"zone\", \"year\"])\n",
    "    \n",
    "    return monthly_indices"
   ]
  },
  {
   "cell_type": "code",
   "execution_count": 602,
   "id": "505f0242",
   "metadata": {
    "scrolled": true
   },
   "outputs": [],
   "source": [
    "features_complete = aggregate_data(climate_records_complete)"
   ]
  },
  {
   "cell_type": "code",
   "execution_count": 603,
   "id": "4d4cfd02",
   "metadata": {},
   "outputs": [
    {
     "data": {
      "text/html": [
       "<div>\n",
       "<style scoped>\n",
       "    .dataframe tbody tr th:only-of-type {\n",
       "        vertical-align: middle;\n",
       "    }\n",
       "\n",
       "    .dataframe tbody tr th {\n",
       "        vertical-align: top;\n",
       "    }\n",
       "\n",
       "    .dataframe thead th {\n",
       "        text-align: right;\n",
       "    }\n",
       "</style>\n",
       "<table border=\"1\" class=\"dataframe\">\n",
       "  <thead>\n",
       "    <tr style=\"text-align: right;\">\n",
       "      <th></th>\n",
       "      <th>model</th>\n",
       "      <th>init_month</th>\n",
       "      <th>zone</th>\n",
       "      <th>year</th>\n",
       "      <th>Tmean_Apr</th>\n",
       "      <th>Tmean_Aug</th>\n",
       "      <th>Tmean_July</th>\n",
       "      <th>Tmean_June</th>\n",
       "      <th>Tmean_May</th>\n",
       "      <th>Tmean_Oct</th>\n",
       "      <th>Tmean_Sep</th>\n",
       "      <th>Tmax_Apr</th>\n",
       "      <th>Tmax_Aug</th>\n",
       "      <th>Tmax_July</th>\n",
       "      <th>Tmax_June</th>\n",
       "      <th>Tmax_May</th>\n",
       "      <th>Tmax_Oct</th>\n",
       "      <th>Tmax_Sep</th>\n",
       "      <th>Tmin_Apr</th>\n",
       "      <th>Tmin_Aug</th>\n",
       "      <th>Tmin_July</th>\n",
       "      <th>Tmin_June</th>\n",
       "      <th>Tmin_May</th>\n",
       "      <th>Tmin_Oct</th>\n",
       "      <th>Tmin_Sep</th>\n",
       "      <th>Rain_Apr</th>\n",
       "      <th>Rain_Aug</th>\n",
       "      <th>Rain_July</th>\n",
       "      <th>Rain_June</th>\n",
       "      <th>Rain_May</th>\n",
       "      <th>Rain_Oct</th>\n",
       "      <th>Rain_Sep</th>\n",
       "    </tr>\n",
       "  </thead>\n",
       "  <tbody>\n",
       "    <tr>\n",
       "      <th>0</th>\n",
       "      <td>ECMWF</td>\n",
       "      <td>4</td>\n",
       "      <td>1</td>\n",
       "      <td>1993</td>\n",
       "      <td>19.546178</td>\n",
       "      <td>15.040222</td>\n",
       "      <td>13.518239</td>\n",
       "      <td>14.050305</td>\n",
       "      <td>14.861282</td>\n",
       "      <td>19.010938</td>\n",
       "      <td>16.209916</td>\n",
       "      <td>24.918156</td>\n",
       "      <td>20.039857</td>\n",
       "      <td>18.152404</td>\n",
       "      <td>18.436964</td>\n",
       "      <td>19.517811</td>\n",
       "      <td>24.260672</td>\n",
       "      <td>21.450856</td>\n",
       "      <td>14.312246</td>\n",
       "      <td>9.759763</td>\n",
       "      <td>8.672187</td>\n",
       "      <td>9.590157</td>\n",
       "      <td>9.983954</td>\n",
       "      <td>13.868560</td>\n",
       "      <td>11.075681</td>\n",
       "      <td>117.513733</td>\n",
       "      <td>165.319824</td>\n",
       "      <td>148.970947</td>\n",
       "      <td>149.981690</td>\n",
       "      <td>187.964478</td>\n",
       "      <td>223.339844</td>\n",
       "      <td>177.917481</td>\n",
       "    </tr>\n",
       "    <tr>\n",
       "      <th>1</th>\n",
       "      <td>ECMWF</td>\n",
       "      <td>4</td>\n",
       "      <td>1</td>\n",
       "      <td>1994</td>\n",
       "      <td>19.080090</td>\n",
       "      <td>15.002814</td>\n",
       "      <td>13.582737</td>\n",
       "      <td>14.567060</td>\n",
       "      <td>15.593007</td>\n",
       "      <td>18.902564</td>\n",
       "      <td>15.642439</td>\n",
       "      <td>24.992093</td>\n",
       "      <td>20.191541</td>\n",
       "      <td>18.367634</td>\n",
       "      <td>19.031682</td>\n",
       "      <td>20.487059</td>\n",
       "      <td>24.306293</td>\n",
       "      <td>20.695867</td>\n",
       "      <td>13.480090</td>\n",
       "      <td>9.836017</td>\n",
       "      <td>8.717184</td>\n",
       "      <td>10.193469</td>\n",
       "      <td>10.812511</td>\n",
       "      <td>13.575187</td>\n",
       "      <td>10.604699</td>\n",
       "      <td>118.288116</td>\n",
       "      <td>168.437500</td>\n",
       "      <td>140.563965</td>\n",
       "      <td>135.443115</td>\n",
       "      <td>143.670654</td>\n",
       "      <td>221.113281</td>\n",
       "      <td>203.830566</td>\n",
       "    </tr>\n",
       "    <tr>\n",
       "      <th>2</th>\n",
       "      <td>ECMWF</td>\n",
       "      <td>4</td>\n",
       "      <td>1</td>\n",
       "      <td>1995</td>\n",
       "      <td>18.753962</td>\n",
       "      <td>15.421442</td>\n",
       "      <td>13.630364</td>\n",
       "      <td>13.784919</td>\n",
       "      <td>16.004864</td>\n",
       "      <td>18.864493</td>\n",
       "      <td>16.219474</td>\n",
       "      <td>24.310928</td>\n",
       "      <td>20.865470</td>\n",
       "      <td>18.274593</td>\n",
       "      <td>18.185894</td>\n",
       "      <td>20.808252</td>\n",
       "      <td>24.014013</td>\n",
       "      <td>21.455753</td>\n",
       "      <td>13.208690</td>\n",
       "      <td>10.220139</td>\n",
       "      <td>8.881989</td>\n",
       "      <td>9.175563</td>\n",
       "      <td>11.260249</td>\n",
       "      <td>13.763575</td>\n",
       "      <td>11.176325</td>\n",
       "      <td>123.170801</td>\n",
       "      <td>121.608887</td>\n",
       "      <td>139.035645</td>\n",
       "      <td>149.091797</td>\n",
       "      <td>164.010010</td>\n",
       "      <td>215.766602</td>\n",
       "      <td>191.425781</td>\n",
       "    </tr>\n",
       "    <tr>\n",
       "      <th>3</th>\n",
       "      <td>ECMWF</td>\n",
       "      <td>4</td>\n",
       "      <td>1</td>\n",
       "      <td>1996</td>\n",
       "      <td>19.582874</td>\n",
       "      <td>14.757720</td>\n",
       "      <td>12.838132</td>\n",
       "      <td>14.220025</td>\n",
       "      <td>14.807964</td>\n",
       "      <td>18.852703</td>\n",
       "      <td>15.918487</td>\n",
       "      <td>24.826808</td>\n",
       "      <td>20.058305</td>\n",
       "      <td>17.767301</td>\n",
       "      <td>18.948961</td>\n",
       "      <td>19.860514</td>\n",
       "      <td>24.285363</td>\n",
       "      <td>21.025950</td>\n",
       "      <td>14.318530</td>\n",
       "      <td>9.397808</td>\n",
       "      <td>7.819341</td>\n",
       "      <td>9.720100</td>\n",
       "      <td>9.793304</td>\n",
       "      <td>13.554416</td>\n",
       "      <td>10.752724</td>\n",
       "      <td>138.668213</td>\n",
       "      <td>133.188476</td>\n",
       "      <td>134.335937</td>\n",
       "      <td>123.974609</td>\n",
       "      <td>111.418457</td>\n",
       "      <td>193.071289</td>\n",
       "      <td>182.817383</td>\n",
       "    </tr>\n",
       "    <tr>\n",
       "      <th>4</th>\n",
       "      <td>ECMWF</td>\n",
       "      <td>4</td>\n",
       "      <td>1</td>\n",
       "      <td>1997</td>\n",
       "      <td>18.732130</td>\n",
       "      <td>15.283930</td>\n",
       "      <td>13.224240</td>\n",
       "      <td>14.246213</td>\n",
       "      <td>15.744124</td>\n",
       "      <td>18.926714</td>\n",
       "      <td>16.130120</td>\n",
       "      <td>25.192975</td>\n",
       "      <td>20.491225</td>\n",
       "      <td>17.644286</td>\n",
       "      <td>18.818734</td>\n",
       "      <td>20.619107</td>\n",
       "      <td>24.128123</td>\n",
       "      <td>20.814626</td>\n",
       "      <td>12.826125</td>\n",
       "      <td>9.968171</td>\n",
       "      <td>8.401525</td>\n",
       "      <td>9.686483</td>\n",
       "      <td>11.039437</td>\n",
       "      <td>13.635993</td>\n",
       "      <td>11.092890</td>\n",
       "      <td>76.892242</td>\n",
       "      <td>141.665039</td>\n",
       "      <td>153.464355</td>\n",
       "      <td>147.745361</td>\n",
       "      <td>127.007446</td>\n",
       "      <td>207.187500</td>\n",
       "      <td>212.910156</td>\n",
       "    </tr>\n",
       "    <tr>\n",
       "      <th>...</th>\n",
       "      <td>...</td>\n",
       "      <td>...</td>\n",
       "      <td>...</td>\n",
       "      <td>...</td>\n",
       "      <td>...</td>\n",
       "      <td>...</td>\n",
       "      <td>...</td>\n",
       "      <td>...</td>\n",
       "      <td>...</td>\n",
       "      <td>...</td>\n",
       "      <td>...</td>\n",
       "      <td>...</td>\n",
       "      <td>...</td>\n",
       "      <td>...</td>\n",
       "      <td>...</td>\n",
       "      <td>...</td>\n",
       "      <td>...</td>\n",
       "      <td>...</td>\n",
       "      <td>...</td>\n",
       "      <td>...</td>\n",
       "      <td>...</td>\n",
       "      <td>...</td>\n",
       "      <td>...</td>\n",
       "      <td>...</td>\n",
       "      <td>...</td>\n",
       "      <td>...</td>\n",
       "      <td>...</td>\n",
       "      <td>...</td>\n",
       "      <td>...</td>\n",
       "      <td>...</td>\n",
       "      <td>...</td>\n",
       "      <td>...</td>\n",
       "    </tr>\n",
       "    <tr>\n",
       "      <th>2779</th>\n",
       "      <td>WS</td>\n",
       "      <td>11</td>\n",
       "      <td>4</td>\n",
       "      <td>2012</td>\n",
       "      <td>19.273541</td>\n",
       "      <td>17.674717</td>\n",
       "      <td>14.079152</td>\n",
       "      <td>15.182069</td>\n",
       "      <td>16.633786</td>\n",
       "      <td>18.927124</td>\n",
       "      <td>17.169105</td>\n",
       "      <td>24.962500</td>\n",
       "      <td>22.906426</td>\n",
       "      <td>19.397852</td>\n",
       "      <td>20.414112</td>\n",
       "      <td>22.059952</td>\n",
       "      <td>23.971266</td>\n",
       "      <td>23.152272</td>\n",
       "      <td>13.584582</td>\n",
       "      <td>12.443007</td>\n",
       "      <td>8.760451</td>\n",
       "      <td>9.950025</td>\n",
       "      <td>11.207620</td>\n",
       "      <td>13.882981</td>\n",
       "      <td>11.185937</td>\n",
       "      <td>216.500000</td>\n",
       "      <td>5.600000</td>\n",
       "      <td>72.600000</td>\n",
       "      <td>255.800000</td>\n",
       "      <td>79.400000</td>\n",
       "      <td>164.400000</td>\n",
       "      <td>71.300000</td>\n",
       "    </tr>\n",
       "    <tr>\n",
       "      <th>2780</th>\n",
       "      <td>WS</td>\n",
       "      <td>11</td>\n",
       "      <td>4</td>\n",
       "      <td>2013</td>\n",
       "      <td>18.046140</td>\n",
       "      <td>14.753155</td>\n",
       "      <td>14.182095</td>\n",
       "      <td>15.392463</td>\n",
       "      <td>16.171779</td>\n",
       "      <td>17.769090</td>\n",
       "      <td>16.648222</td>\n",
       "      <td>23.852024</td>\n",
       "      <td>20.882249</td>\n",
       "      <td>20.367004</td>\n",
       "      <td>20.639757</td>\n",
       "      <td>21.880843</td>\n",
       "      <td>23.249923</td>\n",
       "      <td>22.224340</td>\n",
       "      <td>12.240257</td>\n",
       "      <td>8.624060</td>\n",
       "      <td>7.997186</td>\n",
       "      <td>10.145169</td>\n",
       "      <td>10.462715</td>\n",
       "      <td>12.288256</td>\n",
       "      <td>11.072103</td>\n",
       "      <td>97.100000</td>\n",
       "      <td>30.800000</td>\n",
       "      <td>105.900000</td>\n",
       "      <td>347.200000</td>\n",
       "      <td>153.400000</td>\n",
       "      <td>114.900000</td>\n",
       "      <td>180.700000</td>\n",
       "    </tr>\n",
       "    <tr>\n",
       "      <th>2781</th>\n",
       "      <td>WS</td>\n",
       "      <td>11</td>\n",
       "      <td>4</td>\n",
       "      <td>2014</td>\n",
       "      <td>18.826977</td>\n",
       "      <td>16.438710</td>\n",
       "      <td>14.650000</td>\n",
       "      <td>15.269642</td>\n",
       "      <td>16.365284</td>\n",
       "      <td>22.237097</td>\n",
       "      <td>18.210000</td>\n",
       "      <td>23.923013</td>\n",
       "      <td>22.709677</td>\n",
       "      <td>20.154839</td>\n",
       "      <td>19.957752</td>\n",
       "      <td>21.821958</td>\n",
       "      <td>28.983871</td>\n",
       "      <td>23.510000</td>\n",
       "      <td>13.730940</td>\n",
       "      <td>10.167742</td>\n",
       "      <td>9.145161</td>\n",
       "      <td>10.581533</td>\n",
       "      <td>10.908609</td>\n",
       "      <td>15.490323</td>\n",
       "      <td>12.910000</td>\n",
       "      <td>88.300000</td>\n",
       "      <td>95.000000</td>\n",
       "      <td>53.200000</td>\n",
       "      <td>362.300000</td>\n",
       "      <td>123.500000</td>\n",
       "      <td>35.600000</td>\n",
       "      <td>167.000000</td>\n",
       "    </tr>\n",
       "    <tr>\n",
       "      <th>2782</th>\n",
       "      <td>WS</td>\n",
       "      <td>11</td>\n",
       "      <td>4</td>\n",
       "      <td>2015</td>\n",
       "      <td>19.400000</td>\n",
       "      <td>17.391935</td>\n",
       "      <td>16.037097</td>\n",
       "      <td>14.595000</td>\n",
       "      <td>16.811290</td>\n",
       "      <td>20.148387</td>\n",
       "      <td>20.775000</td>\n",
       "      <td>24.540000</td>\n",
       "      <td>23.500000</td>\n",
       "      <td>21.938710</td>\n",
       "      <td>19.276667</td>\n",
       "      <td>21.316129</td>\n",
       "      <td>24.858065</td>\n",
       "      <td>27.126667</td>\n",
       "      <td>14.260000</td>\n",
       "      <td>11.283871</td>\n",
       "      <td>10.135484</td>\n",
       "      <td>9.913333</td>\n",
       "      <td>12.306452</td>\n",
       "      <td>15.438710</td>\n",
       "      <td>14.423333</td>\n",
       "      <td>74.000000</td>\n",
       "      <td>34.600000</td>\n",
       "      <td>273.400000</td>\n",
       "      <td>72.600000</td>\n",
       "      <td>145.000000</td>\n",
       "      <td>176.600000</td>\n",
       "      <td>131.200000</td>\n",
       "    </tr>\n",
       "    <tr>\n",
       "      <th>2783</th>\n",
       "      <td>WS</td>\n",
       "      <td>11</td>\n",
       "      <td>4</td>\n",
       "      <td>2016</td>\n",
       "      <td>19.876667</td>\n",
       "      <td>14.746774</td>\n",
       "      <td>14.706452</td>\n",
       "      <td>12.798333</td>\n",
       "      <td>14.912903</td>\n",
       "      <td>20.164516</td>\n",
       "      <td>17.261667</td>\n",
       "      <td>25.773333</td>\n",
       "      <td>20.703226</td>\n",
       "      <td>20.429032</td>\n",
       "      <td>18.690000</td>\n",
       "      <td>18.870968</td>\n",
       "      <td>25.519355</td>\n",
       "      <td>23.490000</td>\n",
       "      <td>13.980000</td>\n",
       "      <td>8.790323</td>\n",
       "      <td>8.983871</td>\n",
       "      <td>6.906667</td>\n",
       "      <td>10.954839</td>\n",
       "      <td>14.809677</td>\n",
       "      <td>11.033333</td>\n",
       "      <td>63.000000</td>\n",
       "      <td>161.800000</td>\n",
       "      <td>135.000000</td>\n",
       "      <td>91.200000</td>\n",
       "      <td>158.600000</td>\n",
       "      <td>257.000000</td>\n",
       "      <td>57.600000</td>\n",
       "    </tr>\n",
       "  </tbody>\n",
       "</table>\n",
       "<p>2784 rows × 32 columns</p>\n",
       "</div>"
      ],
      "text/plain": [
       "      model  init_month  zone  year  Tmean_Apr  Tmean_Aug  Tmean_July  \\\n",
       "0     ECMWF           4     1  1993  19.546178  15.040222   13.518239   \n",
       "1     ECMWF           4     1  1994  19.080090  15.002814   13.582737   \n",
       "2     ECMWF           4     1  1995  18.753962  15.421442   13.630364   \n",
       "3     ECMWF           4     1  1996  19.582874  14.757720   12.838132   \n",
       "4     ECMWF           4     1  1997  18.732130  15.283930   13.224240   \n",
       "...     ...         ...   ...   ...        ...        ...         ...   \n",
       "2779     WS          11     4  2012  19.273541  17.674717   14.079152   \n",
       "2780     WS          11     4  2013  18.046140  14.753155   14.182095   \n",
       "2781     WS          11     4  2014  18.826977  16.438710   14.650000   \n",
       "2782     WS          11     4  2015  19.400000  17.391935   16.037097   \n",
       "2783     WS          11     4  2016  19.876667  14.746774   14.706452   \n",
       "\n",
       "      Tmean_June  Tmean_May  Tmean_Oct  Tmean_Sep   Tmax_Apr   Tmax_Aug  \\\n",
       "0      14.050305  14.861282  19.010938  16.209916  24.918156  20.039857   \n",
       "1      14.567060  15.593007  18.902564  15.642439  24.992093  20.191541   \n",
       "2      13.784919  16.004864  18.864493  16.219474  24.310928  20.865470   \n",
       "3      14.220025  14.807964  18.852703  15.918487  24.826808  20.058305   \n",
       "4      14.246213  15.744124  18.926714  16.130120  25.192975  20.491225   \n",
       "...          ...        ...        ...        ...        ...        ...   \n",
       "2779   15.182069  16.633786  18.927124  17.169105  24.962500  22.906426   \n",
       "2780   15.392463  16.171779  17.769090  16.648222  23.852024  20.882249   \n",
       "2781   15.269642  16.365284  22.237097  18.210000  23.923013  22.709677   \n",
       "2782   14.595000  16.811290  20.148387  20.775000  24.540000  23.500000   \n",
       "2783   12.798333  14.912903  20.164516  17.261667  25.773333  20.703226   \n",
       "\n",
       "      Tmax_July  Tmax_June   Tmax_May   Tmax_Oct   Tmax_Sep   Tmin_Apr  \\\n",
       "0     18.152404  18.436964  19.517811  24.260672  21.450856  14.312246   \n",
       "1     18.367634  19.031682  20.487059  24.306293  20.695867  13.480090   \n",
       "2     18.274593  18.185894  20.808252  24.014013  21.455753  13.208690   \n",
       "3     17.767301  18.948961  19.860514  24.285363  21.025950  14.318530   \n",
       "4     17.644286  18.818734  20.619107  24.128123  20.814626  12.826125   \n",
       "...         ...        ...        ...        ...        ...        ...   \n",
       "2779  19.397852  20.414112  22.059952  23.971266  23.152272  13.584582   \n",
       "2780  20.367004  20.639757  21.880843  23.249923  22.224340  12.240257   \n",
       "2781  20.154839  19.957752  21.821958  28.983871  23.510000  13.730940   \n",
       "2782  21.938710  19.276667  21.316129  24.858065  27.126667  14.260000   \n",
       "2783  20.429032  18.690000  18.870968  25.519355  23.490000  13.980000   \n",
       "\n",
       "       Tmin_Aug  Tmin_July  Tmin_June   Tmin_May   Tmin_Oct   Tmin_Sep  \\\n",
       "0      9.759763   8.672187   9.590157   9.983954  13.868560  11.075681   \n",
       "1      9.836017   8.717184  10.193469  10.812511  13.575187  10.604699   \n",
       "2     10.220139   8.881989   9.175563  11.260249  13.763575  11.176325   \n",
       "3      9.397808   7.819341   9.720100   9.793304  13.554416  10.752724   \n",
       "4      9.968171   8.401525   9.686483  11.039437  13.635993  11.092890   \n",
       "...         ...        ...        ...        ...        ...        ...   \n",
       "2779  12.443007   8.760451   9.950025  11.207620  13.882981  11.185937   \n",
       "2780   8.624060   7.997186  10.145169  10.462715  12.288256  11.072103   \n",
       "2781  10.167742   9.145161  10.581533  10.908609  15.490323  12.910000   \n",
       "2782  11.283871  10.135484   9.913333  12.306452  15.438710  14.423333   \n",
       "2783   8.790323   8.983871   6.906667  10.954839  14.809677  11.033333   \n",
       "\n",
       "        Rain_Apr    Rain_Aug   Rain_July   Rain_June    Rain_May    Rain_Oct  \\\n",
       "0     117.513733  165.319824  148.970947  149.981690  187.964478  223.339844   \n",
       "1     118.288116  168.437500  140.563965  135.443115  143.670654  221.113281   \n",
       "2     123.170801  121.608887  139.035645  149.091797  164.010010  215.766602   \n",
       "3     138.668213  133.188476  134.335937  123.974609  111.418457  193.071289   \n",
       "4      76.892242  141.665039  153.464355  147.745361  127.007446  207.187500   \n",
       "...          ...         ...         ...         ...         ...         ...   \n",
       "2779  216.500000    5.600000   72.600000  255.800000   79.400000  164.400000   \n",
       "2780   97.100000   30.800000  105.900000  347.200000  153.400000  114.900000   \n",
       "2781   88.300000   95.000000   53.200000  362.300000  123.500000   35.600000   \n",
       "2782   74.000000   34.600000  273.400000   72.600000  145.000000  176.600000   \n",
       "2783   63.000000  161.800000  135.000000   91.200000  158.600000  257.000000   \n",
       "\n",
       "        Rain_Sep  \n",
       "0     177.917481  \n",
       "1     203.830566  \n",
       "2     191.425781  \n",
       "3     182.817383  \n",
       "4     212.910156  \n",
       "...          ...  \n",
       "2779   71.300000  \n",
       "2780  180.700000  \n",
       "2781  167.000000  \n",
       "2782  131.200000  \n",
       "2783   57.600000  \n",
       "\n",
       "[2784 rows x 32 columns]"
      ]
     },
     "execution_count": 603,
     "metadata": {},
     "output_type": "execute_result"
    }
   ],
   "source": [
    "features_complete"
   ]
  },
  {
   "cell_type": "code",
   "execution_count": 604,
   "id": "3ced52ad",
   "metadata": {},
   "outputs": [],
   "source": [
    "def create_climatology_features(features, climate):\n",
    "    climate = climate.copy()\n",
    "    features = features.loc[features[\"model\"] == \"WS\"].reset_index(drop=True).copy()\n",
    "    month_conversion = {4:\"Apr\", 5:\"May\", 6:\"June\", 7:\"July\", 8:\"Aug\", 9:\"Sep\", 10:\"Oct\"} \n",
    "    climate.columns = [\"zone\", \"month\", \"Tmean\", \"Tmax\", \"Tmin\", \"Rain\"]\n",
    "    climate[\"month\"] = climate[\"month\"].replace(month_conversion) \n",
    "    climate[\"model\"] = \"CLIMATE\"\n",
    "    climate = (climate\n",
    "               .reset_index(drop=True)\n",
    "               .pivot(index=[\"model\", \"zone\"], columns=\"month\"))\n",
    "    climate.columns = [s[0] + \"_\" + s[1] for s in climate.columns]\n",
    "    climate = climate.reset_index()\n",
    "    climate = pd.concat([climate]*7)\n",
    "    init_months = np.repeat([4, 5, 6, 7, 8, 9, 10], 4)\n",
    "    climate[\"init_month\"] = init_months\n",
    "    climate = pd.concat([climate]*24).reset_index(drop=True)\n",
    "    climate[\"year\"] = np.repeat(list(range(1993,2017)), 28)\n",
    "    climate = climate.set_index([\"model\", \"init_month\", \"zone\", \"year\"]).sort_index().reset_index()\n",
    "    li = []\n",
    "    for im in list(range(4,11)):\n",
    "        temp = climate.loc[climate[\"init_month\"] == im].copy()\n",
    "        if im == 4:\n",
    "            li.append(temp)\n",
    "        if im == 5:\n",
    "            temp.loc[:, [c for c in temp.columns if (\"Apr\" in c)]] = np.nan\n",
    "            li.append(temp)\n",
    "        if im == 6:\n",
    "            temp.loc[:, [c for c in temp.columns if (\"May\" in c) | (\"Apr\" in c)]] = np.nan\n",
    "            li.append(temp)\n",
    "        if im == 7:\n",
    "            temp.loc[:, [c for c in temp.columns if (\"June\" in c) | (\"May\" in c) | (\"Apr\" in c)]] = np.nan\n",
    "            li.append(temp)\n",
    "        if im == 8:\n",
    "            temp.loc[:, [c for c in temp.columns if (\"July\" in c) | (\"June\" in c) | (\"May\" in c) | (\"Apr\" in c)]] = np.nan\n",
    "            li.append(temp)\n",
    "        if im == 9:\n",
    "            temp.loc[:, [c for c in temp.columns if (\"Aug\" in c) | (\"July\" in c) | (\"June\" in c) | (\"May\" in c) | (\"Apr\" in c)]] = np.nan\n",
    "            li.append(temp)\n",
    "        if im == 10:\n",
    "            temp.loc[:, [c for c in temp.columns if (\"Sep\" in c) | (\"Aug\" in c) | (\"July\" in c) | (\"June\" in c) | (\"May\" in c) | (\"Apr\" in c)]] = np.nan\n",
    "            li.append(temp)\n",
    "    climate = pd.concat(li, axis=0).set_index([\"zone\", \"year\"])\n",
    "    features = features.set_index([\"zone\", \"year\"])\n",
    "    climate = climate.combine_first(features).reset_index()\n",
    "    \n",
    "    return climate"
   ]
  },
  {
   "cell_type": "code",
   "execution_count": 605,
   "id": "5c37b013",
   "metadata": {},
   "outputs": [],
   "source": [
    "features_climatology = create_climatology_features(features_complete, climatology)\n",
    "features_complete = (pd\n",
    "                     .concat([features_complete, features_climatology])\n",
    "                     .sort_values([\"model\", \"init_month\", \"zone\", \"year\"])\n",
    "                     .reset_index(drop=True))"
   ]
  },
  {
   "cell_type": "markdown",
   "id": "8b78155a",
   "metadata": {},
   "source": [
    "### 5. Include Yield Data <a name=\"yield_data\"></a>"
   ]
  },
  {
   "cell_type": "code",
   "execution_count": 5,
   "id": "55b8d2e5",
   "metadata": {},
   "outputs": [],
   "source": [
    "def read_and_detrend_yield_by_group():\n",
    "    df = pd.read_csv(\"Data/Yield/yield_by_group.csv\")\n",
    "    li = []\n",
    "    for group in [1, 2, 3, 4]:\n",
    "        cv_yield = df.loc[(df[\"zone\"] == group) & (df[\"year\"].isin(list(range(1993,2017))))].copy().reset_index(drop=True)\n",
    "        reg = LinearRegression()\n",
    "        slope_cv = reg.fit(cv_yield[\"year\"].values.reshape(-1,1), cv_yield[\"yield\"]).coef_[0]\n",
    "        \n",
    "        cv_yield[\"yield_detrended\"] = cv_yield[\"yield\"] + (slope_cv * (2016 - cv_yield[\"year\"]))\n",
    "        li.append(cv_yield)\n",
    "\n",
    "    df_cv = (pd\n",
    "             .concat(li, axis=0, ignore_index=False)\n",
    "             .sort_values(by=[\"zone\", \"year\"])\n",
    "             .reset_index(drop=True)\n",
    "             .drop([\"yield\"], axis=1)\n",
    "             .rename(columns={\"yield_detrended\":\"yield\"}))\n",
    "        \n",
    "    return df_cv"
   ]
  },
  {
   "cell_type": "code",
   "execution_count": 18,
   "id": "737f08b6",
   "metadata": {},
   "outputs": [],
   "source": [
    "def national_yield(group_yield):\n",
    "    harvested_area = pd.read_csv(\"Data/Yield/harvested_area_by_group2.csv\")\n",
    "    ha_yield_group = harvested_area.merge(group_yield, on=[\"year\", \"zone\"])\n",
    "    ha_yield_group[\"relative_yield\"] = ha_yield_group[\"relative_harvested_area\"] * ha_yield_group[\"yield\"]\n",
    "    yield_brazil = ha_yield_group.groupby([\"year\"])[\"relative_yield\"].sum().reset_index().rename(columns={\"relative_yield\":\"yield\"})\n",
    "    ha_yield_group = ha_yield_group[[\"year\", \"zone\", \"rolling_avg\"]].pivot(columns=\"zone\", index=\"year\")\n",
    "    ha_yield_group.columns = [1, 2, 3, 4]\n",
    "    year_group_to_contribution = ha_yield_group.to_dict()\n",
    "    return (yield_brazil, year_group_to_contribution)"
   ]
  },
  {
   "cell_type": "code",
   "execution_count": 19,
   "id": "a97cf94c",
   "metadata": {},
   "outputs": [],
   "source": [
    "yield_by_group = read_and_detrend_yield_by_group()\n",
    "yield_national, contributions = national_yield(yield_by_group)"
   ]
  },
  {
   "cell_type": "code",
   "execution_count": 609,
   "id": "cf6c0937",
   "metadata": {},
   "outputs": [],
   "source": [
    "kfold_cv_dataset = (features_complete\n",
    "                    .merge(yield_by_group.loc[:, [\"zone\", \"year\", \"yield\"]], how=\"left\", on=[\"zone\", \"year\"])\n",
    "                    .dropna()\n",
    "                    .reset_index(drop=True))"
   ]
  },
  {
   "cell_type": "code",
   "execution_count": 23,
   "id": "4761dd06",
   "metadata": {},
   "outputs": [],
   "source": [
    "#kfold_cv_dataset.to_csv(\"kfold_cv_dataset.csv\", index=False)"
   ]
  },
  {
   "cell_type": "code",
   "execution_count": 24,
   "id": "cce6103c",
   "metadata": {},
   "outputs": [],
   "source": [
    "kfold_cv_dataset = pd.read_csv(\"kfold_cv_dataset.csv\")"
   ]
  },
  {
   "cell_type": "markdown",
   "id": "7a0e3f80",
   "metadata": {},
   "source": [
    "### 6. K-Fold Cross Validation"
   ]
  },
  {
   "cell_type": "code",
   "execution_count": 46,
   "id": "a5b96b37",
   "metadata": {},
   "outputs": [],
   "source": [
    "def kfold_cross_validation(data, national_yield, contributions_to_national_yield=contributions, model=\"ECMWF\", init=8):\n",
    "    \"\"\"\n",
    "    Returns scores on LOO-CV.\n",
    "        Params:\n",
    "            data, dataframe: all features and targets by group and year for all models\n",
    "            national_yield, dataframe: national trend-corrected yield from 1993-2016\n",
    "            model, string: model that is evaluated\n",
    "            init, int: init_month that is evaluated\n",
    "        Returns:\n",
    "            result, dataframe: yield forecasts by year\n",
    "    \"\"\"\n",
    "    if model == \"WS\": init = 11\n",
    "    cv_dataset = (data\n",
    "                  .loc[(data[\"model\"].isin([model])) & (data[\"init_month\"] == init)]\n",
    "                  .reset_index(drop=True)\n",
    "                  .copy())\n",
    "    national_forecasts_by_year = (pd\n",
    "                                  .DataFrame(data={\"year\":crop_seasons, \"predicted\":np.zeros(24)})\n",
    "                                  .merge(national_yield, on=\"year\", how=\"left\"))\n",
    "    \n",
    "    relevant_columns = [c for c in cv_dataset.columns \n",
    "                        if c not in [\"model\", \"init_month\", \"zone\", \"year\", \"yield\"]]\n",
    "    #print(relevant_columns)\n",
    "    for season in crop_seasons:\n",
    "        for group in list(range(1,5)):\n",
    "            X_train = cv_dataset.loc[(cv_dataset[\"year\"] != season)\n",
    "                                     & (cv_dataset[\"zone\"] == group), relevant_columns].reset_index(drop=True)\n",
    "            y_train = cv_dataset.loc[(cv_dataset[\"year\"] != season)\n",
    "                                     & (cv_dataset[\"zone\"] == group), \"yield\"].reset_index(drop=True)\n",
    "            \n",
    "            if model == \"CLIMATE\": X_train += np.random.normal(0, 1e-6, X_train.shape) \n",
    "            \n",
    "            pipeline = Pipeline([('scaler', StandardScaler()), \n",
    "                                 ('var', VarianceThreshold()), \n",
    "                                 ('selector', SelectKBest(f_regression, k=4)), \n",
    "                                 ('estimator', Ridge())])\n",
    "            reg = pipeline.fit(X_train, y_train)  \n",
    "\n",
    "            X_val = cv_dataset.loc[(cv_dataset[\"year\"] == season)\n",
    "                                   & (cv_dataset[\"zone\"] == group), relevant_columns].reset_index(drop=True)\n",
    "                \n",
    "            y_predicted = reg.predict(X_val)[0]\n",
    "            if y_predicted < 0:\n",
    "                print(y_predicted)\n",
    "                print(X_train.mean() - X_val)\n",
    "            national_forecasts_by_year.loc[national_forecasts_by_year[\"year\"] == season, \"predicted\"] += y_predicted * contributions_to_national_yield[group][season]\n",
    "    \n",
    "    return national_forecasts_by_year"
   ]
  },
  {
   "cell_type": "code",
   "execution_count": 47,
   "id": "4b353d41",
   "metadata": {},
   "outputs": [
    {
     "name": "stdout",
     "output_type": "stream",
     "text": [
      "ECMWF\n",
      "12.85\n",
      "NCEP\n",
      "13.44\n",
      "UKMO\n",
      "12.57\n",
      "MME\n",
      "12.5\n",
      "CLIMATE\n",
      "12.01\n",
      "WS\n",
      "11.03\n"
     ]
    }
   ],
   "source": [
    "for model in [\"ECMWF\", \"NCEP\", \"UKMO\", \"MME\", \"CLIMATE\", \"WS\"]:\n",
    "    res = kfold_cross_validation(kfold_cv_dataset, yield_national, contributions, model=model, init=7)\n",
    "    print(model)\n",
    "    print(np.round(100 * mse(res[\"yield\"], res[\"predicted\"], squared=False)/res[\"yield\"].mean(), 2))"
   ]
  },
  {
   "cell_type": "code",
   "execution_count": 48,
   "id": "315875c7",
   "metadata": {},
   "outputs": [
    {
     "name": "stdout",
     "output_type": "stream",
     "text": [
      "ECMWF\n",
      "11.36\n",
      "NCEP\n",
      "11.5\n",
      "UKMO\n",
      "12.33\n",
      "MME\n",
      "11.12\n",
      "CLIMATE\n",
      "11.87\n",
      "WS\n",
      "11.03\n"
     ]
    }
   ],
   "source": [
    "for model in [\"ECMWF\", \"NCEP\", \"UKMO\", \"MME\", \"CLIMATE\", \"WS\"]:\n",
    "    res = kfold_cross_validation(kfold_cv_dataset, yield_national, contributions, model=model, init=8)\n",
    "    print(model)\n",
    "    print(np.round(100 * mse(res[\"yield\"], res[\"predicted\"], squared=False)/res[\"yield\"].mean(), 2))"
   ]
  },
  {
   "cell_type": "code",
   "execution_count": 42,
   "id": "25d9cae8",
   "metadata": {},
   "outputs": [
    {
     "name": "stdout",
     "output_type": "stream",
     "text": [
      "ECMWF\n",
      "9.15\n",
      "NCEP\n",
      "10.17\n",
      "UKMO\n",
      "10.34\n",
      "MME\n",
      "10.07\n",
      "CLIMATE\n",
      "10.45\n",
      "WS\n",
      "8.51\n"
     ]
    }
   ],
   "source": [
    "for model in [\"ECMWF\", \"NCEP\", \"UKMO\", \"MME\", \"CLIMATE\", \"WS\"]:\n",
    "    res = kfold_cross_validation(kfold_cv_dataset, yield_national, model=model, init=9)\n",
    "    print(model)\n",
    "    print(np.round(100 * mse(res[\"yield\"], res[\"predicted\"], squared=False)/res[\"yield\"].mean(), 2))"
   ]
  },
  {
   "cell_type": "code",
   "execution_count": 43,
   "id": "83745ce9",
   "metadata": {},
   "outputs": [
    {
     "name": "stdout",
     "output_type": "stream",
     "text": [
      "ECMWF\n",
      "9.42\n",
      "NCEP\n",
      "9.27\n",
      "UKMO\n",
      "9.47\n",
      "MME\n",
      "9.2\n",
      "CLIMATE\n",
      "9.85\n",
      "WS\n",
      "8.51\n"
     ]
    }
   ],
   "source": [
    "for model in [\"ECMWF\", \"NCEP\", \"UKMO\", \"MME\", \"CLIMATE\", \"WS\"]:\n",
    "    res = kfold_cross_validation(kfold_cv_dataset, yield_national, model=model, init=10)\n",
    "    print(model)\n",
    "    print(np.round(100 * mse(res[\"yield\"], res[\"predicted\"], squared=False)/res[\"yield\"].mean(), 2))"
   ]
  },
  {
   "cell_type": "code",
   "execution_count": 634,
   "id": "bdedaf55",
   "metadata": {},
   "outputs": [
    {
     "name": "stdout",
     "output_type": "stream",
     "text": [
      "ECMWF\n",
      "11.09\n",
      "NCEP\n",
      "11.67\n",
      "UKMO\n",
      "12.1\n",
      "MME\n",
      "11.47\n",
      "CLIMATE\n",
      "12.78\n",
      "WS\n",
      "8.71\n"
     ]
    }
   ],
   "source": [
    "for model in [\"ECMWF\", \"NCEP\", \"UKMO\", \"MME\", \"CLIMATE\", \"WS\"]:\n",
    "    res = kfold_cross_validation(kfold_cv_dataset, ha_yield_group, model=model, init=8)\n",
    "    print(model)\n",
    "    print(np.round(100 * mse(res[\"yield\"], res[\"predicted\"], squared=False)/res[\"yield\"].mean(), 2))"
   ]
  },
  {
   "cell_type": "code",
   "execution_count": 635,
   "id": "6e69fa5e",
   "metadata": {},
   "outputs": [
    {
     "name": "stdout",
     "output_type": "stream",
     "text": [
      "ECMWF\n",
      "9.79\n",
      "NCEP\n",
      "9.47\n",
      "UKMO\n",
      "10.54\n",
      "MME\n",
      "9.68\n",
      "CLIMATE\n",
      "9.97\n",
      "WS\n",
      "8.71\n"
     ]
    }
   ],
   "source": [
    "for model in [\"ECMWF\", \"NCEP\", \"UKMO\", \"MME\", \"CLIMATE\", \"WS\"]:\n",
    "    res = kfold_cross_validation(kfold_cv_dataset, ha_yield_group, model=model, init=10)\n",
    "    print(model)\n",
    "    print(np.round(100 * mse(res[\"yield\"], res[\"predicted\"], squared=False)/res[\"yield\"].mean(), 2))"
   ]
  },
  {
   "cell_type": "code",
   "execution_count": 29,
   "id": "85e257a9",
   "metadata": {},
   "outputs": [
    {
     "data": {
      "text/plain": [
       "<AxesSubplot:xlabel='year', ylabel='predicted'>"
      ]
     },
     "execution_count": 29,
     "metadata": {},
     "output_type": "execute_result"
    },
    {
     "data": {
      "text/plain": [
       "<AxesSubplot:xlabel='year', ylabel='predicted'>"
      ]
     },
     "execution_count": 29,
     "metadata": {},
     "output_type": "execute_result"
    },
    {
     "data": {
      "text/plain": [
       "<AxesSubplot:xlabel='year', ylabel='predicted'>"
      ]
     },
     "execution_count": 29,
     "metadata": {},
     "output_type": "execute_result"
    },
    {
     "data": {
      "text/plain": [
       "<AxesSubplot:xlabel='year', ylabel='predicted'>"
      ]
     },
     "execution_count": 29,
     "metadata": {},
     "output_type": "execute_result"
    },
    {
     "data": {
      "text/plain": [
       "<matplotlib.legend.Legend at 0x214b5709430>"
      ]
     },
     "execution_count": 29,
     "metadata": {},
     "output_type": "execute_result"
    },
    {
     "data": {
      "image/png": "[encoded data removed]",
      "text/plain": [
       "<Figure size 432x288 with 1 Axes>"
      ]
     },
     "metadata": {
      "needs_background": "light"
     },
     "output_type": "display_data"
    },
    {
     "data": {
      "text/plain": [
       "<AxesSubplot:xlabel='year', ylabel='predicted'>"
      ]
     },
     "execution_count": 29,
     "metadata": {},
     "output_type": "execute_result"
    },
    {
     "data": {
      "text/plain": [
       "<AxesSubplot:xlabel='year', ylabel='predicted'>"
      ]
     },
     "execution_count": 29,
     "metadata": {},
     "output_type": "execute_result"
    },
    {
     "data": {
      "text/plain": [
       "<AxesSubplot:xlabel='year', ylabel='predicted'>"
      ]
     },
     "execution_count": 29,
     "metadata": {},
     "output_type": "execute_result"
    },
    {
     "data": {
      "text/plain": [
       "<AxesSubplot:xlabel='year', ylabel='predicted'>"
      ]
     },
     "execution_count": 29,
     "metadata": {},
     "output_type": "execute_result"
    },
    {
     "data": {
      "text/plain": [
       "<matplotlib.legend.Legend at 0x214b56ffdc0>"
      ]
     },
     "execution_count": 29,
     "metadata": {},
     "output_type": "execute_result"
    },
    {
     "data": {
      "image/png": "[encoded data removed]",
      "text/plain": [
       "<Figure size 432x288 with 1 Axes>"
      ]
     },
     "metadata": {
      "needs_background": "light"
     },
     "output_type": "display_data"
    },
    {
     "data": {
      "text/plain": [
       "<AxesSubplot:xlabel='year', ylabel='predicted'>"
      ]
     },
     "execution_count": 29,
     "metadata": {},
     "output_type": "execute_result"
    },
    {
     "data": {
      "text/plain": [
       "<AxesSubplot:xlabel='year', ylabel='predicted'>"
      ]
     },
     "execution_count": 29,
     "metadata": {},
     "output_type": "execute_result"
    },
    {
     "data": {
      "text/plain": [
       "<AxesSubplot:xlabel='year', ylabel='predicted'>"
      ]
     },
     "execution_count": 29,
     "metadata": {},
     "output_type": "execute_result"
    },
    {
     "data": {
      "text/plain": [
       "<AxesSubplot:xlabel='year', ylabel='predicted'>"
      ]
     },
     "execution_count": 29,
     "metadata": {},
     "output_type": "execute_result"
    },
    {
     "data": {
      "text/plain": [
       "<matplotlib.legend.Legend at 0x214b5029cd0>"
      ]
     },
     "execution_count": 29,
     "metadata": {},
     "output_type": "execute_result"
    },
    {
     "data": {
      "image/png": "[encoded data removed]",
      "text/plain": [
       "<Figure size 432x288 with 1 Axes>"
      ]
     },
     "metadata": {
      "needs_background": "light"
     },
     "output_type": "display_data"
    }
   ],
   "source": [
    "for im in list(range(8,11)):\n",
    "    res = kfold_cross_validation(kfold_cv_dataset, yield_national, model=\"MME\", init=im)\n",
    "    sns.lineplot(data=res, x=\"year\", y=\"predicted\", label=\"MME\");\n",
    "    res = kfold_cross_validation(kfold_cv_dataset, yield_national, model=\"CLIMATE\", init=im)\n",
    "    sns.lineplot(data=res, x=\"year\", y=\"predicted\", label=\"CLIMATOLOGY\");\n",
    "    res = kfold_cross_validation(kfold_cv_dataset, yield_national, model=\"WS\", init=im)\n",
    "    sns.lineplot(data=res, x=\"year\", y=\"predicted\", label=\"WS\");\n",
    "    sns.lineplot(data=res, x=\"year\", y=\"yield\", label=\"GT\");\n",
    "    plt.legend(loc = 'upper left');\n",
    "    plt.show();"
   ]
  },
  {
   "cell_type": "code",
   "execution_count": null,
   "id": "ae918b3a",
   "metadata": {},
   "outputs": [],
   "source": []
  }
 ],
 "metadata": {
  "kernelspec": {
   "display_name": "Python 3 (ipykernel)",
   "language": "python",
   "name": "python3"
  },
  "language_info": {
   "codemirror_mode": {
    "name": "ipython",
    "version": 3
   },
   "file_extension": ".py",
   "mimetype": "text/x-python",
   "name": "python",
   "nbconvert_exporter": "python",
   "pygments_lexer": "ipython3",
   "version": "3.9.12"
  }
 },
 "nbformat": 4,
 "nbformat_minor": 5
}
