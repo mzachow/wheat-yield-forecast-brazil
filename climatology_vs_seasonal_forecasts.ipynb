{
 "cells": [
  {
   "cell_type": "code",
   "execution_count": 324,
   "id": "26de6ba5",
   "metadata": {},
   "outputs": [
    {
     "name": "stdout",
     "output_type": "stream",
     "text": [
      "The autoreload extension is already loaded. To reload it, use:\n",
      "  %reload_ext autoreload\n"
     ]
    }
   ],
   "source": [
    "# Libraries\n",
    "import warnings\n",
    "import numpy as np\n",
    "import pandas as pd\n",
    "import seaborn as sns\n",
    "import helperfunctions as hf\n",
    "import matplotlib.pyplot as plt\n",
    "from scipy.stats import pearsonr\n",
    "from sklearn.pipeline import Pipeline\n",
    "from sklearn.preprocessing import StandardScaler\n",
    "from sklearn.metrics import mean_squared_error as mse\n",
    "from sklearn.linear_model import LinearRegression, Ridge\n",
    "from sklearn.feature_selection import SelectKBest, f_regression, VarianceThreshold\n",
    "from IPython.core.interactiveshell import InteractiveShell\n",
    "\n",
    "# Notebook Settings \n",
    "warnings.simplefilter(action='ignore', category=FutureWarning)\n",
    "warnings.filterwarnings(\"error\")\n",
    "pd.set_option('display.max_columns', 500)\n",
    "InteractiveShell.ast_node_interactivity = \"all\"\n",
    "%load_ext autoreload\n",
    "%autoreload 2\n",
    "\n",
    "# Variables\n",
    "crop_seasons = list(range(1993,2017))\n",
    "months_of_crop_season = list(range(8,11))\n",
    "homogeneous_groups = list(range(1,5))"
   ]
  },
  {
   "cell_type": "markdown",
   "id": "2d1ef0eb",
   "metadata": {},
   "source": [
    "## Content\n",
    "* [1. Read Data](#read_data)\n",
    "* [2. Bias-Adjustment](#bias_adjustment)\n",
    "* [3. Dataset Completion](#dataset_completion)\n",
    "* [4. Feature Computation](#feature_computation)\n",
    "* [5. Include Yield Data](#yield_data)\n",
    "* [6. K-Fold Cross Validation](#cross_validation)"
   ]
  },
  {
   "cell_type": "markdown",
   "id": "f00b2ffb",
   "metadata": {},
   "source": [
    "## 1. Read Data <a name=\"read_data\"></a>"
   ]
  },
  {
   "cell_type": "markdown",
   "id": "983e8257",
   "metadata": {},
   "source": [
    "Our approach requires three sources of climate data: seasonal climate models, observations, and climatology."
   ]
  },
  {
   "cell_type": "code",
   "execution_count": 325,
   "id": "0fd0f701",
   "metadata": {},
   "outputs": [
    {
     "data": {
      "text/html": [
       "<div>\n",
       "<style scoped>\n",
       "    .dataframe tbody tr th:only-of-type {\n",
       "        vertical-align: middle;\n",
       "    }\n",
       "\n",
       "    .dataframe tbody tr th {\n",
       "        vertical-align: top;\n",
       "    }\n",
       "\n",
       "    .dataframe thead th {\n",
       "        text-align: right;\n",
       "    }\n",
       "</style>\n",
       "<table border=\"1\" class=\"dataframe\">\n",
       "  <thead>\n",
       "    <tr style=\"text-align: right;\">\n",
       "      <th></th>\n",
       "      <th></th>\n",
       "      <th></th>\n",
       "      <th></th>\n",
       "      <th></th>\n",
       "      <th>time</th>\n",
       "      <th>tmean</th>\n",
       "      <th>tmax</th>\n",
       "      <th>tmin</th>\n",
       "      <th>rain</th>\n",
       "    </tr>\n",
       "    <tr>\n",
       "      <th>model</th>\n",
       "      <th>init_month</th>\n",
       "      <th>zone</th>\n",
       "      <th>year</th>\n",
       "      <th>month</th>\n",
       "      <th></th>\n",
       "      <th></th>\n",
       "      <th></th>\n",
       "      <th></th>\n",
       "      <th></th>\n",
       "    </tr>\n",
       "  </thead>\n",
       "  <tbody>\n",
       "    <tr>\n",
       "      <th>ECMWF</th>\n",
       "      <th>4</th>\n",
       "      <th>1</th>\n",
       "      <th>1993</th>\n",
       "      <th>8</th>\n",
       "      <td>1993-08-01</td>\n",
       "      <td>10.479694</td>\n",
       "      <td>16.949674</td>\n",
       "      <td>6.975128</td>\n",
       "      <td>2.893066</td>\n",
       "    </tr>\n",
       "  </tbody>\n",
       "</table>\n",
       "</div>"
      ],
      "text/plain": [
       "                                       time      tmean       tmax      tmin  \\\n",
       "model init_month zone year month                                              \n",
       "ECMWF 4          1    1993 8     1993-08-01  10.479694  16.949674  6.975128   \n",
       "\n",
       "                                      rain  \n",
       "model init_month zone year month            \n",
       "ECMWF 4          1    1993 8      2.893066  "
      ]
     },
     "execution_count": 325,
     "metadata": {},
     "output_type": "execute_result"
    },
    {
     "data": {
      "text/html": [
       "<div>\n",
       "<style scoped>\n",
       "    .dataframe tbody tr th:only-of-type {\n",
       "        vertical-align: middle;\n",
       "    }\n",
       "\n",
       "    .dataframe tbody tr th {\n",
       "        vertical-align: top;\n",
       "    }\n",
       "\n",
       "    .dataframe thead th {\n",
       "        text-align: right;\n",
       "    }\n",
       "</style>\n",
       "<table border=\"1\" class=\"dataframe\">\n",
       "  <thead>\n",
       "    <tr style=\"text-align: right;\">\n",
       "      <th></th>\n",
       "      <th></th>\n",
       "      <th></th>\n",
       "      <th></th>\n",
       "      <th></th>\n",
       "      <th>time</th>\n",
       "      <th>tmean</th>\n",
       "      <th>tmax</th>\n",
       "      <th>tmin</th>\n",
       "      <th>rain</th>\n",
       "    </tr>\n",
       "    <tr>\n",
       "      <th>model</th>\n",
       "      <th>init_month</th>\n",
       "      <th>zone</th>\n",
       "      <th>year</th>\n",
       "      <th>month</th>\n",
       "      <th></th>\n",
       "      <th></th>\n",
       "      <th></th>\n",
       "      <th></th>\n",
       "      <th></th>\n",
       "    </tr>\n",
       "  </thead>\n",
       "  <tbody>\n",
       "    <tr>\n",
       "      <th>WS</th>\n",
       "      <th>11</th>\n",
       "      <th>1</th>\n",
       "      <th>1993</th>\n",
       "      <th>8</th>\n",
       "      <td>1993-08-01</td>\n",
       "      <td>5.9</td>\n",
       "      <td>9.8</td>\n",
       "      <td>2.0</td>\n",
       "      <td>0.0</td>\n",
       "    </tr>\n",
       "  </tbody>\n",
       "</table>\n",
       "</div>"
      ],
      "text/plain": [
       "                                       time  tmean  tmax  tmin  rain\n",
       "model init_month zone year month                                    \n",
       "WS    11         1    1993 8     1993-08-01    5.9   9.8   2.0   0.0"
      ]
     },
     "execution_count": 325,
     "metadata": {},
     "output_type": "execute_result"
    },
    {
     "data": {
      "text/html": [
       "<div>\n",
       "<style scoped>\n",
       "    .dataframe tbody tr th:only-of-type {\n",
       "        vertical-align: middle;\n",
       "    }\n",
       "\n",
       "    .dataframe tbody tr th {\n",
       "        vertical-align: top;\n",
       "    }\n",
       "\n",
       "    .dataframe thead th {\n",
       "        text-align: right;\n",
       "    }\n",
       "</style>\n",
       "<table border=\"1\" class=\"dataframe\">\n",
       "  <thead>\n",
       "    <tr style=\"text-align: right;\">\n",
       "      <th></th>\n",
       "      <th>zone</th>\n",
       "      <th>month</th>\n",
       "      <th>tmean</th>\n",
       "      <th>tmax</th>\n",
       "      <th>tmin</th>\n",
       "      <th>rain</th>\n",
       "    </tr>\n",
       "  </thead>\n",
       "  <tbody>\n",
       "    <tr>\n",
       "      <th>0</th>\n",
       "      <td>1</td>\n",
       "      <td>8</td>\n",
       "      <td>14.822984</td>\n",
       "      <td>19.842944</td>\n",
       "      <td>9.803024</td>\n",
       "      <td>169.146875</td>\n",
       "    </tr>\n",
       "  </tbody>\n",
       "</table>\n",
       "</div>"
      ],
      "text/plain": [
       "   zone  month      tmean       tmax      tmin        rain\n",
       "0     1      8  14.822984  19.842944  9.803024  169.146875"
      ]
     },
     "execution_count": 325,
     "metadata": {},
     "output_type": "execute_result"
    }
   ],
   "source": [
    "hindcasts = hf.read_raw_model_data() # 1993-2016\n",
    "observations = hf.read_observed_weather() # 1961-2016\n",
    "climatology = hf.create_climatology_data(observations) # 1961-1992\n",
    "\n",
    "observations = observations.loc[(\"WS\", 11, [1, 2, 3, 4], list(range(1993, 2017)))] # 1993-2016\n",
    "\n",
    "hindcasts.head(1)\n",
    "observations.head(1)\n",
    "climatology.head(1)"
   ]
  },
  {
   "cell_type": "markdown",
   "id": "e464a220",
   "metadata": {},
   "source": [
    "## 2. Bias-Adjustment <a name=\"bias_adjustment\"></a>\n",
    "We use Scaled distribution, or [normal mapping](https://hess.copernicus.org/articles/21/2649/2017/), to adjust biases in forecasted daily mean, maximum, and minimum air temperature. We do not apply any bias adjustment to rain forecasts as it did not lead to improvement. We adjust temperature values by *model*, *init_month*, *zone*, and *month* for each year *y* using observations and hindcasts from all other years (Leave-One-Out)."
   ]
  },
  {
   "cell_type": "code",
   "execution_count": 326,
   "id": "dd7a8301",
   "metadata": {},
   "outputs": [],
   "source": [
    "hindcasts_temp_adjusted = hf.adjust_mean_temperature_bias(observations, hindcasts)"
   ]
  },
  {
   "cell_type": "markdown",
   "id": "f9aaab02",
   "metadata": {},
   "source": [
    "## 3. Dataset Completion <a name=\"dataset_completion\"></a>"
   ]
  },
  {
   "cell_type": "markdown",
   "id": "b11dbf57",
   "metadata": {},
   "source": [
    "We need monthly climate features for August, September, and October. Hindcasts that are initialized between April and July cover the entire relevant period. Hindcasts that are initialized later, e.g. in September, need to be supplemented with observations for days that are in the past."
   ]
  },
  {
   "cell_type": "code",
   "execution_count": 327,
   "id": "48b6f8d9",
   "metadata": {},
   "outputs": [],
   "source": [
    "hindcast_complete = hf.fill_missing_dates_with_observations(observations, hindcasts_temp_adjusted) "
   ]
  },
  {
   "cell_type": "markdown",
   "id": "3fdb89fb",
   "metadata": {},
   "source": [
    "Validation that for each *model*, *init_month*, *zone*, and *year* we have the same number of observations: 31 days for Aug + 30 days for Sept + 31 days for Oct."
   ]
  },
  {
   "cell_type": "code",
   "execution_count": 333,
   "id": "bb3e4a05",
   "metadata": {},
   "outputs": [
    {
     "data": {
      "text/plain": [
       "array([92], dtype=int64)"
      ]
     },
     "execution_count": 333,
     "metadata": {},
     "output_type": "execute_result"
    }
   ],
   "source": [
    "hindcast_complete.reset_index().groupby([\"model\", \"init_month\", \"zone\", \"year\"]).size().unique()"
   ]
  },
  {
   "cell_type": "markdown",
   "id": "342e2d98",
   "metadata": {},
   "source": [
    "We concatenate the hindcasted daily values with the fully observed daily values."
   ]
  },
  {
   "cell_type": "code",
   "execution_count": 334,
   "id": "96622aad",
   "metadata": {},
   "outputs": [],
   "source": [
    "climate_records_complete = pd.concat([hindcast_complete, observations]).sort_index()"
   ]
  },
  {
   "cell_type": "markdown",
   "id": "b624d8e3",
   "metadata": {},
   "source": [
    "## 4. Feature Computation <a name=\"feature_computation\"></a>"
   ]
  },
  {
   "cell_type": "markdown",
   "id": "681f6fc2",
   "metadata": {},
   "source": [
    "From the daily values we calculate monthly climate indices."
   ]
  },
  {
   "cell_type": "code",
   "execution_count": 336,
   "id": "505f0242",
   "metadata": {
    "scrolled": false
   },
   "outputs": [
    {
     "data": {
      "text/html": [
       "<div>\n",
       "<style scoped>\n",
       "    .dataframe tbody tr th:only-of-type {\n",
       "        vertical-align: middle;\n",
       "    }\n",
       "\n",
       "    .dataframe tbody tr th {\n",
       "        vertical-align: top;\n",
       "    }\n",
       "\n",
       "    .dataframe thead th {\n",
       "        text-align: right;\n",
       "    }\n",
       "</style>\n",
       "<table border=\"1\" class=\"dataframe\">\n",
       "  <thead>\n",
       "    <tr style=\"text-align: right;\">\n",
       "      <th></th>\n",
       "      <th>model</th>\n",
       "      <th>init_month</th>\n",
       "      <th>zone</th>\n",
       "      <th>year</th>\n",
       "      <th>Tmean_Aug</th>\n",
       "      <th>Tmean_Oct</th>\n",
       "      <th>Tmean_Sep</th>\n",
       "      <th>Tmax_Aug</th>\n",
       "      <th>Tmax_Oct</th>\n",
       "      <th>Tmax_Sep</th>\n",
       "      <th>Tmin_Aug</th>\n",
       "      <th>Tmin_Oct</th>\n",
       "      <th>Tmin_Sep</th>\n",
       "      <th>Rain_Aug</th>\n",
       "      <th>Rain_Oct</th>\n",
       "      <th>Rain_Sep</th>\n",
       "    </tr>\n",
       "  </thead>\n",
       "  <tbody>\n",
       "    <tr>\n",
       "      <th>0</th>\n",
       "      <td>ECMWF</td>\n",
       "      <td>4</td>\n",
       "      <td>1</td>\n",
       "      <td>1993</td>\n",
       "      <td>15.040222</td>\n",
       "      <td>19.010938</td>\n",
       "      <td>16.209916</td>\n",
       "      <td>20.039857</td>\n",
       "      <td>24.260672</td>\n",
       "      <td>21.450856</td>\n",
       "      <td>9.759763</td>\n",
       "      <td>13.868560</td>\n",
       "      <td>11.075681</td>\n",
       "      <td>165.319824</td>\n",
       "      <td>223.339844</td>\n",
       "      <td>177.917481</td>\n",
       "    </tr>\n",
       "    <tr>\n",
       "      <th>1</th>\n",
       "      <td>ECMWF</td>\n",
       "      <td>4</td>\n",
       "      <td>1</td>\n",
       "      <td>1994</td>\n",
       "      <td>15.002814</td>\n",
       "      <td>18.902564</td>\n",
       "      <td>15.642439</td>\n",
       "      <td>20.191541</td>\n",
       "      <td>24.306293</td>\n",
       "      <td>20.695867</td>\n",
       "      <td>9.836017</td>\n",
       "      <td>13.575187</td>\n",
       "      <td>10.604699</td>\n",
       "      <td>168.437500</td>\n",
       "      <td>221.113281</td>\n",
       "      <td>203.830566</td>\n",
       "    </tr>\n",
       "  </tbody>\n",
       "</table>\n",
       "</div>"
      ],
      "text/plain": [
       "   model  init_month  zone  year  Tmean_Aug  Tmean_Oct  Tmean_Sep   Tmax_Aug  \\\n",
       "0  ECMWF           4     1  1993  15.040222  19.010938  16.209916  20.039857   \n",
       "1  ECMWF           4     1  1994  15.002814  18.902564  15.642439  20.191541   \n",
       "\n",
       "    Tmax_Oct   Tmax_Sep  Tmin_Aug   Tmin_Oct   Tmin_Sep    Rain_Aug  \\\n",
       "0  24.260672  21.450856  9.759763  13.868560  11.075681  165.319824   \n",
       "1  24.306293  20.695867  9.836017  13.575187  10.604699  168.437500   \n",
       "\n",
       "     Rain_Oct    Rain_Sep  \n",
       "0  223.339844  177.917481  \n",
       "1  221.113281  203.830566  "
      ]
     },
     "execution_count": 336,
     "metadata": {},
     "output_type": "execute_result"
    }
   ],
   "source": [
    "features_hindcasts_observations = hf.aggregate_data(climate_records_complete)\n",
    "features_hindcasts_observations.head(2)"
   ]
  },
  {
   "cell_type": "markdown",
   "id": "1d1151ea",
   "metadata": {},
   "source": [
    "We include climatology features."
   ]
  },
  {
   "cell_type": "code",
   "execution_count": 343,
   "id": "5e463a30",
   "metadata": {},
   "outputs": [],
   "source": [
    "features_climatology = hf.create_climatology_features(features_hindcasts_observations, climatology)\n",
    "features_complete = (pd\n",
    "                     .concat([features_hindcasts_observations, features_climatology])\n",
    "                     .sort_values([\"model\", \"init_month\", \"zone\", \"year\"])\n",
    "                     .reset_index(drop=True))"
   ]
  },
  {
   "cell_type": "markdown",
   "id": "8b78155a",
   "metadata": {},
   "source": [
    "## 5. Include Yield Data <a name=\"yield_data\"></a>"
   ]
  },
  {
   "cell_type": "markdown",
   "id": "085903ae",
   "metadata": {},
   "source": [
    "We need two datasets: One is detrended yield by group and year because we train seperate models per group. The other one is national yield, extrapolated with harvested area in each group per year. At validation time we will extrapolate the model's estimates with the average harvested area from the two previous years, represented in the dictionary *contributions*."
   ]
  },
  {
   "cell_type": "code",
   "execution_count": 345,
   "id": "a97cf94c",
   "metadata": {},
   "outputs": [],
   "source": [
    "yield_by_group = hf.read_and_detrend_yield_by_group()\n",
    "yield_national, contributions = hf.national_yield(yield_by_group)"
   ]
  },
  {
   "cell_type": "markdown",
   "id": "c9eea9e5",
   "metadata": {},
   "source": [
    "Our final dataset:"
   ]
  },
  {
   "cell_type": "code",
   "execution_count": 346,
   "id": "cf6c0937",
   "metadata": {
    "scrolled": true
   },
   "outputs": [],
   "source": [
    "kfold_cv_dataset = (features_complete\n",
    "                    .merge(yield_by_group.loc[:, [\"zone\", \"year\", \"yield\"]], how=\"left\", on=[\"zone\", \"year\"])\n",
    "                    .dropna()\n",
    "                    .reset_index(drop=True))"
   ]
  },
  {
   "cell_type": "code",
   "execution_count": 347,
   "id": "96ebaac9",
   "metadata": {},
   "outputs": [
    {
     "data": {
      "text/html": [
       "<div>\n",
       "<style scoped>\n",
       "    .dataframe tbody tr th:only-of-type {\n",
       "        vertical-align: middle;\n",
       "    }\n",
       "\n",
       "    .dataframe tbody tr th {\n",
       "        vertical-align: top;\n",
       "    }\n",
       "\n",
       "    .dataframe thead th {\n",
       "        text-align: right;\n",
       "    }\n",
       "</style>\n",
       "<table border=\"1\" class=\"dataframe\">\n",
       "  <thead>\n",
       "    <tr style=\"text-align: right;\">\n",
       "      <th></th>\n",
       "      <th>model</th>\n",
       "      <th>init_month</th>\n",
       "      <th>zone</th>\n",
       "      <th>year</th>\n",
       "      <th>Tmean_Aug</th>\n",
       "      <th>Tmean_Oct</th>\n",
       "      <th>Tmean_Sep</th>\n",
       "      <th>Tmax_Aug</th>\n",
       "      <th>Tmax_Oct</th>\n",
       "      <th>Tmax_Sep</th>\n",
       "      <th>Tmin_Aug</th>\n",
       "      <th>Tmin_Oct</th>\n",
       "      <th>Tmin_Sep</th>\n",
       "      <th>Rain_Aug</th>\n",
       "      <th>Rain_Oct</th>\n",
       "      <th>Rain_Sep</th>\n",
       "      <th>yield</th>\n",
       "    </tr>\n",
       "  </thead>\n",
       "  <tbody>\n",
       "    <tr>\n",
       "      <th>0</th>\n",
       "      <td>CLIMATE</td>\n",
       "      <td>4</td>\n",
       "      <td>1</td>\n",
       "      <td>1993</td>\n",
       "      <td>14.822984</td>\n",
       "      <td>18.450806</td>\n",
       "      <td>16.151771</td>\n",
       "      <td>19.842944</td>\n",
       "      <td>23.962802</td>\n",
       "      <td>21.249271</td>\n",
       "      <td>9.803024</td>\n",
       "      <td>12.938810</td>\n",
       "      <td>11.054271</td>\n",
       "      <td>169.146875</td>\n",
       "      <td>166.11875</td>\n",
       "      <td>201.215625</td>\n",
       "      <td>2635.161451</td>\n",
       "    </tr>\n",
       "    <tr>\n",
       "      <th>1</th>\n",
       "      <td>CLIMATE</td>\n",
       "      <td>4</td>\n",
       "      <td>1</td>\n",
       "      <td>1994</td>\n",
       "      <td>14.822984</td>\n",
       "      <td>18.450806</td>\n",
       "      <td>16.151771</td>\n",
       "      <td>19.842944</td>\n",
       "      <td>23.962802</td>\n",
       "      <td>21.249271</td>\n",
       "      <td>9.803024</td>\n",
       "      <td>12.938810</td>\n",
       "      <td>11.054271</td>\n",
       "      <td>169.146875</td>\n",
       "      <td>166.11875</td>\n",
       "      <td>201.215625</td>\n",
       "      <td>2546.296900</td>\n",
       "    </tr>\n",
       "    <tr>\n",
       "      <th>2</th>\n",
       "      <td>CLIMATE</td>\n",
       "      <td>4</td>\n",
       "      <td>1</td>\n",
       "      <td>1995</td>\n",
       "      <td>14.822984</td>\n",
       "      <td>18.450806</td>\n",
       "      <td>16.151771</td>\n",
       "      <td>19.842944</td>\n",
       "      <td>23.962802</td>\n",
       "      <td>21.249271</td>\n",
       "      <td>9.803024</td>\n",
       "      <td>12.938810</td>\n",
       "      <td>11.054271</td>\n",
       "      <td>169.146875</td>\n",
       "      <td>166.11875</td>\n",
       "      <td>201.215625</td>\n",
       "      <td>2367.475079</td>\n",
       "    </tr>\n",
       "    <tr>\n",
       "      <th>3</th>\n",
       "      <td>CLIMATE</td>\n",
       "      <td>4</td>\n",
       "      <td>1</td>\n",
       "      <td>1996</td>\n",
       "      <td>14.822984</td>\n",
       "      <td>18.450806</td>\n",
       "      <td>16.151771</td>\n",
       "      <td>19.842944</td>\n",
       "      <td>23.962802</td>\n",
       "      <td>21.249271</td>\n",
       "      <td>9.803024</td>\n",
       "      <td>12.938810</td>\n",
       "      <td>11.054271</td>\n",
       "      <td>169.146875</td>\n",
       "      <td>166.11875</td>\n",
       "      <td>201.215625</td>\n",
       "      <td>2627.139865</td>\n",
       "    </tr>\n",
       "    <tr>\n",
       "      <th>4</th>\n",
       "      <td>CLIMATE</td>\n",
       "      <td>4</td>\n",
       "      <td>1</td>\n",
       "      <td>1997</td>\n",
       "      <td>14.822984</td>\n",
       "      <td>18.450806</td>\n",
       "      <td>16.151771</td>\n",
       "      <td>19.842944</td>\n",
       "      <td>23.962802</td>\n",
       "      <td>21.249271</td>\n",
       "      <td>9.803024</td>\n",
       "      <td>12.938810</td>\n",
       "      <td>11.054271</td>\n",
       "      <td>169.146875</td>\n",
       "      <td>166.11875</td>\n",
       "      <td>201.215625</td>\n",
       "      <td>2195.510008</td>\n",
       "    </tr>\n",
       "    <tr>\n",
       "      <th>...</th>\n",
       "      <td>...</td>\n",
       "      <td>...</td>\n",
       "      <td>...</td>\n",
       "      <td>...</td>\n",
       "      <td>...</td>\n",
       "      <td>...</td>\n",
       "      <td>...</td>\n",
       "      <td>...</td>\n",
       "      <td>...</td>\n",
       "      <td>...</td>\n",
       "      <td>...</td>\n",
       "      <td>...</td>\n",
       "      <td>...</td>\n",
       "      <td>...</td>\n",
       "      <td>...</td>\n",
       "      <td>...</td>\n",
       "      <td>...</td>\n",
       "    </tr>\n",
       "    <tr>\n",
       "      <th>3931</th>\n",
       "      <td>WS</td>\n",
       "      <td>11</td>\n",
       "      <td>4</td>\n",
       "      <td>2012</td>\n",
       "      <td>17.674717</td>\n",
       "      <td>18.927124</td>\n",
       "      <td>17.169105</td>\n",
       "      <td>22.906426</td>\n",
       "      <td>23.971266</td>\n",
       "      <td>23.152272</td>\n",
       "      <td>12.443007</td>\n",
       "      <td>13.882981</td>\n",
       "      <td>11.185937</td>\n",
       "      <td>5.600000</td>\n",
       "      <td>164.40000</td>\n",
       "      <td>71.300000</td>\n",
       "      <td>2553.826573</td>\n",
       "    </tr>\n",
       "    <tr>\n",
       "      <th>3932</th>\n",
       "      <td>WS</td>\n",
       "      <td>11</td>\n",
       "      <td>4</td>\n",
       "      <td>2013</td>\n",
       "      <td>14.753155</td>\n",
       "      <td>17.769090</td>\n",
       "      <td>16.648222</td>\n",
       "      <td>20.882249</td>\n",
       "      <td>23.249923</td>\n",
       "      <td>22.224340</td>\n",
       "      <td>8.624060</td>\n",
       "      <td>12.288256</td>\n",
       "      <td>11.072103</td>\n",
       "      <td>30.800000</td>\n",
       "      <td>114.90000</td>\n",
       "      <td>180.700000</td>\n",
       "      <td>3101.364082</td>\n",
       "    </tr>\n",
       "    <tr>\n",
       "      <th>3933</th>\n",
       "      <td>WS</td>\n",
       "      <td>11</td>\n",
       "      <td>4</td>\n",
       "      <td>2014</td>\n",
       "      <td>16.438710</td>\n",
       "      <td>22.237097</td>\n",
       "      <td>18.210000</td>\n",
       "      <td>22.709677</td>\n",
       "      <td>28.983871</td>\n",
       "      <td>23.510000</td>\n",
       "      <td>10.167742</td>\n",
       "      <td>15.490323</td>\n",
       "      <td>12.910000</td>\n",
       "      <td>95.000000</td>\n",
       "      <td>35.60000</td>\n",
       "      <td>167.000000</td>\n",
       "      <td>2687.223228</td>\n",
       "    </tr>\n",
       "    <tr>\n",
       "      <th>3934</th>\n",
       "      <td>WS</td>\n",
       "      <td>11</td>\n",
       "      <td>4</td>\n",
       "      <td>2015</td>\n",
       "      <td>17.391935</td>\n",
       "      <td>20.148387</td>\n",
       "      <td>20.775000</td>\n",
       "      <td>23.500000</td>\n",
       "      <td>24.858065</td>\n",
       "      <td>27.126667</td>\n",
       "      <td>11.283871</td>\n",
       "      <td>15.438710</td>\n",
       "      <td>14.423333</td>\n",
       "      <td>34.600000</td>\n",
       "      <td>176.60000</td>\n",
       "      <td>131.200000</td>\n",
       "      <td>2118.778281</td>\n",
       "    </tr>\n",
       "    <tr>\n",
       "      <th>3935</th>\n",
       "      <td>WS</td>\n",
       "      <td>11</td>\n",
       "      <td>4</td>\n",
       "      <td>2016</td>\n",
       "      <td>14.746774</td>\n",
       "      <td>20.164516</td>\n",
       "      <td>17.261667</td>\n",
       "      <td>20.703226</td>\n",
       "      <td>25.519355</td>\n",
       "      <td>23.490000</td>\n",
       "      <td>8.790323</td>\n",
       "      <td>14.809677</td>\n",
       "      <td>11.033333</td>\n",
       "      <td>161.800000</td>\n",
       "      <td>257.00000</td>\n",
       "      <td>57.600000</td>\n",
       "      <td>3273.198830</td>\n",
       "    </tr>\n",
       "  </tbody>\n",
       "</table>\n",
       "<p>3936 rows × 17 columns</p>\n",
       "</div>"
      ],
      "text/plain": [
       "        model  init_month  zone  year  Tmean_Aug  Tmean_Oct  Tmean_Sep  \\\n",
       "0     CLIMATE           4     1  1993  14.822984  18.450806  16.151771   \n",
       "1     CLIMATE           4     1  1994  14.822984  18.450806  16.151771   \n",
       "2     CLIMATE           4     1  1995  14.822984  18.450806  16.151771   \n",
       "3     CLIMATE           4     1  1996  14.822984  18.450806  16.151771   \n",
       "4     CLIMATE           4     1  1997  14.822984  18.450806  16.151771   \n",
       "...       ...         ...   ...   ...        ...        ...        ...   \n",
       "3931       WS          11     4  2012  17.674717  18.927124  17.169105   \n",
       "3932       WS          11     4  2013  14.753155  17.769090  16.648222   \n",
       "3933       WS          11     4  2014  16.438710  22.237097  18.210000   \n",
       "3934       WS          11     4  2015  17.391935  20.148387  20.775000   \n",
       "3935       WS          11     4  2016  14.746774  20.164516  17.261667   \n",
       "\n",
       "       Tmax_Aug   Tmax_Oct   Tmax_Sep   Tmin_Aug   Tmin_Oct   Tmin_Sep  \\\n",
       "0     19.842944  23.962802  21.249271   9.803024  12.938810  11.054271   \n",
       "1     19.842944  23.962802  21.249271   9.803024  12.938810  11.054271   \n",
       "2     19.842944  23.962802  21.249271   9.803024  12.938810  11.054271   \n",
       "3     19.842944  23.962802  21.249271   9.803024  12.938810  11.054271   \n",
       "4     19.842944  23.962802  21.249271   9.803024  12.938810  11.054271   \n",
       "...         ...        ...        ...        ...        ...        ...   \n",
       "3931  22.906426  23.971266  23.152272  12.443007  13.882981  11.185937   \n",
       "3932  20.882249  23.249923  22.224340   8.624060  12.288256  11.072103   \n",
       "3933  22.709677  28.983871  23.510000  10.167742  15.490323  12.910000   \n",
       "3934  23.500000  24.858065  27.126667  11.283871  15.438710  14.423333   \n",
       "3935  20.703226  25.519355  23.490000   8.790323  14.809677  11.033333   \n",
       "\n",
       "        Rain_Aug   Rain_Oct    Rain_Sep        yield  \n",
       "0     169.146875  166.11875  201.215625  2635.161451  \n",
       "1     169.146875  166.11875  201.215625  2546.296900  \n",
       "2     169.146875  166.11875  201.215625  2367.475079  \n",
       "3     169.146875  166.11875  201.215625  2627.139865  \n",
       "4     169.146875  166.11875  201.215625  2195.510008  \n",
       "...          ...        ...         ...          ...  \n",
       "3931    5.600000  164.40000   71.300000  2553.826573  \n",
       "3932   30.800000  114.90000  180.700000  3101.364082  \n",
       "3933   95.000000   35.60000  167.000000  2687.223228  \n",
       "3934   34.600000  176.60000  131.200000  2118.778281  \n",
       "3935  161.800000  257.00000   57.600000  3273.198830  \n",
       "\n",
       "[3936 rows x 17 columns]"
      ]
     },
     "execution_count": 347,
     "metadata": {},
     "output_type": "execute_result"
    }
   ],
   "source": [
    "kfold_cv_dataset"
   ]
  },
  {
   "cell_type": "code",
   "execution_count": 318,
   "id": "cce6103c",
   "metadata": {},
   "outputs": [],
   "source": [
    "#kfold_cv_dataset = pd.read_csv(\"kfold_cv_dataset.csv\")"
   ]
  },
  {
   "cell_type": "markdown",
   "id": "7a0e3f80",
   "metadata": {},
   "source": [
    "## 6. K-Fold Cross Validation <a name=\"cross_validation\"><a/>"
   ]
  },
  {
   "cell_type": "code",
   "execution_count": 351,
   "id": "4b353d41",
   "metadata": {},
   "outputs": [],
   "source": [
    "models = [\"ECMWF\", \"NCEP\", \"UKMO\", \"MME\", \"CLIMATE\", \"WS\"]\n",
    "init_months = list(range(4,12))\n",
    "results = pd.DataFrame(0, index=models, columns=init_months)\n",
    "for im in init_months:\n",
    "    for model in models:\n",
    "        res = hf.kfold_cross_validation(kfold_cv_dataset, yield_national, contributions, model=model, init=im)\n",
    "        results.loc[model, im] = np.round(100 * mse(res[\"yield\"], res[\"predicted\"], squared=False)/res[\"yield\"].mean(), 2)\n",
    "        #pearson_r = pearsonr(res[\"yield\"], res[\"predicted\"])[0]\n",
    "        #if pearson_r < 0: pearson_r = 0\n",
    "        #results.loc[model, im] = np.round(100 * pearson_r, 2)"
   ]
  },
  {
   "cell_type": "code",
   "execution_count": 352,
   "id": "00643f3b",
   "metadata": {},
   "outputs": [
    {
     "data": {
      "text/plain": [
       "<AxesSubplot:>"
      ]
     },
     "execution_count": 352,
     "metadata": {},
     "output_type": "execute_result"
    },
    {
     "data": {
      "image/png": "[encoded data removed]",
      "text/plain": [
       "<Figure size 432x288 with 1 Axes>"
      ]
     },
     "metadata": {
      "needs_background": "light"
     },
     "output_type": "display_data"
    }
   ],
   "source": [
    "results.transpose().plot()"
   ]
  },
  {
   "cell_type": "code",
   "execution_count": null,
   "id": "de90b83c",
   "metadata": {},
   "outputs": [],
   "source": []
  }
 ],
 "metadata": {
  "kernelspec": {
   "display_name": "Python 3 (ipykernel)",
   "language": "python",
   "name": "python3"
  },
  "language_info": {
   "codemirror_mode": {
    "name": "ipython",
    "version": 3
   },
   "file_extension": ".py",
   "mimetype": "text/x-python",
   "name": "python",
   "nbconvert_exporter": "python",
   "pygments_lexer": "ipython3",
   "version": "3.9.12"
  }
 },
 "nbformat": 4,
 "nbformat_minor": 5
}
