{
 "cells": [
  {
   "cell_type": "code",
   "execution_count": 114,
   "id": "26de6ba5",
   "metadata": {},
   "outputs": [
    {
     "name": "stdout",
     "output_type": "stream",
     "text": [
      "The autoreload extension is already loaded. To reload it, use:\n",
      "  %reload_ext autoreload\n"
     ]
    }
   ],
   "source": [
    "# Libraries\n",
    "import warnings\n",
    "import numpy as np\n",
    "import pandas as pd\n",
    "import seaborn as sns\n",
    "import helperfunctions as hf\n",
    "import matplotlib.pyplot as plt\n",
    "from scipy.stats import pearsonr\n",
    "from sklearn.pipeline import Pipeline\n",
    "from sklearn.preprocessing import StandardScaler\n",
    "from sklearn.metrics import mean_squared_error as mse\n",
    "from sklearn.linear_model import LinearRegression, Ridge\n",
    "from sklearn.feature_selection import SelectKBest, f_regression, VarianceThreshold\n",
    "from IPython.core.interactiveshell import InteractiveShell\n",
    "\n",
    "# Notebook Settings \n",
    "warnings.simplefilter(action='ignore', category=FutureWarning)\n",
    "warnings.filterwarnings(\"error\")\n",
    "pd.set_option('display.max_columns', 500)\n",
    "InteractiveShell.ast_node_interactivity = \"all\"\n",
    "%load_ext autoreload\n",
    "%autoreload 2\n",
    "\n",
    "# Variables\n",
    "crop_seasons = list(range(1993,2017))\n",
    "months_of_crop_season = list(range(7,11))\n",
    "homogeneous_groups = list(range(1,5))"
   ]
  },
  {
   "cell_type": "markdown",
   "id": "2d1ef0eb",
   "metadata": {},
   "source": [
    "## Content\n",
    "* [1. Read Data](#read_data)\n",
    "* [2. Bias-Adjustment](#bias_adjustment)\n",
    "* [3. Dataset Completion](#dataset_completion)\n",
    "* [4. Feature Computation](#feature_computation)\n",
    "* [5. Include Yield Data](#yield_data)\n",
    "* [6. K-Fold Cross Validation](#cross_validation)"
   ]
  },
  {
   "cell_type": "markdown",
   "id": "f00b2ffb",
   "metadata": {},
   "source": [
    "## 1. Read Data <a name=\"read_data\"></a>"
   ]
  },
  {
   "cell_type": "markdown",
   "id": "983e8257",
   "metadata": {},
   "source": [
    "Our approach requires three sources of climate data: seasonal climate models, observations, and climatology."
   ]
  },
  {
   "cell_type": "code",
   "execution_count": 115,
   "id": "0fd0f701",
   "metadata": {},
   "outputs": [
    {
     "data": {
      "text/html": [
       "<div>\n",
       "<style scoped>\n",
       "    .dataframe tbody tr th:only-of-type {\n",
       "        vertical-align: middle;\n",
       "    }\n",
       "\n",
       "    .dataframe tbody tr th {\n",
       "        vertical-align: top;\n",
       "    }\n",
       "\n",
       "    .dataframe thead th {\n",
       "        text-align: right;\n",
       "    }\n",
       "</style>\n",
       "<table border=\"1\" class=\"dataframe\">\n",
       "  <thead>\n",
       "    <tr style=\"text-align: right;\">\n",
       "      <th></th>\n",
       "      <th></th>\n",
       "      <th></th>\n",
       "      <th></th>\n",
       "      <th></th>\n",
       "      <th>time</th>\n",
       "      <th>tmean</th>\n",
       "      <th>tmax</th>\n",
       "      <th>tmin</th>\n",
       "      <th>rain</th>\n",
       "    </tr>\n",
       "    <tr>\n",
       "      <th>model</th>\n",
       "      <th>init_month</th>\n",
       "      <th>zone</th>\n",
       "      <th>year</th>\n",
       "      <th>month</th>\n",
       "      <th></th>\n",
       "      <th></th>\n",
       "      <th></th>\n",
       "      <th></th>\n",
       "      <th></th>\n",
       "    </tr>\n",
       "  </thead>\n",
       "  <tbody>\n",
       "    <tr>\n",
       "      <th>ECMWF</th>\n",
       "      <th>4</th>\n",
       "      <th>1</th>\n",
       "      <th>1993</th>\n",
       "      <th>8</th>\n",
       "      <td>1993-08-01</td>\n",
       "      <td>10.479694</td>\n",
       "      <td>16.949674</td>\n",
       "      <td>6.975128</td>\n",
       "      <td>2.893066</td>\n",
       "    </tr>\n",
       "  </tbody>\n",
       "</table>\n",
       "</div>"
      ],
      "text/plain": [
       "                                       time      tmean       tmax      tmin  \\\n",
       "model init_month zone year month                                              \n",
       "ECMWF 4          1    1993 8     1993-08-01  10.479694  16.949674  6.975128   \n",
       "\n",
       "                                      rain  \n",
       "model init_month zone year month            \n",
       "ECMWF 4          1    1993 8      2.893066  "
      ]
     },
     "execution_count": 115,
     "metadata": {},
     "output_type": "execute_result"
    },
    {
     "data": {
      "text/html": [
       "<div>\n",
       "<style scoped>\n",
       "    .dataframe tbody tr th:only-of-type {\n",
       "        vertical-align: middle;\n",
       "    }\n",
       "\n",
       "    .dataframe tbody tr th {\n",
       "        vertical-align: top;\n",
       "    }\n",
       "\n",
       "    .dataframe thead th {\n",
       "        text-align: right;\n",
       "    }\n",
       "</style>\n",
       "<table border=\"1\" class=\"dataframe\">\n",
       "  <thead>\n",
       "    <tr style=\"text-align: right;\">\n",
       "      <th></th>\n",
       "      <th></th>\n",
       "      <th></th>\n",
       "      <th></th>\n",
       "      <th></th>\n",
       "      <th>time</th>\n",
       "      <th>tmean</th>\n",
       "      <th>tmax</th>\n",
       "      <th>tmin</th>\n",
       "      <th>rain</th>\n",
       "    </tr>\n",
       "    <tr>\n",
       "      <th>model</th>\n",
       "      <th>init_month</th>\n",
       "      <th>zone</th>\n",
       "      <th>year</th>\n",
       "      <th>month</th>\n",
       "      <th></th>\n",
       "      <th></th>\n",
       "      <th></th>\n",
       "      <th></th>\n",
       "      <th></th>\n",
       "    </tr>\n",
       "  </thead>\n",
       "  <tbody>\n",
       "    <tr>\n",
       "      <th>WS</th>\n",
       "      <th>11</th>\n",
       "      <th>1</th>\n",
       "      <th>1993</th>\n",
       "      <th>8</th>\n",
       "      <td>1993-08-01</td>\n",
       "      <td>5.9</td>\n",
       "      <td>9.8</td>\n",
       "      <td>2.0</td>\n",
       "      <td>0.0</td>\n",
       "    </tr>\n",
       "  </tbody>\n",
       "</table>\n",
       "</div>"
      ],
      "text/plain": [
       "                                       time  tmean  tmax  tmin  rain\n",
       "model init_month zone year month                                    \n",
       "WS    11         1    1993 8     1993-08-01    5.9   9.8   2.0   0.0"
      ]
     },
     "execution_count": 115,
     "metadata": {},
     "output_type": "execute_result"
    },
    {
     "data": {
      "text/html": [
       "<div>\n",
       "<style scoped>\n",
       "    .dataframe tbody tr th:only-of-type {\n",
       "        vertical-align: middle;\n",
       "    }\n",
       "\n",
       "    .dataframe tbody tr th {\n",
       "        vertical-align: top;\n",
       "    }\n",
       "\n",
       "    .dataframe thead th {\n",
       "        text-align: right;\n",
       "    }\n",
       "</style>\n",
       "<table border=\"1\" class=\"dataframe\">\n",
       "  <thead>\n",
       "    <tr style=\"text-align: right;\">\n",
       "      <th></th>\n",
       "      <th>zone</th>\n",
       "      <th>month</th>\n",
       "      <th>tmean</th>\n",
       "      <th>tmax</th>\n",
       "      <th>tmin</th>\n",
       "      <th>rain</th>\n",
       "    </tr>\n",
       "  </thead>\n",
       "  <tbody>\n",
       "    <tr>\n",
       "      <th>0</th>\n",
       "      <td>1</td>\n",
       "      <td>8</td>\n",
       "      <td>14.822984</td>\n",
       "      <td>19.842944</td>\n",
       "      <td>9.803024</td>\n",
       "      <td>169.146875</td>\n",
       "    </tr>\n",
       "  </tbody>\n",
       "</table>\n",
       "</div>"
      ],
      "text/plain": [
       "   zone  month      tmean       tmax      tmin        rain\n",
       "0     1      8  14.822984  19.842944  9.803024  169.146875"
      ]
     },
     "execution_count": 115,
     "metadata": {},
     "output_type": "execute_result"
    }
   ],
   "source": [
    "hindcasts = hf.read_raw_model_data() # 1993-2016\n",
    "observations = hf.read_observed_weather() # 1961-2016\n",
    "climatology = hf.create_climatology_data(observations) # 1961-1992\n",
    "\n",
    "observations = observations.loc[(\"WS\", 11, [1, 2, 3, 4], list(range(1993, 2017)))] # 1993-2016\n",
    "\n",
    "hindcasts.head(1)\n",
    "observations.head(1)\n",
    "climatology.head(1)"
   ]
  },
  {
   "cell_type": "markdown",
   "id": "e464a220",
   "metadata": {},
   "source": [
    "## 2. Bias-Adjustment <a name=\"bias_adjustment\"></a>\n",
    "We use [scaled (normal) distribution mapping](https://hess.copernicus.org/articles/21/2649/2017/), to adjust biases in forecasted daily mean, maximum, and minimum air temperature. We do not apply any bias adjustment to rain forecasts as it did not lead to improvements in mean absolut error. We adjust temperature values by *model*, *init_month*, *zone*, and *month* for each year *y* using observations and hindcasts from all other years (Leave-One-Out)."
   ]
  },
  {
   "cell_type": "code",
   "execution_count": 118,
   "id": "dd7a8301",
   "metadata": {},
   "outputs": [],
   "source": [
    "hindcasts_temp_adjusted = hf.adjust_mean_temperature_bias(observations, hindcasts)"
   ]
  },
  {
   "cell_type": "markdown",
   "id": "f9aaab02",
   "metadata": {},
   "source": [
    "## 3. Dataset Completion <a name=\"dataset_completion\"></a>"
   ]
  },
  {
   "cell_type": "markdown",
   "id": "b11dbf57",
   "metadata": {},
   "source": [
    "We need monthly climate features for August, September, and October. Hindcasts that are initialized between April and July cover the entire relevant period. Hindcasts that are initialized later, e.g. in September, need to be supplemented with observations for days that are in the past."
   ]
  },
  {
   "cell_type": "code",
   "execution_count": 119,
   "id": "48b6f8d9",
   "metadata": {},
   "outputs": [],
   "source": [
    "hindcast_complete = hf.fill_missing_dates_with_observations(observations, hindcasts_temp_adjusted) "
   ]
  },
  {
   "cell_type": "markdown",
   "id": "3fdb89fb",
   "metadata": {},
   "source": [
    "Validation that for each *model*, *init_month*, *zone*, and *year* we have the same number of observations: 31 days for Aug + 30 days for Sept + 31 days for Oct."
   ]
  },
  {
   "cell_type": "code",
   "execution_count": 120,
   "id": "bb3e4a05",
   "metadata": {},
   "outputs": [
    {
     "data": {
      "text/plain": [
       "array([92], dtype=int64)"
      ]
     },
     "execution_count": 120,
     "metadata": {},
     "output_type": "execute_result"
    }
   ],
   "source": [
    "hindcast_complete.reset_index().groupby([\"model\", \"init_month\", \"zone\", \"year\"]).size().unique()"
   ]
  },
  {
   "cell_type": "markdown",
   "id": "342e2d98",
   "metadata": {},
   "source": [
    "We concatenate the hindcasted daily values with the fully observed daily values."
   ]
  },
  {
   "cell_type": "code",
   "execution_count": 121,
   "id": "96622aad",
   "metadata": {},
   "outputs": [],
   "source": [
    "climate_records_complete = pd.concat([hindcast_complete, observations]).sort_index()"
   ]
  },
  {
   "cell_type": "markdown",
   "id": "b624d8e3",
   "metadata": {},
   "source": [
    "## 4. Feature Computation <a name=\"feature_computation\"></a>"
   ]
  },
  {
   "cell_type": "markdown",
   "id": "681f6fc2",
   "metadata": {},
   "source": [
    "From the daily values we calculate monthly climate indices."
   ]
  },
  {
   "cell_type": "code",
   "execution_count": 122,
   "id": "505f0242",
   "metadata": {
    "scrolled": false
   },
   "outputs": [
    {
     "data": {
      "text/html": [
       "<div>\n",
       "<style scoped>\n",
       "    .dataframe tbody tr th:only-of-type {\n",
       "        vertical-align: middle;\n",
       "    }\n",
       "\n",
       "    .dataframe tbody tr th {\n",
       "        vertical-align: top;\n",
       "    }\n",
       "\n",
       "    .dataframe thead th {\n",
       "        text-align: right;\n",
       "    }\n",
       "</style>\n",
       "<table border=\"1\" class=\"dataframe\">\n",
       "  <thead>\n",
       "    <tr style=\"text-align: right;\">\n",
       "      <th></th>\n",
       "      <th>model</th>\n",
       "      <th>init_month</th>\n",
       "      <th>zone</th>\n",
       "      <th>year</th>\n",
       "      <th>Tmean_Aug</th>\n",
       "      <th>Tmean_Oct</th>\n",
       "      <th>Tmean_Sep</th>\n",
       "      <th>Tmax_Aug</th>\n",
       "      <th>Tmax_Oct</th>\n",
       "      <th>Tmax_Sep</th>\n",
       "      <th>Tmin_Aug</th>\n",
       "      <th>Tmin_Oct</th>\n",
       "      <th>Tmin_Sep</th>\n",
       "      <th>Rain_Aug</th>\n",
       "      <th>Rain_Oct</th>\n",
       "      <th>Rain_Sep</th>\n",
       "    </tr>\n",
       "  </thead>\n",
       "  <tbody>\n",
       "    <tr>\n",
       "      <th>0</th>\n",
       "      <td>ECMWF</td>\n",
       "      <td>4</td>\n",
       "      <td>1</td>\n",
       "      <td>1993</td>\n",
       "      <td>15.056569</td>\n",
       "      <td>19.002330</td>\n",
       "      <td>16.206275</td>\n",
       "      <td>20.066604</td>\n",
       "      <td>24.250512</td>\n",
       "      <td>21.442299</td>\n",
       "      <td>9.777410</td>\n",
       "      <td>13.857031</td>\n",
       "      <td>11.072509</td>\n",
       "      <td>165.319824</td>\n",
       "      <td>223.339844</td>\n",
       "      <td>177.917481</td>\n",
       "    </tr>\n",
       "    <tr>\n",
       "      <th>1</th>\n",
       "      <td>ECMWF</td>\n",
       "      <td>4</td>\n",
       "      <td>1</td>\n",
       "      <td>1994</td>\n",
       "      <td>15.019860</td>\n",
       "      <td>18.899465</td>\n",
       "      <td>15.657911</td>\n",
       "      <td>20.211710</td>\n",
       "      <td>24.296008</td>\n",
       "      <td>20.712760</td>\n",
       "      <td>9.849027</td>\n",
       "      <td>13.576093</td>\n",
       "      <td>10.618096</td>\n",
       "      <td>168.437500</td>\n",
       "      <td>221.113281</td>\n",
       "      <td>203.830566</td>\n",
       "    </tr>\n",
       "  </tbody>\n",
       "</table>\n",
       "</div>"
      ],
      "text/plain": [
       "   model  init_month  zone  year  Tmean_Aug  Tmean_Oct  Tmean_Sep   Tmax_Aug  \\\n",
       "0  ECMWF           4     1  1993  15.056569  19.002330  16.206275  20.066604   \n",
       "1  ECMWF           4     1  1994  15.019860  18.899465  15.657911  20.211710   \n",
       "\n",
       "    Tmax_Oct   Tmax_Sep  Tmin_Aug   Tmin_Oct   Tmin_Sep    Rain_Aug  \\\n",
       "0  24.250512  21.442299  9.777410  13.857031  11.072509  165.319824   \n",
       "1  24.296008  20.712760  9.849027  13.576093  10.618096  168.437500   \n",
       "\n",
       "     Rain_Oct    Rain_Sep  \n",
       "0  223.339844  177.917481  \n",
       "1  221.113281  203.830566  "
      ]
     },
     "execution_count": 122,
     "metadata": {},
     "output_type": "execute_result"
    }
   ],
   "source": [
    "features_hindcasts_observations = hf.aggregate_data(climate_records_complete)\n",
    "features_hindcasts_observations.head(2)"
   ]
  },
  {
   "cell_type": "markdown",
   "id": "1d1151ea",
   "metadata": {},
   "source": [
    "We include climatology features."
   ]
  },
  {
   "cell_type": "code",
   "execution_count": 124,
   "id": "5e463a30",
   "metadata": {},
   "outputs": [],
   "source": [
    "features_climatology = hf.create_climatology_features(features_hindcasts_observations, climatology)\n",
    "features_complete = (pd\n",
    "                     .concat([features_hindcasts_observations, features_climatology])\n",
    "                     .sort_values([\"model\", \"init_month\", \"zone\", \"year\"])\n",
    "                     .drop_duplicates()\n",
    "                     .reset_index(drop=True))"
   ]
  },
  {
   "cell_type": "markdown",
   "id": "8b78155a",
   "metadata": {},
   "source": [
    "## 5. Include Yield Data <a name=\"yield_data\"></a>"
   ]
  },
  {
   "cell_type": "markdown",
   "id": "085903ae",
   "metadata": {},
   "source": [
    "We need two datasets: One is detrended yield by group and year because we train seperate models per group. The other one is national yield, extrapolated with harvested area in each group per year. At validation time we will extrapolate the model's estimates with the average harvested area from the two previous years, represented in the dictionary *contributions*."
   ]
  },
  {
   "cell_type": "code",
   "execution_count": 125,
   "id": "2a904768",
   "metadata": {},
   "outputs": [],
   "source": [
    "yield_national, yield_by_group, contributions = hf.get_yield_and_ha_data()"
   ]
  },
  {
   "cell_type": "markdown",
   "id": "c9eea9e5",
   "metadata": {},
   "source": [
    "Our final dataset:"
   ]
  },
  {
   "cell_type": "code",
   "execution_count": 130,
   "id": "cf6c0937",
   "metadata": {
    "scrolled": true
   },
   "outputs": [],
   "source": [
    "kfold_cv_dataset = (features_complete\n",
    "                    .merge(yield_by_group.loc[:, [\"zone\", \"year\", \"yield\"]], how=\"left\", on=[\"zone\", \"year\"])\n",
    "                    .dropna()\n",
    "                    .reset_index(drop=True))"
   ]
  },
  {
   "cell_type": "markdown",
   "id": "1ce33235",
   "metadata": {},
   "source": [
    "## 6. Analyse Multicorrelation "
   ]
  },
  {
   "cell_type": "code",
   "execution_count": 131,
   "id": "06f7bd71",
   "metadata": {},
   "outputs": [
    {
     "name": "stdout",
     "output_type": "stream",
     "text": [
      "['Tmax_Aug', 'Tmax_Oct', 'Tmax_Sep', 'Tmin_Aug', 'Tmin_Oct', 'Tmin_Sep']\n",
      "     model  init_month  zone  year  Tmean_Aug  Tmean_Oct  Tmean_Sep  \\\n",
      "0  CLIMATE           4     1  1993  14.822984  18.450806  16.151771   \n",
      "1  CLIMATE           4     1  1994  14.822984  18.450806  16.151771   \n",
      "2  CLIMATE           4     1  1995  14.822984  18.450806  16.151771   \n",
      "3  CLIMATE           4     1  1996  14.822984  18.450806  16.151771   \n",
      "4  CLIMATE           4     1  1997  14.822984  18.450806  16.151771   \n",
      "\n",
      "     Rain_Aug   Rain_Oct    Rain_Sep        yield  \n",
      "0  169.146875  166.11875  201.215625  2729.050635  \n",
      "1  169.146875  166.11875  201.215625  2607.247149  \n",
      "2  169.146875  166.11875  201.215625  2384.833663  \n",
      "3  169.146875  166.11875  201.215625  2753.260177  \n",
      "4  169.146875  166.11875  201.215625  2307.146691  \n"
     ]
    }
   ],
   "source": [
    "variables = ['Tmean_Aug', 'Tmean_Oct', 'Tmean_Sep', 'Tmax_Aug', 'Tmax_Oct', 'Tmax_Sep', \n",
    "             'Tmin_Aug', 'Tmin_Oct', 'Tmin_Sep', 'Rain_Aug', 'Rain_Oct', 'Rain_Sep']\n",
    "values = kfold_cv_dataset.loc[(kfold_cv_dataset[\"model\"] == \"WS\"), variables]\n",
    "cor_matrix = values.corr().abs().round(2)\n",
    "upper_tri = cor_matrix.where(np.triu(np.ones(cor_matrix.shape),k=1).astype(bool))\n",
    "to_drop = [column for column in upper_tri.columns if any(upper_tri[column] > 0.9)]\n",
    "print(to_drop)\n",
    "\n",
    "kfold_cv_dataset = kfold_cv_dataset.drop(to_drop, axis=1)"
   ]
  },
  {
   "cell_type": "markdown",
   "id": "7a0e3f80",
   "metadata": {},
   "source": [
    "## 7. K-Fold Cross Validation <a name=\"cross_validation\"><a/>"
   ]
  },
  {
   "cell_type": "code",
   "execution_count": 173,
   "id": "4b353d41",
   "metadata": {},
   "outputs": [],
   "source": [
    "models = [\"ECMWF\", \"NCEP\", \"UKMO\", \"MME\", \"CLIMATE\", \"WS\"]\n",
    "#models = [\"WS\"]\n",
    "init_months = list(range(4,12))\n",
    "\n",
    "for im in init_months:\n",
    "    results = pd.DataFrame(0, index=models, columns=list(range(1993,2017)))\n",
    "    for model in models:\n",
    "        res = hf.kfold_cross_validation(kfold_cv_dataset, yield_national, contributions, model=model, init=im)\n",
    "        results.loc[model, :]\n",
    "        #print(res)\n",
    "        #results.loc[model, im] = np.round(100 * mse(res[\"yield\"], res[\"predicted\"], squared=False)/(res[\"yield\"].mean()), 2)\n",
    "        #pearson_r = pearsonr(res[\"yield\"], res[\"predicted\"])[0]\n",
    "        #if pearson_r < 0: pearson_r = 0\n",
    "        #results.loc[model, im] = np.round(pearson_r, 2)"
   ]
  },
  {
   "cell_type": "code",
   "execution_count": 174,
   "id": "e1b38c64",
   "metadata": {},
   "outputs": [
    {
     "data": {
      "text/html": [
       "<div>\n",
       "<style scoped>\n",
       "    .dataframe tbody tr th:only-of-type {\n",
       "        vertical-align: middle;\n",
       "    }\n",
       "\n",
       "    .dataframe tbody tr th {\n",
       "        vertical-align: top;\n",
       "    }\n",
       "\n",
       "    .dataframe thead th {\n",
       "        text-align: right;\n",
       "    }\n",
       "</style>\n",
       "<table border=\"1\" class=\"dataframe\">\n",
       "  <thead>\n",
       "    <tr style=\"text-align: right;\">\n",
       "      <th></th>\n",
       "      <th>4</th>\n",
       "      <th>5</th>\n",
       "      <th>6</th>\n",
       "      <th>7</th>\n",
       "      <th>8</th>\n",
       "      <th>9</th>\n",
       "      <th>10</th>\n",
       "      <th>11</th>\n",
       "    </tr>\n",
       "  </thead>\n",
       "  <tbody>\n",
       "    <tr>\n",
       "      <th>ECMWF</th>\n",
       "      <td>0.09</td>\n",
       "      <td>0.05</td>\n",
       "      <td>0.28</td>\n",
       "      <td>0.18</td>\n",
       "      <td>0.30</td>\n",
       "      <td>0.42</td>\n",
       "      <td>0.62</td>\n",
       "      <td>0.67</td>\n",
       "    </tr>\n",
       "    <tr>\n",
       "      <th>NCEP</th>\n",
       "      <td>-0.13</td>\n",
       "      <td>-0.02</td>\n",
       "      <td>-0.10</td>\n",
       "      <td>0.02</td>\n",
       "      <td>0.28</td>\n",
       "      <td>0.41</td>\n",
       "      <td>0.64</td>\n",
       "      <td>0.67</td>\n",
       "    </tr>\n",
       "    <tr>\n",
       "      <th>UKMO</th>\n",
       "      <td>0.08</td>\n",
       "      <td>-0.17</td>\n",
       "      <td>0.20</td>\n",
       "      <td>-0.01</td>\n",
       "      <td>0.27</td>\n",
       "      <td>0.40</td>\n",
       "      <td>0.63</td>\n",
       "      <td>0.67</td>\n",
       "    </tr>\n",
       "    <tr>\n",
       "      <th>MME</th>\n",
       "      <td>0.06</td>\n",
       "      <td>-0.01</td>\n",
       "      <td>0.25</td>\n",
       "      <td>0.15</td>\n",
       "      <td>0.31</td>\n",
       "      <td>0.42</td>\n",
       "      <td>0.63</td>\n",
       "      <td>0.67</td>\n",
       "    </tr>\n",
       "    <tr>\n",
       "      <th>CLIMATE</th>\n",
       "      <td>-0.19</td>\n",
       "      <td>-0.19</td>\n",
       "      <td>-0.19</td>\n",
       "      <td>-0.19</td>\n",
       "      <td>-0.19</td>\n",
       "      <td>0.35</td>\n",
       "      <td>0.55</td>\n",
       "      <td>0.67</td>\n",
       "    </tr>\n",
       "    <tr>\n",
       "      <th>WS</th>\n",
       "      <td>0.67</td>\n",
       "      <td>0.67</td>\n",
       "      <td>0.67</td>\n",
       "      <td>0.67</td>\n",
       "      <td>0.67</td>\n",
       "      <td>0.67</td>\n",
       "      <td>0.67</td>\n",
       "      <td>0.67</td>\n",
       "    </tr>\n",
       "  </tbody>\n",
       "</table>\n",
       "</div>"
      ],
      "text/plain": [
       "           4     5     6     7     8     9     10    11\n",
       "ECMWF    0.09  0.05  0.28  0.18  0.30  0.42  0.62  0.67\n",
       "NCEP    -0.13 -0.02 -0.10  0.02  0.28  0.41  0.64  0.67\n",
       "UKMO     0.08 -0.17  0.20 -0.01  0.27  0.40  0.63  0.67\n",
       "MME      0.06 -0.01  0.25  0.15  0.31  0.42  0.63  0.67\n",
       "CLIMATE -0.19 -0.19 -0.19 -0.19 -0.19  0.35  0.55  0.67\n",
       "WS       0.67  0.67  0.67  0.67  0.67  0.67  0.67  0.67"
      ]
     },
     "execution_count": 174,
     "metadata": {},
     "output_type": "execute_result"
    }
   ],
   "source": [
    "results"
   ]
  },
  {
   "cell_type": "code",
   "execution_count": 166,
   "id": "b07d50d7",
   "metadata": {},
   "outputs": [
    {
     "data": {
      "image/png": "[encoded data removed]",
      "text/plain": [
       "<Figure size 648x576 with 1 Axes>"
      ]
     },
     "metadata": {
      "needs_background": "light"
     },
     "output_type": "display_data"
    }
   ],
   "source": [
    "ax = results.transpose().plot(figsize=(9,8), marker='o')\n",
    "ax.grid('on', which='both', axis='y', linestyle='--', linewidth=.7)\n",
    "ax.grid('on', which='both', axis='x', linestyle='--', linewidth=.7)\n",
    "plt.savefig(\"rrmse.svg\")\n",
    "#ax.grid('off', which='major', axis='x' )"
   ]
  },
  {
   "cell_type": "code",
   "execution_count": 175,
   "id": "abcad5d5",
   "metadata": {},
   "outputs": [
    {
     "data": {
      "image/png": "[encoded data removed]",
      "text/plain": [
       "<Figure size 648x576 with 1 Axes>"
      ]
     },
     "metadata": {
      "needs_background": "light"
     },
     "output_type": "display_data"
    }
   ],
   "source": [
    "ax = results.transpose().plot(figsize=(9,8), marker='o')\n",
    "ax.grid('on', which='both', axis='y', linestyle='--', linewidth=.7)\n",
    "ax.grid('on', which='both', axis='x', linestyle='--', linewidth=.7)\n",
    "plt.savefig(\"rrmse.svg\")\n",
    "#ax.grid('off', which='major', axis='x' )"
   ]
  },
  {
   "cell_type": "code",
   "execution_count": null,
   "id": "49ab2fa1",
   "metadata": {},
   "outputs": [],
   "source": []
  }
 ],
 "metadata": {
  "kernelspec": {
   "display_name": "Python 3 (ipykernel)",
   "language": "python",
   "name": "python3"
  },
  "language_info": {
   "codemirror_mode": {
    "name": "ipython",
    "version": 3
   },
   "file_extension": ".py",
   "mimetype": "text/x-python",
   "name": "python",
   "nbconvert_exporter": "python",
   "pygments_lexer": "ipython3",
   "version": "3.9.12"
  }
 },
 "nbformat": 4,
 "nbformat_minor": 5
}
